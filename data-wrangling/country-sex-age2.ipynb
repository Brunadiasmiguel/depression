{
 "cells": [
  {
   "cell_type": "code",
   "execution_count": 1,
   "metadata": {},
   "outputs": [],
   "source": [
    "#importing libraries\n",
    "\n",
    "import pandas as pd\n",
    "import numpy as np"
   ]
  },
  {
   "cell_type": "code",
   "execution_count": 2,
   "metadata": {},
   "outputs": [],
   "source": [
    "df=pd.read_csv(\"../data/suicide_rate.csv\")"
   ]
  },
  {
   "cell_type": "code",
   "execution_count": 3,
   "metadata": {},
   "outputs": [],
   "source": [
    "df1=pd.read_csv('../data/prevalence-of-depression-by-age.csv')"
   ]
  },
  {
   "cell_type": "code",
   "execution_count": 4,
   "metadata": {},
   "outputs": [
    {
     "data": {
      "text/html": [
       "<div>\n",
       "<style scoped>\n",
       "    .dataframe tbody tr th:only-of-type {\n",
       "        vertical-align: middle;\n",
       "    }\n",
       "\n",
       "    .dataframe tbody tr th {\n",
       "        vertical-align: top;\n",
       "    }\n",
       "\n",
       "    .dataframe thead th {\n",
       "        text-align: right;\n",
       "    }\n",
       "</style>\n",
       "<table border=\"1\" class=\"dataframe\">\n",
       "  <thead>\n",
       "    <tr style=\"text-align: right;\">\n",
       "      <th></th>\n",
       "      <th>country</th>\n",
       "      <th>year</th>\n",
       "      <th>sex</th>\n",
       "      <th>age</th>\n",
       "      <th>suicides_no</th>\n",
       "      <th>population</th>\n",
       "      <th>suicides/100k pop</th>\n",
       "      <th>country-year</th>\n",
       "      <th>HDI for year</th>\n",
       "      <th>gdp_for_year ($)</th>\n",
       "      <th>gdp_per_capita ($)</th>\n",
       "      <th>generation</th>\n",
       "    </tr>\n",
       "  </thead>\n",
       "  <tbody>\n",
       "    <tr>\n",
       "      <th>0</th>\n",
       "      <td>Albania</td>\n",
       "      <td>1987</td>\n",
       "      <td>male</td>\n",
       "      <td>15-24 years</td>\n",
       "      <td>21</td>\n",
       "      <td>312900</td>\n",
       "      <td>6.71</td>\n",
       "      <td>Albania1987</td>\n",
       "      <td>NaN</td>\n",
       "      <td>2,156,624,900</td>\n",
       "      <td>796</td>\n",
       "      <td>Generation X</td>\n",
       "    </tr>\n",
       "    <tr>\n",
       "      <th>1</th>\n",
       "      <td>Albania</td>\n",
       "      <td>1987</td>\n",
       "      <td>male</td>\n",
       "      <td>35-54 years</td>\n",
       "      <td>16</td>\n",
       "      <td>308000</td>\n",
       "      <td>5.19</td>\n",
       "      <td>Albania1987</td>\n",
       "      <td>NaN</td>\n",
       "      <td>2,156,624,900</td>\n",
       "      <td>796</td>\n",
       "      <td>Silent</td>\n",
       "    </tr>\n",
       "    <tr>\n",
       "      <th>2</th>\n",
       "      <td>Albania</td>\n",
       "      <td>1987</td>\n",
       "      <td>female</td>\n",
       "      <td>15-24 years</td>\n",
       "      <td>14</td>\n",
       "      <td>289700</td>\n",
       "      <td>4.83</td>\n",
       "      <td>Albania1987</td>\n",
       "      <td>NaN</td>\n",
       "      <td>2,156,624,900</td>\n",
       "      <td>796</td>\n",
       "      <td>Generation X</td>\n",
       "    </tr>\n",
       "    <tr>\n",
       "      <th>3</th>\n",
       "      <td>Albania</td>\n",
       "      <td>1987</td>\n",
       "      <td>male</td>\n",
       "      <td>75+ years</td>\n",
       "      <td>1</td>\n",
       "      <td>21800</td>\n",
       "      <td>4.59</td>\n",
       "      <td>Albania1987</td>\n",
       "      <td>NaN</td>\n",
       "      <td>2,156,624,900</td>\n",
       "      <td>796</td>\n",
       "      <td>G.I. Generation</td>\n",
       "    </tr>\n",
       "    <tr>\n",
       "      <th>4</th>\n",
       "      <td>Albania</td>\n",
       "      <td>1987</td>\n",
       "      <td>male</td>\n",
       "      <td>25-34 years</td>\n",
       "      <td>9</td>\n",
       "      <td>274300</td>\n",
       "      <td>3.28</td>\n",
       "      <td>Albania1987</td>\n",
       "      <td>NaN</td>\n",
       "      <td>2,156,624,900</td>\n",
       "      <td>796</td>\n",
       "      <td>Boomers</td>\n",
       "    </tr>\n",
       "  </tbody>\n",
       "</table>\n",
       "</div>"
      ],
      "text/plain": [
       "   country  year     sex          age  suicides_no  population  \\\n",
       "0  Albania  1987    male  15-24 years           21      312900   \n",
       "1  Albania  1987    male  35-54 years           16      308000   \n",
       "2  Albania  1987  female  15-24 years           14      289700   \n",
       "3  Albania  1987    male    75+ years            1       21800   \n",
       "4  Albania  1987    male  25-34 years            9      274300   \n",
       "\n",
       "   suicides/100k pop country-year  HDI for year  gdp_for_year ($)   \\\n",
       "0               6.71  Albania1987           NaN      2,156,624,900   \n",
       "1               5.19  Albania1987           NaN      2,156,624,900   \n",
       "2               4.83  Albania1987           NaN      2,156,624,900   \n",
       "3               4.59  Albania1987           NaN      2,156,624,900   \n",
       "4               3.28  Albania1987           NaN      2,156,624,900   \n",
       "\n",
       "   gdp_per_capita ($)       generation  \n",
       "0                 796     Generation X  \n",
       "1                 796           Silent  \n",
       "2                 796     Generation X  \n",
       "3                 796  G.I. Generation  \n",
       "4                 796          Boomers  "
      ]
     },
     "execution_count": 4,
     "metadata": {},
     "output_type": "execute_result"
    }
   ],
   "source": [
    "df.head()"
   ]
  },
  {
   "cell_type": "code",
   "execution_count": 5,
   "metadata": {},
   "outputs": [
    {
     "data": {
      "text/html": [
       "<div>\n",
       "<style scoped>\n",
       "    .dataframe tbody tr th:only-of-type {\n",
       "        vertical-align: middle;\n",
       "    }\n",
       "\n",
       "    .dataframe tbody tr th {\n",
       "        vertical-align: top;\n",
       "    }\n",
       "\n",
       "    .dataframe thead th {\n",
       "        text-align: right;\n",
       "    }\n",
       "</style>\n",
       "<table border=\"1\" class=\"dataframe\">\n",
       "  <thead>\n",
       "    <tr style=\"text-align: right;\">\n",
       "      <th></th>\n",
       "      <th>Entity</th>\n",
       "      <th>Code</th>\n",
       "      <th>Year</th>\n",
       "      <th>Prevalence - Depressive disorders - Sex: Both - Age: 10 to 14 (Percent)</th>\n",
       "      <th>Prevalence - Depressive disorders - Sex: Both - Age: 15 to 19 (Percent)</th>\n",
       "      <th>Prevalence - Depressive disorders - Sex: Both - Age: 20 to 24 (Percent)</th>\n",
       "      <th>Prevalence - Depressive disorders - Sex: Both - Age: 25 to 29 (Percent)</th>\n",
       "      <th>Prevalence - Depressive disorders - Sex: Both - Age: 30 to 34 (Percent)</th>\n",
       "      <th>Prevalence - Depressive disorders - Sex: Both - Age: All Ages (Percent)</th>\n",
       "      <th>Prevalence - Depressive disorders - Sex: Both - Age: 15-49 years (Percent)</th>\n",
       "      <th>Prevalence - Depressive disorders - Sex: Both - Age: 50-69 years (Percent)</th>\n",
       "      <th>Prevalence - Depressive disorders - Sex: Both - Age: 70+ years (Percent)</th>\n",
       "      <th>Prevalence - Depressive disorders - Sex: Both - Age: Age-standardized (Percent)</th>\n",
       "    </tr>\n",
       "  </thead>\n",
       "  <tbody>\n",
       "    <tr>\n",
       "      <th>0</th>\n",
       "      <td>Afghanistan</td>\n",
       "      <td>AFG</td>\n",
       "      <td>1990</td>\n",
       "      <td>1.594676</td>\n",
       "      <td>3.455708</td>\n",
       "      <td>4.417802</td>\n",
       "      <td>5.175856</td>\n",
       "      <td>5.799034</td>\n",
       "      <td>3.218871</td>\n",
       "      <td>4.939766</td>\n",
       "      <td>5.917752</td>\n",
       "      <td>5.202803</td>\n",
       "      <td>4.071831</td>\n",
       "    </tr>\n",
       "    <tr>\n",
       "      <th>1</th>\n",
       "      <td>Afghanistan</td>\n",
       "      <td>AFG</td>\n",
       "      <td>1991</td>\n",
       "      <td>1.588356</td>\n",
       "      <td>3.451880</td>\n",
       "      <td>4.433524</td>\n",
       "      <td>5.176729</td>\n",
       "      <td>5.814828</td>\n",
       "      <td>3.203468</td>\n",
       "      <td>4.902682</td>\n",
       "      <td>5.927093</td>\n",
       "      <td>5.192849</td>\n",
       "      <td>4.079531</td>\n",
       "    </tr>\n",
       "    <tr>\n",
       "      <th>2</th>\n",
       "      <td>Afghanistan</td>\n",
       "      <td>AFG</td>\n",
       "      <td>1992</td>\n",
       "      <td>1.577980</td>\n",
       "      <td>3.434982</td>\n",
       "      <td>4.453689</td>\n",
       "      <td>5.160249</td>\n",
       "      <td>5.829745</td>\n",
       "      <td>3.156559</td>\n",
       "      <td>4.837097</td>\n",
       "      <td>5.945656</td>\n",
       "      <td>5.176872</td>\n",
       "      <td>4.088358</td>\n",
       "    </tr>\n",
       "    <tr>\n",
       "      <th>3</th>\n",
       "      <td>Afghanistan</td>\n",
       "      <td>AFG</td>\n",
       "      <td>1993</td>\n",
       "      <td>1.577201</td>\n",
       "      <td>3.420210</td>\n",
       "      <td>4.464517</td>\n",
       "      <td>5.148767</td>\n",
       "      <td>5.853060</td>\n",
       "      <td>3.120655</td>\n",
       "      <td>4.813657</td>\n",
       "      <td>5.966915</td>\n",
       "      <td>5.167355</td>\n",
       "      <td>4.096190</td>\n",
       "    </tr>\n",
       "    <tr>\n",
       "      <th>4</th>\n",
       "      <td>Afghanistan</td>\n",
       "      <td>AFG</td>\n",
       "      <td>1994</td>\n",
       "      <td>1.570846</td>\n",
       "      <td>3.425222</td>\n",
       "      <td>4.462960</td>\n",
       "      <td>5.148227</td>\n",
       "      <td>5.852851</td>\n",
       "      <td>3.082179</td>\n",
       "      <td>4.839340</td>\n",
       "      <td>5.975907</td>\n",
       "      <td>5.157549</td>\n",
       "      <td>4.099582</td>\n",
       "    </tr>\n",
       "  </tbody>\n",
       "</table>\n",
       "</div>"
      ],
      "text/plain": [
       "        Entity Code  Year  \\\n",
       "0  Afghanistan  AFG  1990   \n",
       "1  Afghanistan  AFG  1991   \n",
       "2  Afghanistan  AFG  1992   \n",
       "3  Afghanistan  AFG  1993   \n",
       "4  Afghanistan  AFG  1994   \n",
       "\n",
       "   Prevalence - Depressive disorders - Sex: Both - Age: 10 to 14 (Percent)  \\\n",
       "0                                           1.594676                         \n",
       "1                                           1.588356                         \n",
       "2                                           1.577980                         \n",
       "3                                           1.577201                         \n",
       "4                                           1.570846                         \n",
       "\n",
       "   Prevalence - Depressive disorders - Sex: Both - Age: 15 to 19 (Percent)  \\\n",
       "0                                           3.455708                         \n",
       "1                                           3.451880                         \n",
       "2                                           3.434982                         \n",
       "3                                           3.420210                         \n",
       "4                                           3.425222                         \n",
       "\n",
       "   Prevalence - Depressive disorders - Sex: Both - Age: 20 to 24 (Percent)  \\\n",
       "0                                           4.417802                         \n",
       "1                                           4.433524                         \n",
       "2                                           4.453689                         \n",
       "3                                           4.464517                         \n",
       "4                                           4.462960                         \n",
       "\n",
       "   Prevalence - Depressive disorders - Sex: Both - Age: 25 to 29 (Percent)  \\\n",
       "0                                           5.175856                         \n",
       "1                                           5.176729                         \n",
       "2                                           5.160249                         \n",
       "3                                           5.148767                         \n",
       "4                                           5.148227                         \n",
       "\n",
       "   Prevalence - Depressive disorders - Sex: Both - Age: 30 to 34 (Percent)  \\\n",
       "0                                           5.799034                         \n",
       "1                                           5.814828                         \n",
       "2                                           5.829745                         \n",
       "3                                           5.853060                         \n",
       "4                                           5.852851                         \n",
       "\n",
       "   Prevalence - Depressive disorders - Sex: Both - Age: All Ages (Percent)  \\\n",
       "0                                           3.218871                         \n",
       "1                                           3.203468                         \n",
       "2                                           3.156559                         \n",
       "3                                           3.120655                         \n",
       "4                                           3.082179                         \n",
       "\n",
       "   Prevalence - Depressive disorders - Sex: Both - Age: 15-49 years (Percent)  \\\n",
       "0                                           4.939766                            \n",
       "1                                           4.902682                            \n",
       "2                                           4.837097                            \n",
       "3                                           4.813657                            \n",
       "4                                           4.839340                            \n",
       "\n",
       "   Prevalence - Depressive disorders - Sex: Both - Age: 50-69 years (Percent)  \\\n",
       "0                                           5.917752                            \n",
       "1                                           5.927093                            \n",
       "2                                           5.945656                            \n",
       "3                                           5.966915                            \n",
       "4                                           5.975907                            \n",
       "\n",
       "   Prevalence - Depressive disorders - Sex: Both - Age: 70+ years (Percent)  \\\n",
       "0                                           5.202803                          \n",
       "1                                           5.192849                          \n",
       "2                                           5.176872                          \n",
       "3                                           5.167355                          \n",
       "4                                           5.157549                          \n",
       "\n",
       "   Prevalence - Depressive disorders - Sex: Both - Age: Age-standardized (Percent)  \n",
       "0                                           4.071831                                \n",
       "1                                           4.079531                                \n",
       "2                                           4.088358                                \n",
       "3                                           4.096190                                \n",
       "4                                           4.099582                                "
      ]
     },
     "execution_count": 5,
     "metadata": {},
     "output_type": "execute_result"
    }
   ],
   "source": [
    "df1.head()"
   ]
  },
  {
   "cell_type": "code",
   "execution_count": 6,
   "metadata": {},
   "outputs": [
    {
     "data": {
      "text/plain": [
       "Index(['Entity', 'Code', 'Year',\n",
       "       'Prevalence - Depressive disorders - Sex: Both - Age: 10 to 14 (Percent)',\n",
       "       'Prevalence - Depressive disorders - Sex: Both - Age: 15 to 19 (Percent)',\n",
       "       'Prevalence - Depressive disorders - Sex: Both - Age: 20 to 24 (Percent)',\n",
       "       'Prevalence - Depressive disorders - Sex: Both - Age: 25 to 29 (Percent)',\n",
       "       'Prevalence - Depressive disorders - Sex: Both - Age: 30 to 34 (Percent)',\n",
       "       'Prevalence - Depressive disorders - Sex: Both - Age: All Ages (Percent)',\n",
       "       'Prevalence - Depressive disorders - Sex: Both - Age: 15-49 years (Percent)',\n",
       "       'Prevalence - Depressive disorders - Sex: Both - Age: 50-69 years (Percent)',\n",
       "       'Prevalence - Depressive disorders - Sex: Both - Age: 70+ years (Percent)',\n",
       "       'Prevalence - Depressive disorders - Sex: Both - Age: Age-standardized (Percent)'],\n",
       "      dtype='object')"
      ]
     },
     "execution_count": 6,
     "metadata": {},
     "output_type": "execute_result"
    }
   ],
   "source": [
    "df1.columns"
   ]
  },
  {
   "cell_type": "code",
   "execution_count": 7,
   "metadata": {},
   "outputs": [],
   "source": [
    "#df2=df1.melt(['Entity','Year'])"
   ]
  },
  {
   "cell_type": "code",
   "execution_count": 8,
   "metadata": {},
   "outputs": [],
   "source": [
    "#df2.loc[df2['Entity']=='Afghanistan']"
   ]
  },
  {
   "cell_type": "code",
   "execution_count": 9,
   "metadata": {},
   "outputs": [],
   "source": [
    "#df2.to_csv('afg.csv')"
   ]
  },
  {
   "cell_type": "code",
   "execution_count": 10,
   "metadata": {},
   "outputs": [],
   "source": [
    "df2=df1.melt(['Entity','Year'],value_vars=['Prevalence - Depressive disorders - Sex: Both - Age: 10 to 14 (Percent)','Prevalence - Depressive disorders - Sex: Both - Age: 15 to 19 (Percent)','Prevalence - Depressive disorders - Sex: Both - Age: 20 to 24 (Percent)','Prevalence - Depressive disorders - Sex: Both - Age: 25 to 29 (Percent)','Prevalence - Depressive disorders - Sex: Both - Age: 30 to 34 (Percent)','Prevalence - Depressive disorders - Sex: Both - Age: All Ages (Percent)','Prevalence - Depressive disorders - Sex: Both - Age: 15-49 years (Percent)','Prevalence - Depressive disorders - Sex: Both - Age: 50-69 years (Percent)','Prevalence - Depressive disorders - Sex: Both - Age: 70+ years (Percent)'])"
   ]
  },
  {
   "cell_type": "code",
   "execution_count": 11,
   "metadata": {},
   "outputs": [],
   "source": [
    "#df.groupby(['country','sex','age']).agg{''}"
   ]
  },
  {
   "cell_type": "code",
   "execution_count": 12,
   "metadata": {},
   "outputs": [
    {
     "data": {
      "text/html": [
       "<div>\n",
       "<style scoped>\n",
       "    .dataframe tbody tr th:only-of-type {\n",
       "        vertical-align: middle;\n",
       "    }\n",
       "\n",
       "    .dataframe tbody tr th {\n",
       "        vertical-align: top;\n",
       "    }\n",
       "\n",
       "    .dataframe thead th {\n",
       "        text-align: right;\n",
       "    }\n",
       "</style>\n",
       "<table border=\"1\" class=\"dataframe\">\n",
       "  <thead>\n",
       "    <tr style=\"text-align: right;\">\n",
       "      <th></th>\n",
       "      <th>Entity</th>\n",
       "      <th>Year</th>\n",
       "      <th>variable</th>\n",
       "      <th>value</th>\n",
       "    </tr>\n",
       "  </thead>\n",
       "  <tbody>\n",
       "    <tr>\n",
       "      <th>0</th>\n",
       "      <td>Afghanistan</td>\n",
       "      <td>1990</td>\n",
       "      <td>Prevalence - Depressive disorders - Sex: Both ...</td>\n",
       "      <td>1.594676</td>\n",
       "    </tr>\n",
       "    <tr>\n",
       "      <th>1</th>\n",
       "      <td>Afghanistan</td>\n",
       "      <td>1991</td>\n",
       "      <td>Prevalence - Depressive disorders - Sex: Both ...</td>\n",
       "      <td>1.588356</td>\n",
       "    </tr>\n",
       "    <tr>\n",
       "      <th>2</th>\n",
       "      <td>Afghanistan</td>\n",
       "      <td>1992</td>\n",
       "      <td>Prevalence - Depressive disorders - Sex: Both ...</td>\n",
       "      <td>1.577980</td>\n",
       "    </tr>\n",
       "    <tr>\n",
       "      <th>3</th>\n",
       "      <td>Afghanistan</td>\n",
       "      <td>1993</td>\n",
       "      <td>Prevalence - Depressive disorders - Sex: Both ...</td>\n",
       "      <td>1.577201</td>\n",
       "    </tr>\n",
       "    <tr>\n",
       "      <th>4</th>\n",
       "      <td>Afghanistan</td>\n",
       "      <td>1994</td>\n",
       "      <td>Prevalence - Depressive disorders - Sex: Both ...</td>\n",
       "      <td>1.570846</td>\n",
       "    </tr>\n",
       "  </tbody>\n",
       "</table>\n",
       "</div>"
      ],
      "text/plain": [
       "        Entity  Year                                           variable  \\\n",
       "0  Afghanistan  1990  Prevalence - Depressive disorders - Sex: Both ...   \n",
       "1  Afghanistan  1991  Prevalence - Depressive disorders - Sex: Both ...   \n",
       "2  Afghanistan  1992  Prevalence - Depressive disorders - Sex: Both ...   \n",
       "3  Afghanistan  1993  Prevalence - Depressive disorders - Sex: Both ...   \n",
       "4  Afghanistan  1994  Prevalence - Depressive disorders - Sex: Both ...   \n",
       "\n",
       "      value  \n",
       "0  1.594676  \n",
       "1  1.588356  \n",
       "2  1.577980  \n",
       "3  1.577201  \n",
       "4  1.570846  "
      ]
     },
     "execution_count": 12,
     "metadata": {},
     "output_type": "execute_result"
    }
   ],
   "source": [
    "df2.head()"
   ]
  },
  {
   "cell_type": "code",
   "execution_count": 13,
   "metadata": {},
   "outputs": [
    {
     "data": {
      "text/plain": [
       "Index(['Entity', 'Year', 'variable', 'value'], dtype='object')"
      ]
     },
     "execution_count": 13,
     "metadata": {},
     "output_type": "execute_result"
    }
   ],
   "source": [
    "df2.columns"
   ]
  },
  {
   "cell_type": "code",
   "execution_count": 14,
   "metadata": {},
   "outputs": [],
   "source": [
    "#df2.loc[df2['variable'].str.contains(r'Age: 10 to 14')] = '15-24 years'\n",
    "\n",
    "#df2.head()"
   ]
  },
  {
   "cell_type": "code",
   "execution_count": 39,
   "metadata": {},
   "outputs": [
    {
     "data": {
      "text/plain": [
       "0        Prevalence - Depressive disorders - Sex: Both ...\n",
       "1        Prevalence - Depressive disorders - Sex: Both ...\n",
       "2        Prevalence - Depressive disorders - Sex: Both ...\n",
       "3        Prevalence - Depressive disorders - Sex: Both ...\n",
       "4        Prevalence - Depressive disorders - Sex: Both ...\n",
       "                               ...                        \n",
       "58207    Prevalence - Depressive disorders - Sex: Both ...\n",
       "58208    Prevalence - Depressive disorders - Sex: Both ...\n",
       "58209    Prevalence - Depressive disorders - Sex: Both ...\n",
       "58210    Prevalence - Depressive disorders - Sex: Both ...\n",
       "58211    Prevalence - Depressive disorders - Sex: Both ...\n",
       "Name: variable, Length: 58212, dtype: object"
      ]
     },
     "execution_count": 39,
     "metadata": {},
     "output_type": "execute_result"
    }
   ],
   "source": [
    "#df2['variable'].str.replace('Prevalence - Depressive disorders - Sex: Both - Age: 20 to 24 (Percent)','15-24 years')\n",
    "                               # .str.replace('Prevalence - Depressive disorders - Sex: Both - Age: 20 to 24 (Percent)','15-24 years'))"
   ]
  },
  {
   "cell_type": "code",
   "execution_count": 41,
   "metadata": {},
   "outputs": [
    {
     "data": {
      "text/plain": [
       "0        Prevalence - Depressive disorders - Sex: Both ...\n",
       "1        Prevalence - Depressive disorders - Sex: Both ...\n",
       "2        Prevalence - Depressive disorders - Sex: Both ...\n",
       "3        Prevalence - Depressive disorders - Sex: Both ...\n",
       "4        Prevalence - Depressive disorders - Sex: Both ...\n",
       "                               ...                        \n",
       "58207    Prevalence - Depressive disorders - Sex: Both ...\n",
       "58208    Prevalence - Depressive disorders - Sex: Both ...\n",
       "58209    Prevalence - Depressive disorders - Sex: Both ...\n",
       "58210    Prevalence - Depressive disorders - Sex: Both ...\n",
       "58211    Prevalence - Depressive disorders - Sex: Both ...\n",
       "Name: variable, Length: 58212, dtype: object"
      ]
     },
     "execution_count": 41,
     "metadata": {},
     "output_type": "execute_result"
    }
   ],
   "source": [
    "#df2['variable'].str.replace('10-14','15-24 years').str.replace(' ', '')\n",
    "\n"
   ]
  },
  {
   "cell_type": "code",
   "execution_count": 55,
   "metadata": {},
   "outputs": [],
   "source": [
    "df2['variable']=df2['variable'].str.replace(' ','').str.replace(r'\\W','')"
   ]
  },
  {
   "cell_type": "code",
   "execution_count": 56,
   "metadata": {},
   "outputs": [
    {
     "data": {
      "text/plain": [
       "PrevalenceDepressivedisordersSexBothAgeAllAgesPercent      6468\n",
       "PrevalenceDepressivedisordersSexBothAge15to19Percent       6468\n",
       "PrevalenceDepressivedisordersSexBothAge70yearsPercent      6468\n",
       "PrevalenceDepressivedisordersSexBothAge25to29Percent       6468\n",
       "PrevalenceDepressivedisordersSexBothAge20to24Percent       6468\n",
       "PrevalenceDepressivedisordersSexBothAge5069yearsPercent    6468\n",
       "PrevalenceDepressivedisordersSexBothAge10to14Percent       6468\n",
       "PrevalenceDepressivedisordersSexBothAge30to34Percent       6468\n",
       "PrevalenceDepressivedisordersSexBothAge1549yearsPercent    6468\n",
       "Name: variable, dtype: int64"
      ]
     },
     "execution_count": 56,
     "metadata": {},
     "output_type": "execute_result"
    }
   ],
   "source": [
    "df2['variable'].value_counts()"
   ]
  },
  {
   "cell_type": "code",
   "execution_count": 64,
   "metadata": {},
   "outputs": [],
   "source": [
    "df2['variable']=(df2['variable'].str.replace(\"PrevalenceDepressivedisordersSexBothAge70yearsPercent\",\"35+ years\" )\n",
    "                                .str.replace(\"PrevalenceDepressivedisordersSexBothAge15to19Percent\",\"15-24 years\")\n",
    "                                .str.replace(\"PrevalenceDepressivedisordersSexBothAge25to29Percent\",\"25-34 years\")\n",
    "                                .str.replace(\"PrevalenceDepressivedisordersSexBothAge20to24Percent\",\"15-24 years\")\n",
    "                                .str.replace(\"PrevalenceDepressivedisordersSexBothAge5069yearsPercent\",\"35+ years\")\n",
    "                                .str.replace(\"PrevalenceDepressivedisordersSexBothAge10to14Percent\", \"14- years\")\n",
    "                                .str.replace(\"PrevalenceDepressivedisordersSexBothAge30to34Percent\", \"25-34 years\")\n",
    "                                .str.replace(\"PrevalenceDepressivedisordersSexBothAge1549yearsPercent\",\"35+ years\")\n",
    "                                .str.replace(\"PrevalenceDepressivedisordersSexBothAgeAllAgesPercent\", \"All ages\"))"
   ]
  },
  {
   "cell_type": "code",
   "execution_count": 65,
   "metadata": {},
   "outputs": [
    {
     "data": {
      "text/plain": [
       "35+ years      19404\n",
       "25-34 years    12936\n",
       "15-24 years    12936\n",
       "14- years       6468\n",
       "All ages        6468\n",
       "Name: variable, dtype: int64"
      ]
     },
     "execution_count": 65,
     "metadata": {},
     "output_type": "execute_result"
    }
   ],
   "source": [
    "df2[\"variable\"].value_counts()\n"
   ]
  },
  {
   "cell_type": "code",
   "execution_count": 69,
   "metadata": {},
   "outputs": [
    {
     "data": {
      "text/html": [
       "<div>\n",
       "<style scoped>\n",
       "    .dataframe tbody tr th:only-of-type {\n",
       "        vertical-align: middle;\n",
       "    }\n",
       "\n",
       "    .dataframe tbody tr th {\n",
       "        vertical-align: top;\n",
       "    }\n",
       "\n",
       "    .dataframe thead th {\n",
       "        text-align: right;\n",
       "    }\n",
       "</style>\n",
       "<table border=\"1\" class=\"dataframe\">\n",
       "  <thead>\n",
       "    <tr style=\"text-align: right;\">\n",
       "      <th></th>\n",
       "      <th></th>\n",
       "      <th></th>\n",
       "      <th>value</th>\n",
       "    </tr>\n",
       "    <tr>\n",
       "      <th>Entity</th>\n",
       "      <th>Year</th>\n",
       "      <th>variable</th>\n",
       "      <th></th>\n",
       "    </tr>\n",
       "  </thead>\n",
       "  <tbody>\n",
       "    <tr>\n",
       "      <th rowspan=\"5\" valign=\"top\">Afghanistan</th>\n",
       "      <th rowspan=\"5\" valign=\"top\">1990</th>\n",
       "      <th>14- years</th>\n",
       "      <td>1.594676</td>\n",
       "    </tr>\n",
       "    <tr>\n",
       "      <th>15-24 years</th>\n",
       "      <td>3.936755</td>\n",
       "    </tr>\n",
       "    <tr>\n",
       "      <th>25-34 years</th>\n",
       "      <td>5.487445</td>\n",
       "    </tr>\n",
       "    <tr>\n",
       "      <th>35+ years</th>\n",
       "      <td>5.353440</td>\n",
       "    </tr>\n",
       "    <tr>\n",
       "      <th>All ages</th>\n",
       "      <td>3.218871</td>\n",
       "    </tr>\n",
       "    <tr>\n",
       "      <th>...</th>\n",
       "      <th>...</th>\n",
       "      <th>...</th>\n",
       "      <td>...</td>\n",
       "    </tr>\n",
       "    <tr>\n",
       "      <th rowspan=\"5\" valign=\"top\">Zimbabwe</th>\n",
       "      <th rowspan=\"5\" valign=\"top\">2017</th>\n",
       "      <th>14- years</th>\n",
       "      <td>1.073118</td>\n",
       "    </tr>\n",
       "    <tr>\n",
       "      <th>15-24 years</th>\n",
       "      <td>2.651559</td>\n",
       "    </tr>\n",
       "    <tr>\n",
       "      <th>25-34 years</th>\n",
       "      <td>3.205170</td>\n",
       "    </tr>\n",
       "    <tr>\n",
       "      <th>35+ years</th>\n",
       "      <td>5.509123</td>\n",
       "    </tr>\n",
       "    <tr>\n",
       "      <th>All ages</th>\n",
       "      <td>2.415746</td>\n",
       "    </tr>\n",
       "  </tbody>\n",
       "</table>\n",
       "<p>32340 rows × 1 columns</p>\n",
       "</div>"
      ],
      "text/plain": [
       "                                 value\n",
       "Entity      Year variable             \n",
       "Afghanistan 1990 14- years    1.594676\n",
       "                 15-24 years  3.936755\n",
       "                 25-34 years  5.487445\n",
       "                 35+ years    5.353440\n",
       "                 All ages     3.218871\n",
       "...                                ...\n",
       "Zimbabwe    2017 14- years    1.073118\n",
       "                 15-24 years  2.651559\n",
       "                 25-34 years  3.205170\n",
       "                 35+ years    5.509123\n",
       "                 All ages     2.415746\n",
       "\n",
       "[32340 rows x 1 columns]"
      ]
     },
     "execution_count": 69,
     "metadata": {},
     "output_type": "execute_result"
    }
   ],
   "source": [
    "df2a=df2.groupby(['Entity','Year','variable']).agg({'value':'mean'})\n",
    "\n",
    "df2a"
   ]
  },
  {
   "cell_type": "code",
   "execution_count": 58,
   "metadata": {},
   "outputs": [
    {
     "data": {
      "text/plain": [
       "PrevalenceDepressivedisordersSexBothAgeAllAgesPercent      6468\n",
       "PrevalenceDepressivedisordersSexBothAge70yearsPercent      6468\n",
       "PrevalenceDepressivedisordersSexBothAge25to29Percent       6468\n",
       "15-24 years                                                6468\n",
       "PrevalenceDepressivedisordersSexBothAge20to24Percent       6468\n",
       "PrevalenceDepressivedisordersSexBothAge5069yearsPercent    6468\n",
       "PrevalenceDepressivedisordersSexBothAge10to14Percent       6468\n",
       "PrevalenceDepressivedisordersSexBothAge30to34Percent       6468\n",
       "PrevalenceDepressivedisordersSexBothAge1549yearsPercent    6468\n",
       "Name: variable, dtype: int64"
      ]
     },
     "execution_count": 58,
     "metadata": {},
     "output_type": "execute_result"
    }
   ],
   "source": [
    "df2['variable'].value_counts()"
   ]
  },
  {
   "cell_type": "code",
   "execution_count": 37,
   "metadata": {},
   "outputs": [
    {
     "data": {
      "text/html": [
       "<div>\n",
       "<style scoped>\n",
       "    .dataframe tbody tr th:only-of-type {\n",
       "        vertical-align: middle;\n",
       "    }\n",
       "\n",
       "    .dataframe tbody tr th {\n",
       "        vertical-align: top;\n",
       "    }\n",
       "\n",
       "    .dataframe thead th {\n",
       "        text-align: right;\n",
       "    }\n",
       "</style>\n",
       "<table border=\"1\" class=\"dataframe\">\n",
       "  <thead>\n",
       "    <tr style=\"text-align: right;\">\n",
       "      <th></th>\n",
       "      <th>Entity</th>\n",
       "      <th>Year</th>\n",
       "      <th>variable</th>\n",
       "      <th>value</th>\n",
       "    </tr>\n",
       "  </thead>\n",
       "  <tbody>\n",
       "    <tr>\n",
       "      <th>0</th>\n",
       "      <td>Afghanistan</td>\n",
       "      <td>1990</td>\n",
       "      <td>Prevalence - Depressive disorders - Sex: Both ...</td>\n",
       "      <td>1.594676</td>\n",
       "    </tr>\n",
       "    <tr>\n",
       "      <th>1</th>\n",
       "      <td>Afghanistan</td>\n",
       "      <td>1991</td>\n",
       "      <td>Prevalence - Depressive disorders - Sex: Both ...</td>\n",
       "      <td>1.588356</td>\n",
       "    </tr>\n",
       "    <tr>\n",
       "      <th>2</th>\n",
       "      <td>Afghanistan</td>\n",
       "      <td>1992</td>\n",
       "      <td>Prevalence - Depressive disorders - Sex: Both ...</td>\n",
       "      <td>1.577980</td>\n",
       "    </tr>\n",
       "    <tr>\n",
       "      <th>3</th>\n",
       "      <td>Afghanistan</td>\n",
       "      <td>1993</td>\n",
       "      <td>Prevalence - Depressive disorders - Sex: Both ...</td>\n",
       "      <td>1.577201</td>\n",
       "    </tr>\n",
       "    <tr>\n",
       "      <th>4</th>\n",
       "      <td>Afghanistan</td>\n",
       "      <td>1994</td>\n",
       "      <td>Prevalence - Depressive disorders - Sex: Both ...</td>\n",
       "      <td>1.570846</td>\n",
       "    </tr>\n",
       "    <tr>\n",
       "      <th>...</th>\n",
       "      <td>...</td>\n",
       "      <td>...</td>\n",
       "      <td>...</td>\n",
       "      <td>...</td>\n",
       "    </tr>\n",
       "    <tr>\n",
       "      <th>58207</th>\n",
       "      <td>Zimbabwe</td>\n",
       "      <td>2013</td>\n",
       "      <td>Prevalence - Depressive disorders - Sex: Both ...</td>\n",
       "      <td>7.443744</td>\n",
       "    </tr>\n",
       "    <tr>\n",
       "      <th>58208</th>\n",
       "      <td>Zimbabwe</td>\n",
       "      <td>2014</td>\n",
       "      <td>Prevalence - Depressive disorders - Sex: Both ...</td>\n",
       "      <td>7.457945</td>\n",
       "    </tr>\n",
       "    <tr>\n",
       "      <th>58209</th>\n",
       "      <td>Zimbabwe</td>\n",
       "      <td>2015</td>\n",
       "      <td>Prevalence - Depressive disorders - Sex: Both ...</td>\n",
       "      <td>7.469626</td>\n",
       "    </tr>\n",
       "    <tr>\n",
       "      <th>58210</th>\n",
       "      <td>Zimbabwe</td>\n",
       "      <td>2016</td>\n",
       "      <td>Prevalence - Depressive disorders - Sex: Both ...</td>\n",
       "      <td>7.481952</td>\n",
       "    </tr>\n",
       "    <tr>\n",
       "      <th>58211</th>\n",
       "      <td>Zimbabwe</td>\n",
       "      <td>2017</td>\n",
       "      <td>Prevalence - Depressive disorders - Sex: Both ...</td>\n",
       "      <td>7.503119</td>\n",
       "    </tr>\n",
       "  </tbody>\n",
       "</table>\n",
       "<p>58212 rows × 4 columns</p>\n",
       "</div>"
      ],
      "text/plain": [
       "            Entity  Year                                           variable  \\\n",
       "0      Afghanistan  1990  Prevalence - Depressive disorders - Sex: Both ...   \n",
       "1      Afghanistan  1991  Prevalence - Depressive disorders - Sex: Both ...   \n",
       "2      Afghanistan  1992  Prevalence - Depressive disorders - Sex: Both ...   \n",
       "3      Afghanistan  1993  Prevalence - Depressive disorders - Sex: Both ...   \n",
       "4      Afghanistan  1994  Prevalence - Depressive disorders - Sex: Both ...   \n",
       "...            ...   ...                                                ...   \n",
       "58207     Zimbabwe  2013  Prevalence - Depressive disorders - Sex: Both ...   \n",
       "58208     Zimbabwe  2014  Prevalence - Depressive disorders - Sex: Both ...   \n",
       "58209     Zimbabwe  2015  Prevalence - Depressive disorders - Sex: Both ...   \n",
       "58210     Zimbabwe  2016  Prevalence - Depressive disorders - Sex: Both ...   \n",
       "58211     Zimbabwe  2017  Prevalence - Depressive disorders - Sex: Both ...   \n",
       "\n",
       "          value  \n",
       "0      1.594676  \n",
       "1      1.588356  \n",
       "2      1.577980  \n",
       "3      1.577201  \n",
       "4      1.570846  \n",
       "...         ...  \n",
       "58207  7.443744  \n",
       "58208  7.457945  \n",
       "58209  7.469626  \n",
       "58210  7.481952  \n",
       "58211  7.503119  \n",
       "\n",
       "[58212 rows x 4 columns]"
      ]
     },
     "execution_count": 37,
     "metadata": {},
     "output_type": "execute_result"
    }
   ],
   "source": [
    "#df2.loc[df2['Y']=="
   ]
  },
  {
   "cell_type": "code",
   "execution_count": 42,
   "metadata": {},
   "outputs": [
    {
     "data": {
      "text/plain": [
       "Prevalence - Depressive disorders - Sex: Both - Age: 20 to 24 (Percent)       6468\n",
       "Prevalence - Depressive disorders - Sex: Both - Age: 15 to 19 (Percent)       6468\n",
       "Prevalence - Depressive disorders - Sex: Both - Age: 50-69 years (Percent)    6468\n",
       "Prevalence - Depressive disorders - Sex: Both - Age: 10 to 14 (Percent)       6468\n",
       "Prevalence - Depressive disorders - Sex: Both - Age: 15-49 years (Percent)    6468\n",
       "Prevalence - Depressive disorders - Sex: Both - Age: 30 to 34 (Percent)       6468\n",
       "Prevalence - Depressive disorders - Sex: Both - Age: 70+ years (Percent)      6468\n",
       "Prevalence - Depressive disorders - Sex: Both - Age: 25 to 29 (Percent)       6468\n",
       "Prevalence - Depressive disorders - Sex: Both - Age: All Ages (Percent)       6468\n",
       "Name: variable, dtype: int64"
      ]
     },
     "execution_count": 42,
     "metadata": {},
     "output_type": "execute_result"
    }
   ],
   "source": [
    "df2['variable'].value_counts()"
   ]
  },
  {
   "cell_type": "code",
   "execution_count": null,
   "metadata": {},
   "outputs": [],
   "source": []
  }
 ],
 "metadata": {
  "kernelspec": {
   "display_name": "Python 3",
   "language": "python",
   "name": "python3"
  },
  "language_info": {
   "codemirror_mode": {
    "name": "ipython",
    "version": 3
   },
   "file_extension": ".py",
   "mimetype": "text/x-python",
   "name": "python",
   "nbconvert_exporter": "python",
   "pygments_lexer": "ipython3",
   "version": "3.8.5"
  }
 },
 "nbformat": 4,
 "nbformat_minor": 4
}
