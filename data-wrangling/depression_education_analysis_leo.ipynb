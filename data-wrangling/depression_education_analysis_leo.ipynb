{
 "cells": [
  {
   "cell_type": "code",
   "execution_count": 1,
   "metadata": {},
   "outputs": [],
   "source": [
    "import numpy as np\n",
    "import pandas as pd\n",
    "import matplotlib.pyplot as plt\n",
    "import seaborn as sns\n",
    "import statsmodels.api as sm"
   ]
  },
  {
   "cell_type": "markdown",
   "metadata": {},
   "source": [
    "# importing the csv file, do basic inspection, dropping NaN values"
   ]
  },
  {
   "cell_type": "code",
   "execution_count": 71,
   "metadata": {},
   "outputs": [],
   "source": [
    "# depression by level of education 2014 dataset\n",
    "df_country = pd.read_csv('../data/number-with-depression-by-country.csv')\n",
    "df_devInd = pd.read_csv('../data/human-development-index.csv')\n",
    "df_happiness = pd.read_csv('../data/world_happiness_index.csv')\n",
    "df_depr = pd.read_csv('../data/prevalence-of-depression-by-age.csv')"
   ]
  },
  {
   "cell_type": "markdown",
   "metadata": {},
   "source": []
  },
  {
   "cell_type": "code",
   "execution_count": 3,
   "metadata": {},
   "outputs": [],
   "source": [
    "# functions used to check for mismatches in country names in different csv files\n",
    "def list_diff(list1, list2): \n",
    "    return (list(set(list1) - set(list2))) "
   ]
  },
  {
   "cell_type": "markdown",
   "metadata": {},
   "source": [
    "load and inspect df_country"
   ]
  },
  {
   "cell_type": "code",
   "execution_count": 4,
   "metadata": {},
   "outputs": [
    {
     "data": {
      "text/html": [
       "<div>\n",
       "<style scoped>\n",
       "    .dataframe tbody tr th:only-of-type {\n",
       "        vertical-align: middle;\n",
       "    }\n",
       "\n",
       "    .dataframe tbody tr th {\n",
       "        vertical-align: top;\n",
       "    }\n",
       "\n",
       "    .dataframe thead th {\n",
       "        text-align: right;\n",
       "    }\n",
       "</style>\n",
       "<table border=\"1\" class=\"dataframe\">\n",
       "  <thead>\n",
       "    <tr style=\"text-align: right;\">\n",
       "      <th></th>\n",
       "      <th>Entity</th>\n",
       "      <th>Code</th>\n",
       "      <th>Year</th>\n",
       "      <th>Prevalence - Depressive disorders - Sex: Both - Age: All Ages (Number)</th>\n",
       "    </tr>\n",
       "  </thead>\n",
       "  <tbody>\n",
       "    <tr>\n",
       "      <th>0</th>\n",
       "      <td>Afghanistan</td>\n",
       "      <td>AFG</td>\n",
       "      <td>1990</td>\n",
       "      <td>318435.813670</td>\n",
       "    </tr>\n",
       "    <tr>\n",
       "      <th>1</th>\n",
       "      <td>Afghanistan</td>\n",
       "      <td>AFG</td>\n",
       "      <td>1991</td>\n",
       "      <td>329044.773956</td>\n",
       "    </tr>\n",
       "    <tr>\n",
       "      <th>2</th>\n",
       "      <td>Afghanistan</td>\n",
       "      <td>AFG</td>\n",
       "      <td>1992</td>\n",
       "      <td>382544.572895</td>\n",
       "    </tr>\n",
       "    <tr>\n",
       "      <th>3</th>\n",
       "      <td>Afghanistan</td>\n",
       "      <td>AFG</td>\n",
       "      <td>1993</td>\n",
       "      <td>440381.507393</td>\n",
       "    </tr>\n",
       "    <tr>\n",
       "      <th>4</th>\n",
       "      <td>Afghanistan</td>\n",
       "      <td>AFG</td>\n",
       "      <td>1994</td>\n",
       "      <td>456916.645489</td>\n",
       "    </tr>\n",
       "  </tbody>\n",
       "</table>\n",
       "</div>"
      ],
      "text/plain": [
       "        Entity Code  Year  \\\n",
       "0  Afghanistan  AFG  1990   \n",
       "1  Afghanistan  AFG  1991   \n",
       "2  Afghanistan  AFG  1992   \n",
       "3  Afghanistan  AFG  1993   \n",
       "4  Afghanistan  AFG  1994   \n",
       "\n",
       "   Prevalence - Depressive disorders - Sex: Both - Age: All Ages (Number)  \n",
       "0                                      318435.813670                       \n",
       "1                                      329044.773956                       \n",
       "2                                      382544.572895                       \n",
       "3                                      440381.507393                       \n",
       "4                                      456916.645489                       "
      ]
     },
     "execution_count": 4,
     "metadata": {},
     "output_type": "execute_result"
    }
   ],
   "source": [
    "df_country.head()"
   ]
  },
  {
   "cell_type": "code",
   "execution_count": 5,
   "metadata": {},
   "outputs": [],
   "source": [
    "df_country.rename(columns = {'Prevalence - Depressive disorders - Sex: Both - Age: All Ages (Number)': 'absolute_numbers'}, inplace= True)"
   ]
  },
  {
   "cell_type": "code",
   "execution_count": 6,
   "metadata": {},
   "outputs": [],
   "source": [
    "df_country_nan = df_country[df_country.isna().any(axis=1)]\n",
    "entity_list = [i for i in df_country_nan['Entity']]\n",
    "nan_value_countries = set(entity_list)"
   ]
  },
  {
   "cell_type": "markdown",
   "metadata": {},
   "source": [
    "Since df_country only have absolute numbers, we wil use df_depr due to the avaibility of the percentage"
   ]
  },
  {
   "cell_type": "code",
   "execution_count": 7,
   "metadata": {},
   "outputs": [],
   "source": [
    "df_depr.rename(columns ={'Prevalence - Depressive disorders - Sex: Both - Age: Age-standardized (Percent)':'depression_percentage'}, inplace=True)"
   ]
  },
  {
   "cell_type": "code",
   "execution_count": 8,
   "metadata": {},
   "outputs": [],
   "source": [
    "df_depr = df_depr[['Entity','Code','Year','depression_percentage']]"
   ]
  },
  {
   "cell_type": "code",
   "execution_count": 9,
   "metadata": {},
   "outputs": [
    {
     "data": {
      "text/html": [
       "<div>\n",
       "<style scoped>\n",
       "    .dataframe tbody tr th:only-of-type {\n",
       "        vertical-align: middle;\n",
       "    }\n",
       "\n",
       "    .dataframe tbody tr th {\n",
       "        vertical-align: top;\n",
       "    }\n",
       "\n",
       "    .dataframe thead th {\n",
       "        text-align: right;\n",
       "    }\n",
       "</style>\n",
       "<table border=\"1\" class=\"dataframe\">\n",
       "  <thead>\n",
       "    <tr style=\"text-align: right;\">\n",
       "      <th></th>\n",
       "      <th>Entity</th>\n",
       "      <th>Code</th>\n",
       "      <th>Year</th>\n",
       "      <th>depression_percentage</th>\n",
       "    </tr>\n",
       "  </thead>\n",
       "  <tbody>\n",
       "    <tr>\n",
       "      <th>896</th>\n",
       "      <td>Cambodia</td>\n",
       "      <td>KHM</td>\n",
       "      <td>1990</td>\n",
       "      <td>3.161072</td>\n",
       "    </tr>\n",
       "    <tr>\n",
       "      <th>2591</th>\n",
       "      <td>Honduras</td>\n",
       "      <td>HND</td>\n",
       "      <td>2005</td>\n",
       "      <td>2.713694</td>\n",
       "    </tr>\n",
       "    <tr>\n",
       "      <th>797</th>\n",
       "      <td>Brunei</td>\n",
       "      <td>BRN</td>\n",
       "      <td>2003</td>\n",
       "      <td>2.564558</td>\n",
       "    </tr>\n",
       "    <tr>\n",
       "      <th>4748</th>\n",
       "      <td>Saint Lucia</td>\n",
       "      <td>LCA</td>\n",
       "      <td>2006</td>\n",
       "      <td>2.817564</td>\n",
       "    </tr>\n",
       "    <tr>\n",
       "      <th>4661</th>\n",
       "      <td>Romania</td>\n",
       "      <td>ROU</td>\n",
       "      <td>2003</td>\n",
       "      <td>2.347841</td>\n",
       "    </tr>\n",
       "  </tbody>\n",
       "</table>\n",
       "</div>"
      ],
      "text/plain": [
       "           Entity Code  Year  depression_percentage\n",
       "896      Cambodia  KHM  1990               3.161072\n",
       "2591     Honduras  HND  2005               2.713694\n",
       "797        Brunei  BRN  2003               2.564558\n",
       "4748  Saint Lucia  LCA  2006               2.817564\n",
       "4661      Romania  ROU  2003               2.347841"
      ]
     },
     "execution_count": 9,
     "metadata": {},
     "output_type": "execute_result"
    }
   ],
   "source": [
    "df_depr.sample(5)"
   ]
  },
  {
   "cell_type": "markdown",
   "metadata": {},
   "source": [
    "did a lot of work on pivoting the table, just to realise at the end it would be bad practice, so all codes have been turned to comments"
   ]
  },
  {
   "cell_type": "code",
   "execution_count": 10,
   "metadata": {},
   "outputs": [],
   "source": [
    "import matplotlib.pyplot as plt\n",
    "import seaborn as sns\n",
    "import statsmodels.api as sm\n",
    "\n",
    "\n",
    "#fig, ax1 = plt.subplots(figsize=(15,5))\n",
    "#plt.plot(country_year_sex.groupby(['year']).agg({'suicides_no':sum}))"
   ]
  },
  {
   "cell_type": "code",
   "execution_count": 11,
   "metadata": {},
   "outputs": [],
   "source": [
    "def data_country1(country):\n",
    "    i = df_depr.loc[df_depr['Entity']==country]\n",
    "    return i"
   ]
  },
  {
   "cell_type": "code",
   "execution_count": 12,
   "metadata": {},
   "outputs": [],
   "source": [
    "def plot_depr(country):\n",
    "    fig , ax1 = plt.subplots(figsize=(15,5))\n",
    "    sns.scatterplot(data=data_country1(country), \n",
    "                 x=data_country1(country)['Year'],\n",
    "                 y=data_country1(country)['depression_percentage'],\n",
    "                 color='blue',ax=ax1)\n",
    "\n",
    "#plt.plot(df_depr.groupby(['Year']))"
   ]
  },
  {
   "cell_type": "code",
   "execution_count": 13,
   "metadata": {},
   "outputs": [
    {
     "data": {
      "image/png": "[encoded data removed]",
      "text/plain": [
       "<Figure size 1080x360 with 1 Axes>"
      ]
     },
     "metadata": {
      "needs_background": "light"
     },
     "output_type": "display_data"
    }
   ],
   "source": [
    "plot_depr('United States')"
   ]
  },
  {
   "cell_type": "markdown",
   "metadata": {},
   "source": [
    "world rate of depression between 1990 - 2017"
   ]
  },
  {
   "cell_type": "code",
   "execution_count": 61,
   "metadata": {},
   "outputs": [
    {
     "data": {
      "image/png": "[encoded data removed]",
      "text/plain": [
       "<Figure size 1080x360 with 1 Axes>"
      ]
     },
     "metadata": {
      "needs_background": "light"
     },
     "output_type": "display_data"
    }
   ],
   "source": [
    "fig , ax = plt.subplots(figsize=(15,5))\n",
    "sns.lineplot(data=df_depr, x='Year',y='depression_percentage',color='blue',ax=ax)\n",
    "fig.savefig('depression_world_statics')"
   ]
  },
  {
   "cell_type": "code",
   "execution_count": 15,
   "metadata": {},
   "outputs": [],
   "source": [
    "# Code practices on pandas.series"
   ]
  },
  {
   "cell_type": "code",
   "execution_count": 16,
   "metadata": {},
   "outputs": [],
   "source": [
    "# test = df_country.groupby(['Entity']).absolute_numbers.mean()\n",
    "# test\n",
    "# type(test)\n",
    "# indexlist = [i for i in test.index]\n",
    "# len(indexlist) \n",
    "# test.loc['Germany']"
   ]
  },
  {
   "cell_type": "code",
   "execution_count": 17,
   "metadata": {},
   "outputs": [],
   "source": [
    "# code practices ond pivot_table and multiIndex, here pivot_table is not needed since it would turn the already tidy data into untidy data!"
   ]
  },
  {
   "cell_type": "code",
   "execution_count": 18,
   "metadata": {},
   "outputs": [],
   "source": [
    "#df_country_pivot = df_country.pivot_table(index=['Entity'], columns=['Year'], values=['absolute_numbers'])\n",
    "#df_country_pivot.loc[:,('absolute_numbers',1995)]\n",
    "#df_country_pivot.loc['Germany',('absolute_numbers',1995)]\n",
    "#df_country_pivot.loc['Germany',('absolute_numbers')]\n",
    "#df_country_pivot.loc['Germany',('absolute_numbers',(1995,2016))]\n",
    "#df_country_pivot.columns\n",
    "#df_devInd.head()\n",
    "# df_devInd_2index = df_devInd.set_index(['Entity','Year'])\n",
    "# df_devInd_2index.sort_index(inplace = 'True')\n",
    "# df_devInd_2index.head(5)\n",
    "# multiindex, visually beautiful, but not tidy\n",
    "# df_devInd_2index = df_devInd_2index.reset_index()\n",
    "# len(df_devInd_2index.index)\n",
    "# df_devInd_2index.columns\n",
    "# df_devInd_2index.iloc[0,0]\n",
    "# if dataframe is not pivoted, or pivoted with dual index (country, year), then concat like this:\n",
    "# merged_df = pd.merge(df1,df2,left_index=True,right_index=True)"
   ]
  },
  {
   "cell_type": "markdown",
   "metadata": {},
   "source": [
    "loading and cleaning of dataset 'human development index'"
   ]
  },
  {
   "cell_type": "code",
   "execution_count": 19,
   "metadata": {},
   "outputs": [],
   "source": [
    "df_devInd.rename(columns={'Human Development Index (UNDP)':'HDI_UNDP'},inplace =True)"
   ]
  },
  {
   "cell_type": "code",
   "execution_count": 20,
   "metadata": {},
   "outputs": [
    {
     "data": {
      "text/plain": [
       "(5001, 4)"
      ]
     },
     "execution_count": 20,
     "metadata": {},
     "output_type": "execute_result"
    }
   ],
   "source": [
    "df_devInd.shape"
   ]
  },
  {
   "cell_type": "code",
   "execution_count": 21,
   "metadata": {},
   "outputs": [
    {
     "data": {
      "text/html": [
       "<div>\n",
       "<style scoped>\n",
       "    .dataframe tbody tr th:only-of-type {\n",
       "        vertical-align: middle;\n",
       "    }\n",
       "\n",
       "    .dataframe tbody tr th {\n",
       "        vertical-align: top;\n",
       "    }\n",
       "\n",
       "    .dataframe thead th {\n",
       "        text-align: right;\n",
       "    }\n",
       "</style>\n",
       "<table border=\"1\" class=\"dataframe\">\n",
       "  <thead>\n",
       "    <tr style=\"text-align: right;\">\n",
       "      <th></th>\n",
       "      <th>Entity</th>\n",
       "      <th>Code</th>\n",
       "      <th>Year</th>\n",
       "      <th>HDI_UNDP</th>\n",
       "    </tr>\n",
       "  </thead>\n",
       "  <tbody>\n",
       "    <tr>\n",
       "      <th>4767</th>\n",
       "      <td>United States</td>\n",
       "      <td>USA</td>\n",
       "      <td>1993</td>\n",
       "      <td>0.871</td>\n",
       "    </tr>\n",
       "    <tr>\n",
       "      <th>1562</th>\n",
       "      <td>Gabon</td>\n",
       "      <td>GAB</td>\n",
       "      <td>1992</td>\n",
       "      <td>0.624</td>\n",
       "    </tr>\n",
       "    <tr>\n",
       "      <th>1473</th>\n",
       "      <td>Fiji</td>\n",
       "      <td>FJI</td>\n",
       "      <td>1993</td>\n",
       "      <td>0.659</td>\n",
       "    </tr>\n",
       "    <tr>\n",
       "      <th>4716</th>\n",
       "      <td>United Arab Emirates</td>\n",
       "      <td>ARE</td>\n",
       "      <td>2002</td>\n",
       "      <td>0.808</td>\n",
       "    </tr>\n",
       "    <tr>\n",
       "      <th>1197</th>\n",
       "      <td>Democratic Republic of Congo</td>\n",
       "      <td>COD</td>\n",
       "      <td>2013</td>\n",
       "      <td>0.426</td>\n",
       "    </tr>\n",
       "  </tbody>\n",
       "</table>\n",
       "</div>"
      ],
      "text/plain": [
       "                            Entity Code  Year  HDI_UNDP\n",
       "4767                 United States  USA  1993     0.871\n",
       "1562                         Gabon  GAB  1992     0.624\n",
       "1473                          Fiji  FJI  1993     0.659\n",
       "4716          United Arab Emirates  ARE  2002     0.808\n",
       "1197  Democratic Republic of Congo  COD  2013     0.426"
      ]
     },
     "execution_count": 21,
     "metadata": {},
     "output_type": "execute_result"
    }
   ],
   "source": [
    "df_devInd.sample(5)"
   ]
  },
  {
   "cell_type": "markdown",
   "metadata": {},
   "source": [
    "Creating a dataframe consisting of information on HDI and depression level for a range of years"
   ]
  },
  {
   "cell_type": "code",
   "execution_count": 22,
   "metadata": {},
   "outputs": [],
   "source": [
    "df_depression_hdi = df_depr.merge(df_devInd, how='inner', left_on=['Entity','Year'], right_on=['Entity','Year'])"
   ]
  },
  {
   "cell_type": "code",
   "execution_count": 23,
   "metadata": {},
   "outputs": [],
   "source": [
    "df_depression_hdi = df_depression_hdi.drop(['Code_y'],axis=1)"
   ]
  },
  {
   "cell_type": "code",
   "execution_count": 24,
   "metadata": {},
   "outputs": [],
   "source": [
    "df_depression_hdi = df_depression_hdi.rename(columns={'Code_x':'Code'})"
   ]
  },
  {
   "cell_type": "code",
   "execution_count": 25,
   "metadata": {},
   "outputs": [
    {
     "data": {
      "text/plain": [
       "Entity                   0\n",
       "Code                     0\n",
       "Year                     0\n",
       "depression_percentage    0\n",
       "HDI_UNDP                 0\n",
       "dtype: int64"
      ]
     },
     "execution_count": 25,
     "metadata": {},
     "output_type": "execute_result"
    }
   ],
   "source": [
    "df_depression_hdi.isnull().sum()"
   ]
  },
  {
   "cell_type": "code",
   "execution_count": 26,
   "metadata": {},
   "outputs": [
    {
     "data": {
      "text/plain": [
       "(4680, 5)"
      ]
     },
     "execution_count": 26,
     "metadata": {},
     "output_type": "execute_result"
    }
   ],
   "source": [
    "# dataframe on depression level and Hdi\n",
    "df_depression_hdi.shape"
   ]
  },
  {
   "cell_type": "code",
   "execution_count": 27,
   "metadata": {},
   "outputs": [
    {
     "data": {
      "text/plain": [
       "185"
      ]
     },
     "execution_count": 27,
     "metadata": {},
     "output_type": "execute_result"
    }
   ],
   "source": [
    "len(set(df_depression_hdi['Entity']))"
   ]
  },
  {
   "cell_type": "code",
   "execution_count": 28,
   "metadata": {},
   "outputs": [
    {
     "data": {
      "text/html": [
       "<div>\n",
       "<style scoped>\n",
       "    .dataframe tbody tr th:only-of-type {\n",
       "        vertical-align: middle;\n",
       "    }\n",
       "\n",
       "    .dataframe tbody tr th {\n",
       "        vertical-align: top;\n",
       "    }\n",
       "\n",
       "    .dataframe thead th {\n",
       "        text-align: right;\n",
       "    }\n",
       "</style>\n",
       "<table border=\"1\" class=\"dataframe\">\n",
       "  <thead>\n",
       "    <tr style=\"text-align: right;\">\n",
       "      <th></th>\n",
       "      <th>Entity</th>\n",
       "      <th>Code</th>\n",
       "      <th>Year</th>\n",
       "      <th>depression_percentage</th>\n",
       "      <th>HDI_UNDP</th>\n",
       "    </tr>\n",
       "  </thead>\n",
       "  <tbody>\n",
       "    <tr>\n",
       "      <th>4673</th>\n",
       "      <td>Zimbabwe</td>\n",
       "      <td>ZWE</td>\n",
       "      <td>2011</td>\n",
       "      <td>3.109526</td>\n",
       "      <td>0.478</td>\n",
       "    </tr>\n",
       "    <tr>\n",
       "      <th>4674</th>\n",
       "      <td>Zimbabwe</td>\n",
       "      <td>ZWE</td>\n",
       "      <td>2012</td>\n",
       "      <td>3.118072</td>\n",
       "      <td>0.505</td>\n",
       "    </tr>\n",
       "    <tr>\n",
       "      <th>4675</th>\n",
       "      <td>Zimbabwe</td>\n",
       "      <td>ZWE</td>\n",
       "      <td>2013</td>\n",
       "      <td>3.128192</td>\n",
       "      <td>0.516</td>\n",
       "    </tr>\n",
       "    <tr>\n",
       "      <th>4676</th>\n",
       "      <td>Zimbabwe</td>\n",
       "      <td>ZWE</td>\n",
       "      <td>2014</td>\n",
       "      <td>3.140290</td>\n",
       "      <td>0.525</td>\n",
       "    </tr>\n",
       "    <tr>\n",
       "      <th>4677</th>\n",
       "      <td>Zimbabwe</td>\n",
       "      <td>ZWE</td>\n",
       "      <td>2015</td>\n",
       "      <td>3.155710</td>\n",
       "      <td>0.529</td>\n",
       "    </tr>\n",
       "    <tr>\n",
       "      <th>4678</th>\n",
       "      <td>Zimbabwe</td>\n",
       "      <td>ZWE</td>\n",
       "      <td>2016</td>\n",
       "      <td>3.174134</td>\n",
       "      <td>0.532</td>\n",
       "    </tr>\n",
       "    <tr>\n",
       "      <th>4679</th>\n",
       "      <td>Zimbabwe</td>\n",
       "      <td>ZWE</td>\n",
       "      <td>2017</td>\n",
       "      <td>3.192789</td>\n",
       "      <td>0.535</td>\n",
       "    </tr>\n",
       "  </tbody>\n",
       "</table>\n",
       "</div>"
      ],
      "text/plain": [
       "        Entity Code  Year  depression_percentage  HDI_UNDP\n",
       "4673  Zimbabwe  ZWE  2011               3.109526     0.478\n",
       "4674  Zimbabwe  ZWE  2012               3.118072     0.505\n",
       "4675  Zimbabwe  ZWE  2013               3.128192     0.516\n",
       "4676  Zimbabwe  ZWE  2014               3.140290     0.525\n",
       "4677  Zimbabwe  ZWE  2015               3.155710     0.529\n",
       "4678  Zimbabwe  ZWE  2016               3.174134     0.532\n",
       "4679  Zimbabwe  ZWE  2017               3.192789     0.535"
      ]
     },
     "execution_count": 28,
     "metadata": {},
     "output_type": "execute_result"
    }
   ],
   "source": [
    "df_depression_hdi.tail(7)"
   ]
  },
  {
   "cell_type": "code",
   "execution_count": 29,
   "metadata": {},
   "outputs": [
    {
     "data": {
      "text/plain": [
       "Year                    -0.057807\n",
       "HDI_UNDP                -0.032316\n",
       "depression_percentage    1.000000\n",
       "Name: depression_percentage, dtype: float64"
      ]
     },
     "execution_count": 29,
     "metadata": {},
     "output_type": "execute_result"
    }
   ],
   "source": [
    "df_depression_hdi.corr(method='pearson')['depression_percentage'].sort_values()"
   ]
  },
  {
   "cell_type": "markdown",
   "metadata": {},
   "source": [
    "check happiness for nan value and select relevant data for further analysis "
   ]
  },
  {
   "cell_type": "code",
   "execution_count": 30,
   "metadata": {},
   "outputs": [
    {
     "data": {
      "text/plain": [
       "Country name                                                 True\n",
       "Year                                                         True\n",
       "Life Ladder                                                  True\n",
       "Log GDP per capita                                           True\n",
       "Social support                                               True\n",
       "Healthy life expectancy at birth                             True\n",
       "Freedom to make life choices                                 True\n",
       "Generosity                                                   True\n",
       "Perceptions of corruption                                    True\n",
       "Positive affect                                              True\n",
       "Negative affect                                              True\n",
       "Confidence in national government                           False\n",
       "Democratic Quality                                          False\n",
       "Delivery Quality                                            False\n",
       "Standard deviation of ladder by country-year                 True\n",
       "Standard deviation/Mean of ladder by country-year            True\n",
       "GINI index (World Bank estimate)                            False\n",
       "GINI index (World Bank estimate), average 2000-16           False\n",
       "gini of household income reported in Gallup, by wp5-year    False\n",
       "Most people can be trusted, Gallup                          False\n",
       "Most people can be trusted, WVS round 1981-1984             False\n",
       "Most people can be trusted, WVS round 1989-1993             False\n",
       "Most people can be trusted, WVS round 1994-1998             False\n",
       "Most people can be trusted, WVS round 1999-2004             False\n",
       "Most people can be trusted, WVS round 2005-2009             False\n",
       "Most people can be trusted, WVS round 2010-2014             False\n",
       "dtype: bool"
      ]
     },
     "execution_count": 30,
     "metadata": {},
     "output_type": "execute_result"
    }
   ],
   "source": [
    "df_happiness.isna().sum()<100"
   ]
  },
  {
   "cell_type": "code",
   "execution_count": 31,
   "metadata": {},
   "outputs": [],
   "source": [
    "df_happiness = df_happiness[['Country name', 'Year', 'Life Ladder', 'Log GDP per capita']]\n",
    "df_happiness.rename(columns={'Country name':'Entity','Life Ladder':'life_ladder','Log GDP per capita':'log_gdp_capita'}, inplace=True)"
   ]
  },
  {
   "cell_type": "markdown",
   "metadata": {},
   "source": [
    "merge happiness index and depression/hdi dataframes"
   ]
  },
  {
   "cell_type": "code",
   "execution_count": 32,
   "metadata": {},
   "outputs": [],
   "source": [
    "df_hdi_happiness = df_depression_hdi.merge(df_happiness,on=['Entity', 'Year'])"
   ]
  },
  {
   "cell_type": "code",
   "execution_count": 33,
   "metadata": {},
   "outputs": [
    {
     "data": {
      "text/plain": [
       "Entity                   0\n",
       "Code                     0\n",
       "Year                     0\n",
       "depression_percentage    0\n",
       "HDI_UNDP                 0\n",
       "life_ladder              0\n",
       "log_gdp_capita           3\n",
       "dtype: int64"
      ]
     },
     "execution_count": 33,
     "metadata": {},
     "output_type": "execute_result"
    }
   ],
   "source": [
    "df_hdi_happiness.isnull().sum()"
   ]
  },
  {
   "cell_type": "code",
   "execution_count": 34,
   "metadata": {},
   "outputs": [
    {
     "data": {
      "text/html": [
       "<div>\n",
       "<style scoped>\n",
       "    .dataframe tbody tr th:only-of-type {\n",
       "        vertical-align: middle;\n",
       "    }\n",
       "\n",
       "    .dataframe tbody tr th {\n",
       "        vertical-align: top;\n",
       "    }\n",
       "\n",
       "    .dataframe thead th {\n",
       "        text-align: right;\n",
       "    }\n",
       "</style>\n",
       "<table border=\"1\" class=\"dataframe\">\n",
       "  <thead>\n",
       "    <tr style=\"text-align: right;\">\n",
       "      <th></th>\n",
       "      <th>Entity</th>\n",
       "      <th>Code</th>\n",
       "      <th>Year</th>\n",
       "      <th>depression_percentage</th>\n",
       "      <th>HDI_UNDP</th>\n",
       "      <th>life_ladder</th>\n",
       "      <th>log_gdp_capita</th>\n",
       "    </tr>\n",
       "  </thead>\n",
       "  <tbody>\n",
       "    <tr>\n",
       "      <th>1220</th>\n",
       "      <td>South Sudan</td>\n",
       "      <td>SSD</td>\n",
       "      <td>2017</td>\n",
       "      <td>3.699147</td>\n",
       "      <td>0.388</td>\n",
       "      <td>2,816622496</td>\n",
       "      <td>NaN</td>\n",
       "    </tr>\n",
       "    <tr>\n",
       "      <th>1276</th>\n",
       "      <td>Syria</td>\n",
       "      <td>SYR</td>\n",
       "      <td>2015</td>\n",
       "      <td>3.547811</td>\n",
       "      <td>0.538</td>\n",
       "      <td>3,46191287</td>\n",
       "      <td>NaN</td>\n",
       "    </tr>\n",
       "    <tr>\n",
       "      <th>1467</th>\n",
       "      <td>Yemen</td>\n",
       "      <td>YEM</td>\n",
       "      <td>2017</td>\n",
       "      <td>4.012346</td>\n",
       "      <td>0.452</td>\n",
       "      <td>3,253560066</td>\n",
       "      <td>NaN</td>\n",
       "    </tr>\n",
       "  </tbody>\n",
       "</table>\n",
       "</div>"
      ],
      "text/plain": [
       "           Entity Code  Year  depression_percentage  HDI_UNDP  life_ladder  \\\n",
       "1220  South Sudan  SSD  2017               3.699147     0.388  2,816622496   \n",
       "1276        Syria  SYR  2015               3.547811     0.538   3,46191287   \n",
       "1467        Yemen  YEM  2017               4.012346     0.452  3,253560066   \n",
       "\n",
       "     log_gdp_capita  \n",
       "1220            NaN  \n",
       "1276            NaN  \n",
       "1467            NaN  "
      ]
     },
     "execution_count": 34,
     "metadata": {},
     "output_type": "execute_result"
    }
   ],
   "source": [
    "df_hdi_happiness[df_hdi_happiness.isnull().any(axis=1)]"
   ]
  },
  {
   "cell_type": "code",
   "execution_count": 35,
   "metadata": {},
   "outputs": [
    {
     "data": {
      "text/plain": [
       "155"
      ]
     },
     "execution_count": 35,
     "metadata": {},
     "output_type": "execute_result"
    }
   ],
   "source": [
    "len(set(df_hdi_happiness['Entity']))"
   ]
  },
  {
   "cell_type": "code",
   "execution_count": 36,
   "metadata": {},
   "outputs": [
    {
     "data": {
      "text/html": [
       "<div>\n",
       "<style scoped>\n",
       "    .dataframe tbody tr th:only-of-type {\n",
       "        vertical-align: middle;\n",
       "    }\n",
       "\n",
       "    .dataframe tbody tr th {\n",
       "        vertical-align: top;\n",
       "    }\n",
       "\n",
       "    .dataframe thead th {\n",
       "        text-align: right;\n",
       "    }\n",
       "</style>\n",
       "<table border=\"1\" class=\"dataframe\">\n",
       "  <thead>\n",
       "    <tr style=\"text-align: right;\">\n",
       "      <th></th>\n",
       "      <th>Entity</th>\n",
       "      <th>Code</th>\n",
       "      <th>Year</th>\n",
       "      <th>depression_percentage</th>\n",
       "      <th>HDI_UNDP</th>\n",
       "      <th>life_ladder</th>\n",
       "      <th>log_gdp_capita</th>\n",
       "    </tr>\n",
       "  </thead>\n",
       "  <tbody>\n",
       "    <tr>\n",
       "      <th>0</th>\n",
       "      <td>Afghanistan</td>\n",
       "      <td>AFG</td>\n",
       "      <td>2008</td>\n",
       "      <td>4.129656</td>\n",
       "      <td>0.437</td>\n",
       "      <td>3,723589897</td>\n",
       "      <td>7,168690205</td>\n",
       "    </tr>\n",
       "    <tr>\n",
       "      <th>1</th>\n",
       "      <td>Afghanistan</td>\n",
       "      <td>AFG</td>\n",
       "      <td>2009</td>\n",
       "      <td>4.129972</td>\n",
       "      <td>0.453</td>\n",
       "      <td>4,401778221</td>\n",
       "      <td>7,333789825</td>\n",
       "    </tr>\n",
       "    <tr>\n",
       "      <th>2</th>\n",
       "      <td>Afghanistan</td>\n",
       "      <td>AFG</td>\n",
       "      <td>2010</td>\n",
       "      <td>4.130874</td>\n",
       "      <td>0.463</td>\n",
       "      <td>4,75838089</td>\n",
       "      <td>7,386628628</td>\n",
       "    </tr>\n",
       "    <tr>\n",
       "      <th>3</th>\n",
       "      <td>Afghanistan</td>\n",
       "      <td>AFG</td>\n",
       "      <td>2011</td>\n",
       "      <td>4.130862</td>\n",
       "      <td>0.471</td>\n",
       "      <td>3,83171916</td>\n",
       "      <td>7,415018559</td>\n",
       "    </tr>\n",
       "    <tr>\n",
       "      <th>4</th>\n",
       "      <td>Afghanistan</td>\n",
       "      <td>AFG</td>\n",
       "      <td>2012</td>\n",
       "      <td>4.132485</td>\n",
       "      <td>0.482</td>\n",
       "      <td>3,782937527</td>\n",
       "      <td>7,517126083</td>\n",
       "    </tr>\n",
       "  </tbody>\n",
       "</table>\n",
       "</div>"
      ],
      "text/plain": [
       "        Entity Code  Year  depression_percentage  HDI_UNDP  life_ladder  \\\n",
       "0  Afghanistan  AFG  2008               4.129656     0.437  3,723589897   \n",
       "1  Afghanistan  AFG  2009               4.129972     0.453  4,401778221   \n",
       "2  Afghanistan  AFG  2010               4.130874     0.463   4,75838089   \n",
       "3  Afghanistan  AFG  2011               4.130862     0.471   3,83171916   \n",
       "4  Afghanistan  AFG  2012               4.132485     0.482  3,782937527   \n",
       "\n",
       "  log_gdp_capita  \n",
       "0    7,168690205  \n",
       "1    7,333789825  \n",
       "2    7,386628628  \n",
       "3    7,415018559  \n",
       "4    7,517126083  "
      ]
     },
     "execution_count": 36,
     "metadata": {},
     "output_type": "execute_result"
    }
   ],
   "source": [
    "df_hdi_happiness.head(5)"
   ]
  },
  {
   "cell_type": "code",
   "execution_count": 37,
   "metadata": {},
   "outputs": [],
   "source": [
    "df_hdi_happiness['life_ladder'] = df_hdi_happiness['life_ladder'].str.replace(',','.')\n",
    "df_hdi_happiness['log_gdp_capita'] = df_hdi_happiness['log_gdp_capita'].str.replace(',','.')"
   ]
  },
  {
   "cell_type": "code",
   "execution_count": 38,
   "metadata": {},
   "outputs": [],
   "source": [
    "df_hdi_happiness['life_ladder'] = df_hdi_happiness['life_ladder'].astype(float)\n",
    "df_hdi_happiness['log_gdp_capita'] = df_hdi_happiness['log_gdp_capita'].astype(float)"
   ]
  },
  {
   "cell_type": "code",
   "execution_count": 39,
   "metadata": {},
   "outputs": [
    {
     "data": {
      "text/html": [
       "<div>\n",
       "<style scoped>\n",
       "    .dataframe tbody tr th:only-of-type {\n",
       "        vertical-align: middle;\n",
       "    }\n",
       "\n",
       "    .dataframe tbody tr th {\n",
       "        vertical-align: top;\n",
       "    }\n",
       "\n",
       "    .dataframe thead th {\n",
       "        text-align: right;\n",
       "    }\n",
       "</style>\n",
       "<table border=\"1\" class=\"dataframe\">\n",
       "  <thead>\n",
       "    <tr style=\"text-align: right;\">\n",
       "      <th></th>\n",
       "      <th>Entity</th>\n",
       "      <th>Code</th>\n",
       "      <th>Year</th>\n",
       "      <th>depression_percentage</th>\n",
       "      <th>HDI_UNDP</th>\n",
       "      <th>life_ladder</th>\n",
       "      <th>log_gdp_capita</th>\n",
       "    </tr>\n",
       "  </thead>\n",
       "  <tbody>\n",
       "    <tr>\n",
       "      <th>914</th>\n",
       "      <td>Mozambique</td>\n",
       "      <td>MOZ</td>\n",
       "      <td>2017</td>\n",
       "      <td>3.901795</td>\n",
       "      <td>0.437</td>\n",
       "      <td>4.279863</td>\n",
       "      <td>7.035359</td>\n",
       "    </tr>\n",
       "  </tbody>\n",
       "</table>\n",
       "</div>"
      ],
      "text/plain": [
       "         Entity Code  Year  depression_percentage  HDI_UNDP  life_ladder  \\\n",
       "914  Mozambique  MOZ  2017               3.901795     0.437     4.279863   \n",
       "\n",
       "     log_gdp_capita  \n",
       "914        7.035359  "
      ]
     },
     "execution_count": 39,
     "metadata": {},
     "output_type": "execute_result"
    }
   ],
   "source": [
    "df_hdi_happiness.sample(1)"
   ]
  },
  {
   "cell_type": "code",
   "execution_count": 40,
   "metadata": {},
   "outputs": [],
   "source": [
    "def data_country2(country):\n",
    "    i = df_hdi_happiness.loc[df_hdi_happiness['Entity']==country]\n",
    "    return i"
   ]
  },
  {
   "cell_type": "code",
   "execution_count": 41,
   "metadata": {},
   "outputs": [],
   "source": [
    "def plot_hdi_happiness(country):\n",
    "    fig , ax1 = plt.subplots(figsize=(15,5))\n",
    "    sns.lineplot(data=data_country2(country), \n",
    "                 x=data_country2(country)['HDI_UNDP'],\n",
    "                 y=data_country2(country)['depression_percentage'],\n",
    "                 color='blue',ax=ax1)"
   ]
  },
  {
   "cell_type": "code",
   "execution_count": 42,
   "metadata": {},
   "outputs": [
    {
     "data": {
      "image/png": "[encoded data removed]",
      "text/plain": [
       "<Figure size 1080x360 with 1 Axes>"
      ]
     },
     "metadata": {
      "needs_background": "light"
     },
     "output_type": "display_data"
    }
   ],
   "source": [
    "plot_hdi_happiness('United States')"
   ]
  },
  {
   "cell_type": "code",
   "execution_count": 43,
   "metadata": {},
   "outputs": [
    {
     "data": {
      "text/html": [
       "<div>\n",
       "<style scoped>\n",
       "    .dataframe tbody tr th:only-of-type {\n",
       "        vertical-align: middle;\n",
       "    }\n",
       "\n",
       "    .dataframe tbody tr th {\n",
       "        vertical-align: top;\n",
       "    }\n",
       "\n",
       "    .dataframe thead th {\n",
       "        text-align: right;\n",
       "    }\n",
       "</style>\n",
       "<table border=\"1\" class=\"dataframe\">\n",
       "  <thead>\n",
       "    <tr style=\"text-align: right;\">\n",
       "      <th></th>\n",
       "      <th>Entity</th>\n",
       "      <th>Code</th>\n",
       "      <th>Year</th>\n",
       "      <th>depression_percentage</th>\n",
       "      <th>HDI_UNDP</th>\n",
       "      <th>life_ladder</th>\n",
       "      <th>log_gdp_capita</th>\n",
       "    </tr>\n",
       "  </thead>\n",
       "  <tbody>\n",
       "    <tr>\n",
       "      <th>7</th>\n",
       "      <td>Afghanistan</td>\n",
       "      <td>AFG</td>\n",
       "      <td>2015</td>\n",
       "      <td>4.135419</td>\n",
       "      <td>0.493</td>\n",
       "      <td>3.982855</td>\n",
       "      <td>7.500539</td>\n",
       "    </tr>\n",
       "    <tr>\n",
       "      <th>17</th>\n",
       "      <td>Albania</td>\n",
       "      <td>ALB</td>\n",
       "      <td>2015</td>\n",
       "      <td>2.204454</td>\n",
       "      <td>0.776</td>\n",
       "      <td>4.606651</td>\n",
       "      <td>9.302960</td>\n",
       "    </tr>\n",
       "    <tr>\n",
       "      <th>39</th>\n",
       "      <td>Argentina</td>\n",
       "      <td>ARG</td>\n",
       "      <td>2015</td>\n",
       "      <td>3.657683</td>\n",
       "      <td>0.822</td>\n",
       "      <td>6.697131</td>\n",
       "      <td>9.858329</td>\n",
       "    </tr>\n",
       "    <tr>\n",
       "      <th>51</th>\n",
       "      <td>Armenia</td>\n",
       "      <td>ARM</td>\n",
       "      <td>2015</td>\n",
       "      <td>2.740289</td>\n",
       "      <td>0.748</td>\n",
       "      <td>4.348320</td>\n",
       "      <td>9.011394</td>\n",
       "    </tr>\n",
       "    <tr>\n",
       "      <th>62</th>\n",
       "      <td>Australia</td>\n",
       "      <td>AUS</td>\n",
       "      <td>2015</td>\n",
       "      <td>4.696774</td>\n",
       "      <td>0.936</td>\n",
       "      <td>7.309061</td>\n",
       "      <td>10.690199</td>\n",
       "    </tr>\n",
       "    <tr>\n",
       "      <th>...</th>\n",
       "      <td>...</td>\n",
       "      <td>...</td>\n",
       "      <td>...</td>\n",
       "      <td>...</td>\n",
       "      <td>...</td>\n",
       "      <td>...</td>\n",
       "      <td>...</td>\n",
       "    </tr>\n",
       "    <tr>\n",
       "      <th>1443</th>\n",
       "      <td>Venezuela</td>\n",
       "      <td>VEN</td>\n",
       "      <td>2015</td>\n",
       "      <td>2.811889</td>\n",
       "      <td>0.775</td>\n",
       "      <td>5.568800</td>\n",
       "      <td>9.655211</td>\n",
       "    </tr>\n",
       "    <tr>\n",
       "      <th>1455</th>\n",
       "      <td>Vietnam</td>\n",
       "      <td>VNM</td>\n",
       "      <td>2015</td>\n",
       "      <td>2.881750</td>\n",
       "      <td>0.684</td>\n",
       "      <td>5.076315</td>\n",
       "      <td>8.622428</td>\n",
       "    </tr>\n",
       "    <tr>\n",
       "      <th>1465</th>\n",
       "      <td>Yemen</td>\n",
       "      <td>YEM</td>\n",
       "      <td>2015</td>\n",
       "      <td>4.017056</td>\n",
       "      <td>0.483</td>\n",
       "      <td>2.982674</td>\n",
       "      <td>7.744412</td>\n",
       "    </tr>\n",
       "    <tr>\n",
       "      <th>1476</th>\n",
       "      <td>Zambia</td>\n",
       "      <td>ZMB</td>\n",
       "      <td>2015</td>\n",
       "      <td>3.576608</td>\n",
       "      <td>0.583</td>\n",
       "      <td>4.843164</td>\n",
       "      <td>8.196217</td>\n",
       "    </tr>\n",
       "    <tr>\n",
       "      <th>1488</th>\n",
       "      <td>Zimbabwe</td>\n",
       "      <td>ZWE</td>\n",
       "      <td>2015</td>\n",
       "      <td>3.155710</td>\n",
       "      <td>0.529</td>\n",
       "      <td>3.703191</td>\n",
       "      <td>7.556052</td>\n",
       "    </tr>\n",
       "  </tbody>\n",
       "</table>\n",
       "<p>135 rows × 7 columns</p>\n",
       "</div>"
      ],
      "text/plain": [
       "           Entity Code  Year  depression_percentage  HDI_UNDP  life_ladder  \\\n",
       "7     Afghanistan  AFG  2015               4.135419     0.493     3.982855   \n",
       "17        Albania  ALB  2015               2.204454     0.776     4.606651   \n",
       "39      Argentina  ARG  2015               3.657683     0.822     6.697131   \n",
       "51        Armenia  ARM  2015               2.740289     0.748     4.348320   \n",
       "62      Australia  AUS  2015               4.696774     0.936     7.309061   \n",
       "...           ...  ...   ...                    ...       ...          ...   \n",
       "1443    Venezuela  VEN  2015               2.811889     0.775     5.568800   \n",
       "1455      Vietnam  VNM  2015               2.881750     0.684     5.076315   \n",
       "1465        Yemen  YEM  2015               4.017056     0.483     2.982674   \n",
       "1476       Zambia  ZMB  2015               3.576608     0.583     4.843164   \n",
       "1488     Zimbabwe  ZWE  2015               3.155710     0.529     3.703191   \n",
       "\n",
       "      log_gdp_capita  \n",
       "7           7.500539  \n",
       "17          9.302960  \n",
       "39          9.858329  \n",
       "51          9.011394  \n",
       "62         10.690199  \n",
       "...              ...  \n",
       "1443        9.655211  \n",
       "1455        8.622428  \n",
       "1465        7.744412  \n",
       "1476        8.196217  \n",
       "1488        7.556052  \n",
       "\n",
       "[135 rows x 7 columns]"
      ]
     },
     "execution_count": 43,
     "metadata": {},
     "output_type": "execute_result"
    }
   ],
   "source": [
    "df_hdi_happiness2015 = df_hdi_happiness[df_hdi_happiness['Year']==2015]\n",
    "df_hdi_happiness2015"
   ]
  },
  {
   "cell_type": "code",
   "execution_count": 44,
   "metadata": {},
   "outputs": [],
   "source": [
    "# assuming depression is cultural dependant, grouping the dataset based on countries, averaging other values\n",
    "df_hdi_happiness_grouped= df_hdi_happiness.groupby('Entity').mean()"
   ]
  },
  {
   "cell_type": "code",
   "execution_count": 45,
   "metadata": {},
   "outputs": [
    {
     "data": {
      "image/png": "[encoded data removed]",
      "text/plain": [
       "<Figure size 864x864 with 2 Axes>"
      ]
     },
     "metadata": {
      "needs_background": "light"
     },
     "output_type": "display_data"
    }
   ],
   "source": [
    "df_hdi_happiness_grouped_matrix = df_hdi_happiness_grouped.drop(['Year'],axis=1)\n",
    "f, ax = plt.subplots(figsize=(12, 12))\n",
    "sns.heatmap( df_hdi_happiness_grouped_matrix.corr(), vmax=.8, annot=True,cmap='RdYlGn',annot_kws={'size':10});\n",
    "f.savefig('heatmap')\n",
    "# there is a high correlation between life satisfaction level (life_ladder) \n",
    "    # and gdp per capita / human development index(hdi_undp)\n",
    "# there is also a high correlation between human development index \n",
    "    # and life satisfaction / gdp per capita\n",
    "# the strongest correlation is between human development index / gdp per capita \n",
    "# there is no significant correlation between percentage of people suffering depression and following values:\n",
    "    # (human development index, life satisfaction, gdp per capita)\n",
    "# conclusion: depression seems universal, not correlated with development index or gdp per capita\n"
   ]
  },
  {
   "cell_type": "code",
   "execution_count": 46,
   "metadata": {},
   "outputs": [
    {
     "data": {
      "image/png": "[encoded data removed]",
      "text/plain": [
       "<Figure size 432x432 with 3 Axes>"
      ]
     },
     "metadata": {
      "needs_background": "light"
     },
     "output_type": "display_data"
    }
   ],
   "source": [
    "hh_2015 = sns.jointplot(data = df_hdi_happiness2015, y = \"depression_percentage\", \n",
    "                     x = \"HDI_UNDP\", kind='reg') "
   ]
  },
  {
   "cell_type": "code",
   "execution_count": 47,
   "metadata": {},
   "outputs": [
    {
     "data": {
      "text/html": [
       "<table class=\"simpletable\">\n",
       "<caption>OLS Regression Results</caption>\n",
       "<tr>\n",
       "  <th>Dep. Variable:</th>    <td>depression_percentage</td> <th>  R-squared:         </th> <td>   0.001</td>\n",
       "</tr>\n",
       "<tr>\n",
       "  <th>Model:</th>                     <td>OLS</td>          <th>  Adj. R-squared:    </th> <td>   0.000</td>\n",
       "</tr>\n",
       "<tr>\n",
       "  <th>Method:</th>               <td>Least Squares</td>     <th>  F-statistic:       </th> <td>   1.077</td>\n",
       "</tr>\n",
       "<tr>\n",
       "  <th>Date:</th>               <td>Thu, 17 Sep 2020</td>    <th>  Prob (F-statistic):</th>  <td> 0.300</td> \n",
       "</tr>\n",
       "<tr>\n",
       "  <th>Time:</th>                   <td>23:03:28</td>        <th>  Log-Likelihood:    </th> <td> -1461.2</td>\n",
       "</tr>\n",
       "<tr>\n",
       "  <th>No. Observations:</th>        <td>  1491</td>         <th>  AIC:               </th> <td>   2926.</td>\n",
       "</tr>\n",
       "<tr>\n",
       "  <th>Df Residuals:</th>            <td>  1489</td>         <th>  BIC:               </th> <td>   2937.</td>\n",
       "</tr>\n",
       "<tr>\n",
       "  <th>Df Model:</th>                <td>     1</td>         <th>                     </th>     <td> </td>   \n",
       "</tr>\n",
       "<tr>\n",
       "  <th>Covariance Type:</th>        <td>nonrobust</td>       <th>                     </th>     <td> </td>   \n",
       "</tr>\n",
       "</table>\n",
       "<table class=\"simpletable\">\n",
       "<tr>\n",
       "      <td></td>        <th>coef</th>     <th>std err</th>      <th>t</th>      <th>P>|t|</th>  <th>[0.025</th>    <th>0.975]</th>  \n",
       "</tr>\n",
       "<tr>\n",
       "  <th>const</th>    <td>    3.3720</td> <td>    0.077</td> <td>   43.769</td> <td> 0.000</td> <td>    3.221</td> <td>    3.523</td>\n",
       "</tr>\n",
       "<tr>\n",
       "  <th>HDI_UNDP</th> <td>    0.1105</td> <td>    0.106</td> <td>    1.038</td> <td> 0.300</td> <td>   -0.098</td> <td>    0.319</td>\n",
       "</tr>\n",
       "</table>\n",
       "<table class=\"simpletable\">\n",
       "<tr>\n",
       "  <th>Omnibus:</th>       <td>32.979</td> <th>  Durbin-Watson:     </th> <td>   0.194</td>\n",
       "</tr>\n",
       "<tr>\n",
       "  <th>Prob(Omnibus):</th> <td> 0.000</td> <th>  Jarque-Bera (JB):  </th> <td>  34.884</td>\n",
       "</tr>\n",
       "<tr>\n",
       "  <th>Skew:</th>          <td> 0.351</td> <th>  Prob(JB):          </th> <td>2.66e-08</td>\n",
       "</tr>\n",
       "<tr>\n",
       "  <th>Kurtosis:</th>      <td> 3.261</td> <th>  Cond. No.          </th> <td>    9.61</td>\n",
       "</tr>\n",
       "</table><br/><br/>Notes:<br/>[1] Standard Errors assume that the covariance matrix of the errors is correctly specified."
      ],
      "text/plain": [
       "<class 'statsmodels.iolib.summary.Summary'>\n",
       "\"\"\"\n",
       "                              OLS Regression Results                             \n",
       "=================================================================================\n",
       "Dep. Variable:     depression_percentage   R-squared:                       0.001\n",
       "Model:                               OLS   Adj. R-squared:                  0.000\n",
       "Method:                    Least Squares   F-statistic:                     1.077\n",
       "Date:                   Thu, 17 Sep 2020   Prob (F-statistic):              0.300\n",
       "Time:                           23:03:28   Log-Likelihood:                -1461.2\n",
       "No. Observations:                   1491   AIC:                             2926.\n",
       "Df Residuals:                       1489   BIC:                             2937.\n",
       "Df Model:                              1                                         \n",
       "Covariance Type:               nonrobust                                         \n",
       "==============================================================================\n",
       "                 coef    std err          t      P>|t|      [0.025      0.975]\n",
       "------------------------------------------------------------------------------\n",
       "const          3.3720      0.077     43.769      0.000       3.221       3.523\n",
       "HDI_UNDP       0.1105      0.106      1.038      0.300      -0.098       0.319\n",
       "==============================================================================\n",
       "Omnibus:                       32.979   Durbin-Watson:                   0.194\n",
       "Prob(Omnibus):                  0.000   Jarque-Bera (JB):               34.884\n",
       "Skew:                           0.351   Prob(JB):                     2.66e-08\n",
       "Kurtosis:                       3.261   Cond. No.                         9.61\n",
       "==============================================================================\n",
       "\n",
       "Notes:\n",
       "[1] Standard Errors assume that the covariance matrix of the errors is correctly specified.\n",
       "\"\"\""
      ]
     },
     "execution_count": 47,
     "metadata": {},
     "output_type": "execute_result"
    }
   ],
   "source": [
    "df_hdi_happiness = sm.add_constant(df_hdi_happiness)\n",
    "y1 =df_hdi_happiness['depression_percentage']\n",
    "x1 =df_hdi_happiness[['const', 'HDI_UNDP']]\n",
    "hdiDepression_lr = sm.OLS(y1,x1).fit()\n",
    "hdiDepression_lr.summary()\n",
    "# there is little linear relationship between depression and human development index"
   ]
  },
  {
   "cell_type": "code",
   "execution_count": 48,
   "metadata": {},
   "outputs": [
    {
     "data": {
      "text/html": [
       "<table class=\"simpletable\">\n",
       "<caption>OLS Regression Results</caption>\n",
       "<tr>\n",
       "  <th>Dep. Variable:</th>    <td>depression_percentage</td> <th>  R-squared:         </th> <td>   0.024</td>\n",
       "</tr>\n",
       "<tr>\n",
       "  <th>Model:</th>                     <td>OLS</td>          <th>  Adj. R-squared:    </th> <td>   0.022</td>\n",
       "</tr>\n",
       "<tr>\n",
       "  <th>Method:</th>               <td>Least Squares</td>     <th>  F-statistic:       </th> <td>   12.29</td>\n",
       "</tr>\n",
       "<tr>\n",
       "  <th>Date:</th>               <td>Thu, 17 Sep 2020</td>    <th>  Prob (F-statistic):</th> <td>6.06e-08</td>\n",
       "</tr>\n",
       "<tr>\n",
       "  <th>Time:</th>                   <td>23:03:28</td>        <th>  Log-Likelihood:    </th> <td> -1441.6</td>\n",
       "</tr>\n",
       "<tr>\n",
       "  <th>No. Observations:</th>        <td>  1488</td>         <th>  AIC:               </th> <td>   2891.</td>\n",
       "</tr>\n",
       "<tr>\n",
       "  <th>Df Residuals:</th>            <td>  1484</td>         <th>  BIC:               </th> <td>   2912.</td>\n",
       "</tr>\n",
       "<tr>\n",
       "  <th>Df Model:</th>                <td>     3</td>         <th>                     </th>     <td> </td>   \n",
       "</tr>\n",
       "<tr>\n",
       "  <th>Covariance Type:</th>        <td>nonrobust</td>       <th>                     </th>     <td> </td>   \n",
       "</tr>\n",
       "</table>\n",
       "<table class=\"simpletable\">\n",
       "<tr>\n",
       "         <td></td>           <th>coef</th>     <th>std err</th>      <th>t</th>      <th>P>|t|</th>  <th>[0.025</th>    <th>0.975]</th>  \n",
       "</tr>\n",
       "<tr>\n",
       "  <th>const</th>          <td>    2.3111</td> <td>    0.205</td> <td>   11.301</td> <td> 0.000</td> <td>    1.910</td> <td>    2.712</td>\n",
       "</tr>\n",
       "<tr>\n",
       "  <th>HDI_UNDP</th>       <td>   -1.8297</td> <td>    0.346</td> <td>   -5.286</td> <td> 0.000</td> <td>   -2.509</td> <td>   -1.151</td>\n",
       "</tr>\n",
       "<tr>\n",
       "  <th>log_gdp_capita</th> <td>    0.2364</td> <td>    0.047</td> <td>    5.078</td> <td> 0.000</td> <td>    0.145</td> <td>    0.328</td>\n",
       "</tr>\n",
       "<tr>\n",
       "  <th>life_ladder</th>    <td>    0.0455</td> <td>    0.024</td> <td>    1.900</td> <td> 0.058</td> <td>   -0.001</td> <td>    0.092</td>\n",
       "</tr>\n",
       "</table>\n",
       "<table class=\"simpletable\">\n",
       "<tr>\n",
       "  <th>Omnibus:</th>       <td>52.111</td> <th>  Durbin-Watson:     </th> <td>   0.197</td>\n",
       "</tr>\n",
       "<tr>\n",
       "  <th>Prob(Omnibus):</th> <td> 0.000</td> <th>  Jarque-Bera (JB):  </th> <td>  57.517</td>\n",
       "</tr>\n",
       "<tr>\n",
       "  <th>Skew:</th>          <td> 0.447</td> <th>  Prob(JB):          </th> <td>3.24e-13</td>\n",
       "</tr>\n",
       "<tr>\n",
       "  <th>Kurtosis:</th>      <td> 3.360</td> <th>  Cond. No.          </th> <td>    254.</td>\n",
       "</tr>\n",
       "</table><br/><br/>Notes:<br/>[1] Standard Errors assume that the covariance matrix of the errors is correctly specified."
      ],
      "text/plain": [
       "<class 'statsmodels.iolib.summary.Summary'>\n",
       "\"\"\"\n",
       "                              OLS Regression Results                             \n",
       "=================================================================================\n",
       "Dep. Variable:     depression_percentage   R-squared:                       0.024\n",
       "Model:                               OLS   Adj. R-squared:                  0.022\n",
       "Method:                    Least Squares   F-statistic:                     12.29\n",
       "Date:                   Thu, 17 Sep 2020   Prob (F-statistic):           6.06e-08\n",
       "Time:                           23:03:28   Log-Likelihood:                -1441.6\n",
       "No. Observations:                   1488   AIC:                             2891.\n",
       "Df Residuals:                       1484   BIC:                             2912.\n",
       "Df Model:                              3                                         \n",
       "Covariance Type:               nonrobust                                         \n",
       "==================================================================================\n",
       "                     coef    std err          t      P>|t|      [0.025      0.975]\n",
       "----------------------------------------------------------------------------------\n",
       "const              2.3111      0.205     11.301      0.000       1.910       2.712\n",
       "HDI_UNDP          -1.8297      0.346     -5.286      0.000      -2.509      -1.151\n",
       "log_gdp_capita     0.2364      0.047      5.078      0.000       0.145       0.328\n",
       "life_ladder        0.0455      0.024      1.900      0.058      -0.001       0.092\n",
       "==============================================================================\n",
       "Omnibus:                       52.111   Durbin-Watson:                   0.197\n",
       "Prob(Omnibus):                  0.000   Jarque-Bera (JB):               57.517\n",
       "Skew:                           0.447   Prob(JB):                     3.24e-13\n",
       "Kurtosis:                       3.360   Cond. No.                         254.\n",
       "==============================================================================\n",
       "\n",
       "Notes:\n",
       "[1] Standard Errors assume that the covariance matrix of the errors is correctly specified.\n",
       "\"\"\""
      ]
     },
     "execution_count": 48,
     "metadata": {},
     "output_type": "execute_result"
    }
   ],
   "source": [
    "y1 =df_hdi_happiness['depression_percentage']\n",
    "x1 =df_hdi_happiness[['const', 'HDI_UNDP', 'log_gdp_capita','life_ladder']]\n",
    "hdiDepression_lr = sm.OLS(y1,x1,missing='drop').fit()\n",
    "hdiDepression_lr.summary()"
   ]
  },
  {
   "cell_type": "code",
   "execution_count": 62,
   "metadata": {},
   "outputs": [
    {
     "data": {
      "image/png": "[encoded data removed]",
      "text/plain": [
       "<Figure size 432x432 with 3 Axes>"
      ]
     },
     "metadata": {
      "needs_background": "light"
     },
     "output_type": "display_data"
    }
   ],
   "source": [
    "hh_grouped_plot = sns.jointplot(data = df_hdi_happiness_grouped, y = \"depression_percentage\", \n",
    "                     x = \"log_gdp_capita\", kind='kde') \n",
    "hh_grouped_plot.savefig('gpd_depression_allCountries')\n",
    "# there are three clusters, next lets try to find out which country belongs to which cluster"
   ]
  },
  {
   "cell_type": "code",
   "execution_count": 50,
   "metadata": {},
   "outputs": [
    {
     "data": {
      "text/html": [
       "<div>\n",
       "<style scoped>\n",
       "    .dataframe tbody tr th:only-of-type {\n",
       "        vertical-align: middle;\n",
       "    }\n",
       "\n",
       "    .dataframe tbody tr th {\n",
       "        vertical-align: top;\n",
       "    }\n",
       "\n",
       "    .dataframe thead th {\n",
       "        text-align: right;\n",
       "    }\n",
       "</style>\n",
       "<table border=\"1\" class=\"dataframe\">\n",
       "  <thead>\n",
       "    <tr style=\"text-align: right;\">\n",
       "      <th></th>\n",
       "      <th>Year</th>\n",
       "      <th>depression_percentage</th>\n",
       "      <th>HDI_UNDP</th>\n",
       "      <th>life_ladder</th>\n",
       "      <th>log_gdp_capita</th>\n",
       "    </tr>\n",
       "    <tr>\n",
       "      <th>Entity</th>\n",
       "      <th></th>\n",
       "      <th></th>\n",
       "      <th></th>\n",
       "      <th></th>\n",
       "      <th></th>\n",
       "    </tr>\n",
       "  </thead>\n",
       "  <tbody>\n",
       "    <tr>\n",
       "      <th>Afghanistan</th>\n",
       "      <td>2012.5</td>\n",
       "      <td>4.13295</td>\n",
       "      <td>0.4769</td>\n",
       "      <td>3.806614</td>\n",
       "      <td>7.435578</td>\n",
       "    </tr>\n",
       "  </tbody>\n",
       "</table>\n",
       "</div>"
      ],
      "text/plain": [
       "               Year  depression_percentage  HDI_UNDP  life_ladder  \\\n",
       "Entity                                                              \n",
       "Afghanistan  2012.5                4.13295    0.4769     3.806614   \n",
       "\n",
       "             log_gdp_capita  \n",
       "Entity                       \n",
       "Afghanistan        7.435578  "
      ]
     },
     "execution_count": 50,
     "metadata": {},
     "output_type": "execute_result"
    }
   ],
   "source": [
    "df_hdi_happiness_grouped.head(1)"
   ]
  },
  {
   "cell_type": "code",
   "execution_count": 51,
   "metadata": {},
   "outputs": [],
   "source": [
    "# we look at two clusters, both have high log_gdp_capita, differing by people suffering from depression\n",
    "# no real conclusion can be drawn. the only hypothesis I can come up with is people in\n",
    "    # traditional conservative countries seem less likely to suffer from depression\n",
    "\n",
    "df_hdi_happiness_grouped=df_hdi_happiness_grouped.reset_index()"
   ]
  },
  {
   "cell_type": "code",
   "execution_count": 70,
   "metadata": {},
   "outputs": [
    {
     "data": {
      "text/html": [
       "<div>\n",
       "<style scoped>\n",
       "    .dataframe tbody tr th:only-of-type {\n",
       "        vertical-align: middle;\n",
       "    }\n",
       "\n",
       "    .dataframe tbody tr th {\n",
       "        vertical-align: top;\n",
       "    }\n",
       "\n",
       "    .dataframe thead th {\n",
       "        text-align: right;\n",
       "    }\n",
       "</style>\n",
       "<table border=\"1\" class=\"dataframe\">\n",
       "  <thead>\n",
       "    <tr style=\"text-align: right;\">\n",
       "      <th></th>\n",
       "      <th>Entity</th>\n",
       "      <th>Year</th>\n",
       "      <th>depression_percentage</th>\n",
       "      <th>HDI_UNDP</th>\n",
       "      <th>life_ladder</th>\n",
       "      <th>log_gdp_capita</th>\n",
       "    </tr>\n",
       "  </thead>\n",
       "  <tbody>\n",
       "    <tr>\n",
       "      <th>68</th>\n",
       "      <td>Japan</td>\n",
       "      <td>2011.416667</td>\n",
       "      <td>3.180025</td>\n",
       "      <td>0.892250</td>\n",
       "      <td>6.035371</td>\n",
       "      <td>10.510177</td>\n",
       "    </tr>\n",
       "    <tr>\n",
       "      <th>125</th>\n",
       "      <td>South Korea</td>\n",
       "      <td>2011.500000</td>\n",
       "      <td>3.023176</td>\n",
       "      <td>0.885500</td>\n",
       "      <td>5.882290</td>\n",
       "      <td>10.349377</td>\n",
       "    </tr>\n",
       "    <tr>\n",
       "      <th>123</th>\n",
       "      <td>Slovenia</td>\n",
       "      <td>2012.300000</td>\n",
       "      <td>2.933486</td>\n",
       "      <td>0.884100</td>\n",
       "      <td>5.932042</td>\n",
       "      <td>10.269977</td>\n",
       "    </tr>\n",
       "    <tr>\n",
       "      <th>145</th>\n",
       "      <td>United Arab Emirates</td>\n",
       "      <td>2012.300000</td>\n",
       "      <td>2.870824</td>\n",
       "      <td>0.847900</td>\n",
       "      <td>6.863378</td>\n",
       "      <td>11.076397</td>\n",
       "    </tr>\n",
       "    <tr>\n",
       "      <th>58</th>\n",
       "      <td>Hungary</td>\n",
       "      <td>2011.727273</td>\n",
       "      <td>2.774242</td>\n",
       "      <td>0.826364</td>\n",
       "      <td>5.120173</td>\n",
       "      <td>10.071533</td>\n",
       "    </tr>\n",
       "    <tr>\n",
       "      <th>36</th>\n",
       "      <td>Czech Republic</td>\n",
       "      <td>2012.000000</td>\n",
       "      <td>2.703947</td>\n",
       "      <td>0.868500</td>\n",
       "      <td>6.516931</td>\n",
       "      <td>10.281259</td>\n",
       "    </tr>\n",
       "    <tr>\n",
       "      <th>122</th>\n",
       "      <td>Slovakia</td>\n",
       "      <td>2012.666667</td>\n",
       "      <td>2.418571</td>\n",
       "      <td>0.839889</td>\n",
       "      <td>5.974343</td>\n",
       "      <td>10.189082</td>\n",
       "    </tr>\n",
       "    <tr>\n",
       "      <th>111</th>\n",
       "      <td>Poland</td>\n",
       "      <td>2011.727273</td>\n",
       "      <td>2.271584</td>\n",
       "      <td>0.839727</td>\n",
       "      <td>5.865575</td>\n",
       "      <td>10.031465</td>\n",
       "    </tr>\n",
       "  </tbody>\n",
       "</table>\n",
       "</div>"
      ],
      "text/plain": [
       "                   Entity         Year  depression_percentage  HDI_UNDP  \\\n",
       "68                  Japan  2011.416667               3.180025  0.892250   \n",
       "125           South Korea  2011.500000               3.023176  0.885500   \n",
       "123              Slovenia  2012.300000               2.933486  0.884100   \n",
       "145  United Arab Emirates  2012.300000               2.870824  0.847900   \n",
       "58                Hungary  2011.727273               2.774242  0.826364   \n",
       "36         Czech Republic  2012.000000               2.703947  0.868500   \n",
       "122              Slovakia  2012.666667               2.418571  0.839889   \n",
       "111                Poland  2011.727273               2.271584  0.839727   \n",
       "\n",
       "     life_ladder  log_gdp_capita  \n",
       "68      6.035371       10.510177  \n",
       "125     5.882290       10.349377  \n",
       "123     5.932042       10.269977  \n",
       "145     6.863378       11.076397  \n",
       "58      5.120173       10.071533  \n",
       "36      6.516931       10.281259  \n",
       "122     5.974343       10.189082  \n",
       "111     5.865575       10.031465  "
      ]
     },
     "execution_count": 70,
     "metadata": {},
     "output_type": "execute_result"
    }
   ],
   "source": [
    "group1 = df_hdi_happiness_grouped.loc[(df_hdi_happiness_grouped['log_gdp_capita']>10) \n",
    "                             & (df_hdi_happiness_grouped['depression_percentage']<=3.2)]\n",
    "group1.sort_values(['depression_percentage'],ascending=False)"
   ]
  },
  {
   "cell_type": "code",
   "execution_count": 69,
   "metadata": {},
   "outputs": [
    {
     "data": {
      "text/html": [
       "<div>\n",
       "<style scoped>\n",
       "    .dataframe tbody tr th:only-of-type {\n",
       "        vertical-align: middle;\n",
       "    }\n",
       "\n",
       "    .dataframe tbody tr th {\n",
       "        vertical-align: top;\n",
       "    }\n",
       "\n",
       "    .dataframe thead th {\n",
       "        text-align: right;\n",
       "    }\n",
       "</style>\n",
       "<table border=\"1\" class=\"dataframe\">\n",
       "  <thead>\n",
       "    <tr style=\"text-align: right;\">\n",
       "      <th></th>\n",
       "      <th>Entity</th>\n",
       "      <th>Year</th>\n",
       "      <th>depression_percentage</th>\n",
       "      <th>HDI_UNDP</th>\n",
       "      <th>life_ladder</th>\n",
       "      <th>log_gdp_capita</th>\n",
       "    </tr>\n",
       "  </thead>\n",
       "  <tbody>\n",
       "    <tr>\n",
       "      <th>45</th>\n",
       "      <td>Finland</td>\n",
       "      <td>2012.200000</td>\n",
       "      <td>4.923207</td>\n",
       "      <td>0.910000</td>\n",
       "      <td>7.523600</td>\n",
       "      <td>10.599315</td>\n",
       "    </tr>\n",
       "    <tr>\n",
       "      <th>6</th>\n",
       "      <td>Australia</td>\n",
       "      <td>2011.636364</td>\n",
       "      <td>4.784311</td>\n",
       "      <td>0.927000</td>\n",
       "      <td>7.309089</td>\n",
       "      <td>10.654931</td>\n",
       "    </tr>\n",
       "    <tr>\n",
       "      <th>147</th>\n",
       "      <td>United States</td>\n",
       "      <td>2011.500000</td>\n",
       "      <td>4.784239</td>\n",
       "      <td>0.914583</td>\n",
       "      <td>7.124799</td>\n",
       "      <td>10.842013</td>\n",
       "    </tr>\n",
       "    <tr>\n",
       "      <th>112</th>\n",
       "      <td>Portugal</td>\n",
       "      <td>2012.200000</td>\n",
       "      <td>4.662381</td>\n",
       "      <td>0.830400</td>\n",
       "      <td>5.295430</td>\n",
       "      <td>10.194749</td>\n",
       "    </tr>\n",
       "    <tr>\n",
       "      <th>132</th>\n",
       "      <td>Sweden</td>\n",
       "      <td>2011.416667</td>\n",
       "      <td>4.535497</td>\n",
       "      <td>0.912417</td>\n",
       "      <td>7.371307</td>\n",
       "      <td>10.688197</td>\n",
       "    </tr>\n",
       "    <tr>\n",
       "      <th>64</th>\n",
       "      <td>Ireland</td>\n",
       "      <td>2011.909091</td>\n",
       "      <td>4.319103</td>\n",
       "      <td>0.914091</td>\n",
       "      <td>7.063328</td>\n",
       "      <td>10.820768</td>\n",
       "    </tr>\n",
       "    <tr>\n",
       "      <th>46</th>\n",
       "      <td>France</td>\n",
       "      <td>2011.333333</td>\n",
       "      <td>4.301561</td>\n",
       "      <td>0.886000</td>\n",
       "      <td>6.664679</td>\n",
       "      <td>10.528614</td>\n",
       "    </tr>\n",
       "    <tr>\n",
       "      <th>52</th>\n",
       "      <td>Greece</td>\n",
       "      <td>2011.727273</td>\n",
       "      <td>4.287339</td>\n",
       "      <td>0.858000</td>\n",
       "      <td>5.504515</td>\n",
       "      <td>10.181106</td>\n",
       "    </tr>\n",
       "    <tr>\n",
       "      <th>80</th>\n",
       "      <td>Lithuania</td>\n",
       "      <td>2011.500000</td>\n",
       "      <td>4.199437</td>\n",
       "      <td>0.835833</td>\n",
       "      <td>5.718680</td>\n",
       "      <td>10.088312</td>\n",
       "    </tr>\n",
       "    <tr>\n",
       "      <th>146</th>\n",
       "      <td>United Kingdom</td>\n",
       "      <td>2011.416667</td>\n",
       "      <td>4.117302</td>\n",
       "      <td>0.906167</td>\n",
       "      <td>6.881425</td>\n",
       "      <td>10.538086</td>\n",
       "    </tr>\n",
       "    <tr>\n",
       "      <th>12</th>\n",
       "      <td>Belgium</td>\n",
       "      <td>2011.636364</td>\n",
       "      <td>4.084728</td>\n",
       "      <td>0.905455</td>\n",
       "      <td>7.021656</td>\n",
       "      <td>10.630381</td>\n",
       "    </tr>\n",
       "    <tr>\n",
       "      <th>99</th>\n",
       "      <td>Netherlands</td>\n",
       "      <td>2011.636364</td>\n",
       "      <td>4.035027</td>\n",
       "      <td>0.916818</td>\n",
       "      <td>7.466844</td>\n",
       "      <td>10.738537</td>\n",
       "    </tr>\n",
       "    <tr>\n",
       "      <th>65</th>\n",
       "      <td>Israel</td>\n",
       "      <td>2011.500000</td>\n",
       "      <td>4.020876</td>\n",
       "      <td>0.890583</td>\n",
       "      <td>7.235190</td>\n",
       "      <td>10.323895</td>\n",
       "    </tr>\n",
       "    <tr>\n",
       "      <th>100</th>\n",
       "      <td>New Zealand</td>\n",
       "      <td>2011.727273</td>\n",
       "      <td>4.001473</td>\n",
       "      <td>0.904364</td>\n",
       "      <td>7.319220</td>\n",
       "      <td>10.422214</td>\n",
       "    </tr>\n",
       "    <tr>\n",
       "      <th>43</th>\n",
       "      <td>Estonia</td>\n",
       "      <td>2011.636364</td>\n",
       "      <td>3.987989</td>\n",
       "      <td>0.854000</td>\n",
       "      <td>5.480357</td>\n",
       "      <td>10.175807</td>\n",
       "    </tr>\n",
       "    <tr>\n",
       "      <th>25</th>\n",
       "      <td>Canada</td>\n",
       "      <td>2011.416667</td>\n",
       "      <td>3.941784</td>\n",
       "      <td>0.908250</td>\n",
       "      <td>7.444609</td>\n",
       "      <td>10.644103</td>\n",
       "    </tr>\n",
       "    <tr>\n",
       "      <th>50</th>\n",
       "      <td>Germany</td>\n",
       "      <td>2011.416667</td>\n",
       "      <td>3.936376</td>\n",
       "      <td>0.924000</td>\n",
       "      <td>6.765202</td>\n",
       "      <td>10.643939</td>\n",
       "    </tr>\n",
       "    <tr>\n",
       "      <th>9</th>\n",
       "      <td>Bahrain</td>\n",
       "      <td>2013.000000</td>\n",
       "      <td>3.930685</td>\n",
       "      <td>0.814333</td>\n",
       "      <td>5.860863</td>\n",
       "      <td>10.649533</td>\n",
       "    </tr>\n",
       "  </tbody>\n",
       "</table>\n",
       "</div>"
      ],
      "text/plain": [
       "             Entity         Year  depression_percentage  HDI_UNDP  \\\n",
       "45          Finland  2012.200000               4.923207  0.910000   \n",
       "6         Australia  2011.636364               4.784311  0.927000   \n",
       "147   United States  2011.500000               4.784239  0.914583   \n",
       "112        Portugal  2012.200000               4.662381  0.830400   \n",
       "132          Sweden  2011.416667               4.535497  0.912417   \n",
       "64          Ireland  2011.909091               4.319103  0.914091   \n",
       "46           France  2011.333333               4.301561  0.886000   \n",
       "52           Greece  2011.727273               4.287339  0.858000   \n",
       "80        Lithuania  2011.500000               4.199437  0.835833   \n",
       "146  United Kingdom  2011.416667               4.117302  0.906167   \n",
       "12          Belgium  2011.636364               4.084728  0.905455   \n",
       "99      Netherlands  2011.636364               4.035027  0.916818   \n",
       "65           Israel  2011.500000               4.020876  0.890583   \n",
       "100     New Zealand  2011.727273               4.001473  0.904364   \n",
       "43          Estonia  2011.636364               3.987989  0.854000   \n",
       "25           Canada  2011.416667               3.941784  0.908250   \n",
       "50          Germany  2011.416667               3.936376  0.924000   \n",
       "9           Bahrain  2013.000000               3.930685  0.814333   \n",
       "\n",
       "     life_ladder  log_gdp_capita  \n",
       "45      7.523600       10.599315  \n",
       "6       7.309089       10.654931  \n",
       "147     7.124799       10.842013  \n",
       "112     5.295430       10.194749  \n",
       "132     7.371307       10.688197  \n",
       "64      7.063328       10.820768  \n",
       "46      6.664679       10.528614  \n",
       "52      5.504515       10.181106  \n",
       "80      5.718680       10.088312  \n",
       "146     6.881425       10.538086  \n",
       "12      7.021656       10.630381  \n",
       "99      7.466844       10.738537  \n",
       "65      7.235190       10.323895  \n",
       "100     7.319220       10.422214  \n",
       "43      5.480357       10.175807  \n",
       "25      7.444609       10.644103  \n",
       "50      6.765202       10.643939  \n",
       "9       5.860863       10.649533  "
      ]
     },
     "execution_count": 69,
     "metadata": {},
     "output_type": "execute_result"
    }
   ],
   "source": [
    "group2 = df_hdi_happiness_grouped.loc[(df_hdi_happiness_grouped['log_gdp_capita']>10) \n",
    "                             & (df_hdi_happiness_grouped['depression_percentage']>3.8)]\n",
    "group2.sort_values(['depression_percentage'],ascending=False)"
   ]
  },
  {
   "cell_type": "code",
   "execution_count": 54,
   "metadata": {},
   "outputs": [
    {
     "data": {
      "image/png": "[encoded data removed]",
      "text/plain": [
       "<Figure size 432x432 with 3 Axes>"
      ]
     },
     "metadata": {
      "needs_background": "light"
     },
     "output_type": "display_data"
    }
   ],
   "source": [
    "hh = sns.jointplot(data = df_hdi_happiness, y = \"depression_percentage\", \n",
    "                     x = \"HDI_UNDP\", kind='kde') "
   ]
  },
  {
   "cell_type": "code",
   "execution_count": 55,
   "metadata": {},
   "outputs": [
    {
     "data": {
      "image/png": "[encoded data removed]",
      "text/plain": [
       "<Figure size 432x432 with 3 Axes>"
      ]
     },
     "metadata": {
      "needs_background": "light"
     },
     "output_type": "display_data"
    }
   ],
   "source": [
    "vis7 = sns.jointplot(data = df_hdi_happiness, x = \"depression_percentage\", \n",
    "                     y = \"log_gdp_capita\", kind='kde') "
   ]
  },
  {
   "cell_type": "code",
   "execution_count": 56,
   "metadata": {},
   "outputs": [
    {
     "data": {
      "text/plain": [
       "<AxesSubplot:xlabel='log_gdp_capita', ylabel='depression_percentage'>"
      ]
     },
     "execution_count": 56,
     "metadata": {},
     "output_type": "execute_result"
    },
    {
     "data": {
      "image/png": "[encoded data removed]",
      "text/plain": [
       "<Figure size 1080x360 with 1 Axes>"
      ]
     },
     "metadata": {
      "needs_background": "light"
     },
     "output_type": "display_data"
    }
   ],
   "source": [
    "# depression / log_gdp_capita\n",
    "fig , ax1 = plt.subplots(figsize=(15,5))\n",
    "sns.scatterplot(data=df_hdi_happiness_grouped, \n",
    "             x=df_hdi_happiness_grouped['log_gdp_capita'],\n",
    "             y=df_hdi_happiness_grouped['depression_percentage'],\n",
    "             color='blue',ax=ax1)"
   ]
  },
  {
   "cell_type": "code",
   "execution_count": 57,
   "metadata": {},
   "outputs": [],
   "source": [
    "# depression / log_gdp_capita by country \n",
    "    \n",
    "def plot_hdi_gdp(country):\n",
    "    fig , ax1 = plt.subplots(figsize=(15,5))\n",
    "    sns.scatterplot(data=data_country2(country), \n",
    "                 x=data_country2(country)['log_gdp_capita'],\n",
    "                 y=data_country2(country)['depression_percentage'],\n",
    "                 color='blue',ax=ax1)"
   ]
  },
  {
   "cell_type": "code",
   "execution_count": 58,
   "metadata": {},
   "outputs": [
    {
     "data": {
      "image/png": "[encoded data removed]",
      "text/plain": [
       "<Figure size 1080x360 with 1 Axes>"
      ]
     },
     "metadata": {
      "needs_background": "light"
     },
     "output_type": "display_data"
    }
   ],
   "source": [
    "plot_hdi_gdp('Canada')"
   ]
  },
  {
   "cell_type": "code",
   "execution_count": 59,
   "metadata": {},
   "outputs": [
    {
     "data": {
      "text/plain": [
       "<AxesSubplot:xlabel='life_ladder', ylabel='depression_percentage'>"
      ]
     },
     "execution_count": 59,
     "metadata": {},
     "output_type": "execute_result"
    },
    {
     "data": {
      "image/png": "[encoded data removed]",
      "text/plain": [
       "<Figure size 1080x360 with 1 Axes>"
      ]
     },
     "metadata": {
      "needs_background": "light"
     },
     "output_type": "display_data"
    }
   ],
   "source": [
    "# depression / Happiness / hdi\n",
    "fig , ax1 = plt.subplots(figsize=(15,5))\n",
    "sns.scatterplot(data=df_hdi_happiness, \n",
    "             x=df_hdi_happiness['life_ladder'],\n",
    "             y=df_hdi_happiness['depression_percentage'],\n",
    "             color='blue',ax=ax1)"
   ]
  },
  {
   "cell_type": "code",
   "execution_count": 60,
   "metadata": {},
   "outputs": [
    {
     "data": {
      "text/plain": [
       "<AxesSubplot:xlabel='HDI_UNDP', ylabel='depression_percentage'>"
      ]
     },
     "execution_count": 60,
     "metadata": {},
     "output_type": "execute_result"
    },
    {
     "data": {
      "image/png": "[encoded data removed]",
      "text/plain": [
       "<Figure size 1080x360 with 1 Axes>"
      ]
     },
     "metadata": {
      "needs_background": "light"
     },
     "output_type": "display_data"
    }
   ],
   "source": [
    "# depression / HDI\n",
    "fig , ax1 = plt.subplots(figsize=(15,5))\n",
    "sns.scatterplot(data=df_hdi_happiness, \n",
    "             x=df_hdi_happiness['HDI_UNDP'],\n",
    "             y=df_hdi_happiness['depression_percentage'],\n",
    "             color='blue',ax=ax1)"
   ]
  }
 ],
 "metadata": {
  "kernelspec": {
   "display_name": "Python 3",
   "language": "python",
   "name": "python3"
  },
  "language_info": {
   "codemirror_mode": {
    "name": "ipython",
    "version": 3
   },
   "file_extension": ".py",
   "mimetype": "text/x-python",
   "name": "python",
   "nbconvert_exporter": "python",
   "pygments_lexer": "ipython3",
   "version": "3.8.5"
  }
 },
 "nbformat": 4,
 "nbformat_minor": 4
}
