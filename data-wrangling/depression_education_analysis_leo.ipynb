{
 "cells": [
  {
   "cell_type": "code",
   "execution_count": 1,
   "metadata": {},
   "outputs": [],
   "source": [
    "import numpy as np\n",
    "import pandas as pd\n",
    "import matplotlib.pyplot as plt\n",
    "import seaborn as sns\n",
    "import statsmodels.api as sm"
   ]
  },
  {
   "cell_type": "markdown",
   "metadata": {},
   "source": [
    "# importing the csv file, do basic inspection, dropping NaN values"
   ]
  },
  {
   "cell_type": "code",
   "execution_count": 2,
   "metadata": {},
   "outputs": [],
   "source": [
    "# depression by level of education 2014 dataset\n",
    "df_edu = pd.read_csv('../data/depression-by-level-of-education-employment.csv')\n",
    "df_gen = pd.read_csv('../data/gender/gender_hdi.csv')\n",
    "df_country = pd.read_csv('../data/number-with-depression-by-country.csv')\n",
    "df_devInd = pd.read_csv('../data/human-development-index.csv')\n",
    "df_depr = pd.read_csv('../data/prevalence-of-depression-by-age.csv')\n",
    "df_happiness = pd.read_csv('../data/world_happiness_index.csv')"
   ]
  },
  {
   "cell_type": "markdown",
   "metadata": {},
   "source": [
    "functions used to check for mismatches in different csv files are the same, in this case country names"
   ]
  },
  {
   "cell_type": "code",
   "execution_count": 3,
   "metadata": {},
   "outputs": [],
   "source": [
    "def list_diff(list1, list2): \n",
    "    return (list(set(list1) - set(list2))) "
   ]
  },
  {
   "cell_type": "markdown",
   "metadata": {},
   "source": [
    "load and inspect df_country"
   ]
  },
  {
   "cell_type": "code",
   "execution_count": 4,
   "metadata": {},
   "outputs": [
    {
     "data": {
      "text/html": [
       "<div>\n",
       "<style scoped>\n",
       "    .dataframe tbody tr th:only-of-type {\n",
       "        vertical-align: middle;\n",
       "    }\n",
       "\n",
       "    .dataframe tbody tr th {\n",
       "        vertical-align: top;\n",
       "    }\n",
       "\n",
       "    .dataframe thead th {\n",
       "        text-align: right;\n",
       "    }\n",
       "</style>\n",
       "<table border=\"1\" class=\"dataframe\">\n",
       "  <thead>\n",
       "    <tr style=\"text-align: right;\">\n",
       "      <th></th>\n",
       "      <th>Entity</th>\n",
       "      <th>Code</th>\n",
       "      <th>Year</th>\n",
       "      <th>Prevalence - Depressive disorders - Sex: Both - Age: All Ages (Number)</th>\n",
       "    </tr>\n",
       "  </thead>\n",
       "  <tbody>\n",
       "    <tr>\n",
       "      <th>0</th>\n",
       "      <td>Afghanistan</td>\n",
       "      <td>AFG</td>\n",
       "      <td>1990</td>\n",
       "      <td>318435.813670</td>\n",
       "    </tr>\n",
       "    <tr>\n",
       "      <th>1</th>\n",
       "      <td>Afghanistan</td>\n",
       "      <td>AFG</td>\n",
       "      <td>1991</td>\n",
       "      <td>329044.773956</td>\n",
       "    </tr>\n",
       "    <tr>\n",
       "      <th>2</th>\n",
       "      <td>Afghanistan</td>\n",
       "      <td>AFG</td>\n",
       "      <td>1992</td>\n",
       "      <td>382544.572895</td>\n",
       "    </tr>\n",
       "    <tr>\n",
       "      <th>3</th>\n",
       "      <td>Afghanistan</td>\n",
       "      <td>AFG</td>\n",
       "      <td>1993</td>\n",
       "      <td>440381.507393</td>\n",
       "    </tr>\n",
       "    <tr>\n",
       "      <th>4</th>\n",
       "      <td>Afghanistan</td>\n",
       "      <td>AFG</td>\n",
       "      <td>1994</td>\n",
       "      <td>456916.645489</td>\n",
       "    </tr>\n",
       "  </tbody>\n",
       "</table>\n",
       "</div>"
      ],
      "text/plain": [
       "        Entity Code  Year  \\\n",
       "0  Afghanistan  AFG  1990   \n",
       "1  Afghanistan  AFG  1991   \n",
       "2  Afghanistan  AFG  1992   \n",
       "3  Afghanistan  AFG  1993   \n",
       "4  Afghanistan  AFG  1994   \n",
       "\n",
       "   Prevalence - Depressive disorders - Sex: Both - Age: All Ages (Number)  \n",
       "0                                      318435.813670                       \n",
       "1                                      329044.773956                       \n",
       "2                                      382544.572895                       \n",
       "3                                      440381.507393                       \n",
       "4                                      456916.645489                       "
      ]
     },
     "execution_count": 4,
     "metadata": {},
     "output_type": "execute_result"
    }
   ],
   "source": [
    "df_country.head()"
   ]
  },
  {
   "cell_type": "code",
   "execution_count": 5,
   "metadata": {},
   "outputs": [],
   "source": [
    "df_country.rename(columns = {'Prevalence - Depressive disorders - Sex: Both - Age: All Ages (Number)': 'absolute_numbers'}, inplace= True)"
   ]
  },
  {
   "cell_type": "code",
   "execution_count": 6,
   "metadata": {},
   "outputs": [],
   "source": [
    "df_country_nan = df_country[df_country.isna().any(axis=1)]\n",
    "entity_list = [i for i in df_country_nan['Entity']]\n",
    "nan_value_countries = set(entity_list)"
   ]
  },
  {
   "cell_type": "markdown",
   "metadata": {},
   "source": [
    "Since df_country only have absolute numbers, we wil use df_depr due to the avaibility of the percentage"
   ]
  },
  {
   "cell_type": "code",
   "execution_count": 7,
   "metadata": {},
   "outputs": [],
   "source": [
    "df_depr.rename(columns ={'Prevalence - Depressive disorders - Sex: Both - Age: Age-standardized (Percent)':'depression_percentage'}, inplace=True)"
   ]
  },
  {
   "cell_type": "code",
   "execution_count": 8,
   "metadata": {},
   "outputs": [],
   "source": [
    "df_depr = df_depr[['Entity','Code','Year','depression_percentage']]"
   ]
  },
  {
   "cell_type": "code",
   "execution_count": 9,
   "metadata": {},
   "outputs": [
    {
     "data": {
      "text/html": [
       "<div>\n",
       "<style scoped>\n",
       "    .dataframe tbody tr th:only-of-type {\n",
       "        vertical-align: middle;\n",
       "    }\n",
       "\n",
       "    .dataframe tbody tr th {\n",
       "        vertical-align: top;\n",
       "    }\n",
       "\n",
       "    .dataframe thead th {\n",
       "        text-align: right;\n",
       "    }\n",
       "</style>\n",
       "<table border=\"1\" class=\"dataframe\">\n",
       "  <thead>\n",
       "    <tr style=\"text-align: right;\">\n",
       "      <th></th>\n",
       "      <th>Entity</th>\n",
       "      <th>Code</th>\n",
       "      <th>Year</th>\n",
       "      <th>depression_percentage</th>\n",
       "    </tr>\n",
       "  </thead>\n",
       "  <tbody>\n",
       "    <tr>\n",
       "      <th>5543</th>\n",
       "      <td>Swaziland</td>\n",
       "      <td>SWZ</td>\n",
       "      <td>2017</td>\n",
       "      <td>4.067654</td>\n",
       "    </tr>\n",
       "    <tr>\n",
       "      <th>4139</th>\n",
       "      <td>North Africa and Middle East</td>\n",
       "      <td>NaN</td>\n",
       "      <td>2013</td>\n",
       "      <td>3.948239</td>\n",
       "    </tr>\n",
       "    <tr>\n",
       "      <th>2996</th>\n",
       "      <td>Kiribati</td>\n",
       "      <td>KIR</td>\n",
       "      <td>1990</td>\n",
       "      <td>3.258509</td>\n",
       "    </tr>\n",
       "    <tr>\n",
       "      <th>1311</th>\n",
       "      <td>Colombia</td>\n",
       "      <td>COL</td>\n",
       "      <td>2013</td>\n",
       "      <td>2.204213</td>\n",
       "    </tr>\n",
       "    <tr>\n",
       "      <th>4021</th>\n",
       "      <td>New Zealand</td>\n",
       "      <td>NZL</td>\n",
       "      <td>2007</td>\n",
       "      <td>4.079556</td>\n",
       "    </tr>\n",
       "  </tbody>\n",
       "</table>\n",
       "</div>"
      ],
      "text/plain": [
       "                            Entity Code  Year  depression_percentage\n",
       "5543                     Swaziland  SWZ  2017               4.067654\n",
       "4139  North Africa and Middle East  NaN  2013               3.948239\n",
       "2996                      Kiribati  KIR  1990               3.258509\n",
       "1311                      Colombia  COL  2013               2.204213\n",
       "4021                   New Zealand  NZL  2007               4.079556"
      ]
     },
     "execution_count": 9,
     "metadata": {},
     "output_type": "execute_result"
    }
   ],
   "source": [
    "df_depr.sample(5)"
   ]
  },
  {
   "cell_type": "markdown",
   "metadata": {},
   "source": [
    "did a lot of work on pivoting the table, just to realise at the end it would be bad practice, so all codes have been turned to comments"
   ]
  },
  {
   "cell_type": "code",
   "execution_count": 10,
   "metadata": {},
   "outputs": [],
   "source": [
    "import matplotlib.pyplot as plt\n",
    "import seaborn as sns\n",
    "import statsmodels.api as sm\n",
    "\n",
    "\n",
    "#fig, ax1 = plt.subplots(figsize=(15,5))\n",
    "#plt.plot(country_year_sex.groupby(['year']).agg({'suicides_no':sum}))"
   ]
  },
  {
   "cell_type": "code",
   "execution_count": 88,
   "metadata": {},
   "outputs": [],
   "source": [
    "def data_country1(country):\n",
    "    i = df_depr.loc[df_depr['Entity']==country]\n",
    "    return i"
   ]
  },
  {
   "cell_type": "code",
   "execution_count": 90,
   "metadata": {},
   "outputs": [],
   "source": [
    "def plot_depr(country):\n",
    "    fig , ax1 = plt.subplots(figsize=(15,5))\n",
    "    sns.scatterplot(data=data_country1(country), \n",
    "                 x=data_country1(country)['Year'],\n",
    "                 y=data_country1(country)['depression_percentage'],\n",
    "                 color='blue',ax=ax1)\n",
    "\n",
    "#plt.plot(df_depr.groupby(['Year']))"
   ]
  },
  {
   "cell_type": "code",
   "execution_count": 91,
   "metadata": {},
   "outputs": [
    {
     "data": {
      "image/png": "[encoded data removed]",
      "text/plain": [
       "<Figure size 1080x360 with 1 Axes>"
      ]
     },
     "metadata": {
      "needs_background": "light"
     },
     "output_type": "display_data"
    }
   ],
   "source": [
    "plot_depr('United States')"
   ]
  },
  {
   "cell_type": "markdown",
   "metadata": {},
   "source": [
    "world rate of depression between 1990 - 2017"
   ]
  },
  {
   "cell_type": "code",
   "execution_count": 93,
   "metadata": {},
   "outputs": [
    {
     "data": {
      "text/plain": [
       "<AxesSubplot:xlabel='Year', ylabel='depression_percentage'>"
      ]
     },
     "execution_count": 93,
     "metadata": {},
     "output_type": "execute_result"
    },
    {
     "data": {
      "image/png": "[encoded data removed]",
      "text/plain": [
       "<Figure size 1080x360 with 1 Axes>"
      ]
     },
     "metadata": {
      "needs_background": "light"
     },
     "output_type": "display_data"
    }
   ],
   "source": [
    "fig , ax = plt.subplots(figsize=(15,5))\n",
    "sns.lineplot(data=df_depr, x='Year',y='depression_percentage',color='blue',ax=ax)\n"
   ]
  },
  {
   "cell_type": "code",
   "execution_count": 11,
   "metadata": {},
   "outputs": [],
   "source": [
    "# Code practices on pandas.series"
   ]
  },
  {
   "cell_type": "code",
   "execution_count": 12,
   "metadata": {},
   "outputs": [],
   "source": [
    "# test = df_country.groupby(['Entity']).absolute_numbers.mean()\n",
    "# test\n",
    "# type(test)\n",
    "# indexlist = [i for i in test.index]\n",
    "# len(indexlist) \n",
    "# test.loc['Germany']"
   ]
  },
  {
   "cell_type": "code",
   "execution_count": 13,
   "metadata": {},
   "outputs": [],
   "source": [
    "# code practices ond pivot_table and multiIndex, here pivot_table is not needed since it would turn the already tidy data into untidy data!"
   ]
  },
  {
   "cell_type": "code",
   "execution_count": 14,
   "metadata": {},
   "outputs": [],
   "source": [
    "#df_country_pivot = df_country.pivot_table(index=['Entity'], columns=['Year'], values=['absolute_numbers'])\n",
    "#df_country_pivot.loc[:,('absolute_numbers',1995)]\n",
    "#df_country_pivot.loc['Germany',('absolute_numbers',1995)]\n",
    "#df_country_pivot.loc['Germany',('absolute_numbers')]\n",
    "#df_country_pivot.loc['Germany',('absolute_numbers',(1995,2016))]\n",
    "#df_country_pivot.columns\n",
    "#df_devInd.head()\n",
    "# df_devInd_2index = df_devInd.set_index(['Entity','Year'])\n",
    "# df_devInd_2index.sort_index(inplace = 'True')\n",
    "# df_devInd_2index.head(5)\n",
    "# multiindex, visually beautiful, but not tidy\n",
    "# df_devInd_2index = df_devInd_2index.reset_index()\n",
    "# len(df_devInd_2index.index)\n",
    "# df_devInd_2index.columns\n",
    "# df_devInd_2index.iloc[0,0]\n",
    "# if dataframe is not pivoted, or pivoted with dual index (country, year), then concat like this:\n",
    "# merged_df = pd.merge(df1,df2,left_index=True,right_index=True)"
   ]
  },
  {
   "cell_type": "markdown",
   "metadata": {},
   "source": [
    "loading and cleaning of dataset 'human development index'"
   ]
  },
  {
   "cell_type": "code",
   "execution_count": 15,
   "metadata": {},
   "outputs": [],
   "source": [
    "df_devInd.rename(columns={'Human Development Index (UNDP)':'HDI_UNDP'},inplace =True)"
   ]
  },
  {
   "cell_type": "code",
   "execution_count": 16,
   "metadata": {},
   "outputs": [
    {
     "data": {
      "text/plain": [
       "(5001, 4)"
      ]
     },
     "execution_count": 16,
     "metadata": {},
     "output_type": "execute_result"
    }
   ],
   "source": [
    "df_devInd.shape"
   ]
  },
  {
   "cell_type": "code",
   "execution_count": 17,
   "metadata": {},
   "outputs": [
    {
     "data": {
      "text/html": [
       "<div>\n",
       "<style scoped>\n",
       "    .dataframe tbody tr th:only-of-type {\n",
       "        vertical-align: middle;\n",
       "    }\n",
       "\n",
       "    .dataframe tbody tr th {\n",
       "        vertical-align: top;\n",
       "    }\n",
       "\n",
       "    .dataframe thead th {\n",
       "        text-align: right;\n",
       "    }\n",
       "</style>\n",
       "<table border=\"1\" class=\"dataframe\">\n",
       "  <thead>\n",
       "    <tr style=\"text-align: right;\">\n",
       "      <th></th>\n",
       "      <th>Entity</th>\n",
       "      <th>Code</th>\n",
       "      <th>Year</th>\n",
       "      <th>HDI_UNDP</th>\n",
       "    </tr>\n",
       "  </thead>\n",
       "  <tbody>\n",
       "    <tr>\n",
       "      <th>3893</th>\n",
       "      <td>Senegal</td>\n",
       "      <td>SEN</td>\n",
       "      <td>1994</td>\n",
       "      <td>0.366</td>\n",
       "    </tr>\n",
       "    <tr>\n",
       "      <th>4104</th>\n",
       "      <td>South Africa</td>\n",
       "      <td>ZAF</td>\n",
       "      <td>1998</td>\n",
       "      <td>0.639</td>\n",
       "    </tr>\n",
       "    <tr>\n",
       "      <th>454</th>\n",
       "      <td>Benin</td>\n",
       "      <td>BEN</td>\n",
       "      <td>1980</td>\n",
       "      <td>0.286</td>\n",
       "    </tr>\n",
       "    <tr>\n",
       "      <th>4102</th>\n",
       "      <td>South Africa</td>\n",
       "      <td>ZAF</td>\n",
       "      <td>1996</td>\n",
       "      <td>0.647</td>\n",
       "    </tr>\n",
       "    <tr>\n",
       "      <th>549</th>\n",
       "      <td>Botswana</td>\n",
       "      <td>BWA</td>\n",
       "      <td>1994</td>\n",
       "      <td>0.575</td>\n",
       "    </tr>\n",
       "  </tbody>\n",
       "</table>\n",
       "</div>"
      ],
      "text/plain": [
       "            Entity Code  Year  HDI_UNDP\n",
       "3893       Senegal  SEN  1994     0.366\n",
       "4104  South Africa  ZAF  1998     0.639\n",
       "454          Benin  BEN  1980     0.286\n",
       "4102  South Africa  ZAF  1996     0.647\n",
       "549       Botswana  BWA  1994     0.575"
      ]
     },
     "execution_count": 17,
     "metadata": {},
     "output_type": "execute_result"
    }
   ],
   "source": [
    "df_devInd.sample(5)"
   ]
  },
  {
   "cell_type": "markdown",
   "metadata": {},
   "source": [
    "Creating a dataframe consisting of information on HDI and depression level for a range of years"
   ]
  },
  {
   "cell_type": "code",
   "execution_count": 18,
   "metadata": {},
   "outputs": [],
   "source": [
    "df_depression_hdi = df_depr.merge(df_devInd, how='inner', left_on=['Entity','Year'], right_on=['Entity','Year'])"
   ]
  },
  {
   "cell_type": "code",
   "execution_count": 19,
   "metadata": {},
   "outputs": [],
   "source": [
    "df_depression_hdi = df_depression_hdi.drop(['Code_y'],axis=1)"
   ]
  },
  {
   "cell_type": "code",
   "execution_count": 20,
   "metadata": {},
   "outputs": [],
   "source": [
    "df_depression_hdi = df_depression_hdi.rename(columns={'Code_x':'Code'})"
   ]
  },
  {
   "cell_type": "code",
   "execution_count": 21,
   "metadata": {},
   "outputs": [
    {
     "data": {
      "text/plain": [
       "Entity                   0\n",
       "Code                     0\n",
       "Year                     0\n",
       "depression_percentage    0\n",
       "HDI_UNDP                 0\n",
       "dtype: int64"
      ]
     },
     "execution_count": 21,
     "metadata": {},
     "output_type": "execute_result"
    }
   ],
   "source": [
    "df_depression_hdi.isnull().sum()"
   ]
  },
  {
   "cell_type": "code",
   "execution_count": 22,
   "metadata": {},
   "outputs": [
    {
     "data": {
      "text/plain": [
       "(4680, 5)"
      ]
     },
     "execution_count": 22,
     "metadata": {},
     "output_type": "execute_result"
    }
   ],
   "source": [
    "# dataframe on depression level and Hdi\n",
    "df_depression_hdi.shape"
   ]
  },
  {
   "cell_type": "code",
   "execution_count": 23,
   "metadata": {},
   "outputs": [
    {
     "data": {
      "text/plain": [
       "185"
      ]
     },
     "execution_count": 23,
     "metadata": {},
     "output_type": "execute_result"
    }
   ],
   "source": [
    "len(set(df_depression_hdi['Entity']))"
   ]
  },
  {
   "cell_type": "code",
   "execution_count": 24,
   "metadata": {},
   "outputs": [
    {
     "data": {
      "text/html": [
       "<div>\n",
       "<style scoped>\n",
       "    .dataframe tbody tr th:only-of-type {\n",
       "        vertical-align: middle;\n",
       "    }\n",
       "\n",
       "    .dataframe tbody tr th {\n",
       "        vertical-align: top;\n",
       "    }\n",
       "\n",
       "    .dataframe thead th {\n",
       "        text-align: right;\n",
       "    }\n",
       "</style>\n",
       "<table border=\"1\" class=\"dataframe\">\n",
       "  <thead>\n",
       "    <tr style=\"text-align: right;\">\n",
       "      <th></th>\n",
       "      <th>Entity</th>\n",
       "      <th>Code</th>\n",
       "      <th>Year</th>\n",
       "      <th>depression_percentage</th>\n",
       "      <th>HDI_UNDP</th>\n",
       "    </tr>\n",
       "  </thead>\n",
       "  <tbody>\n",
       "    <tr>\n",
       "      <th>4673</th>\n",
       "      <td>Zimbabwe</td>\n",
       "      <td>ZWE</td>\n",
       "      <td>2011</td>\n",
       "      <td>3.109526</td>\n",
       "      <td>0.478</td>\n",
       "    </tr>\n",
       "    <tr>\n",
       "      <th>4674</th>\n",
       "      <td>Zimbabwe</td>\n",
       "      <td>ZWE</td>\n",
       "      <td>2012</td>\n",
       "      <td>3.118072</td>\n",
       "      <td>0.505</td>\n",
       "    </tr>\n",
       "    <tr>\n",
       "      <th>4675</th>\n",
       "      <td>Zimbabwe</td>\n",
       "      <td>ZWE</td>\n",
       "      <td>2013</td>\n",
       "      <td>3.128192</td>\n",
       "      <td>0.516</td>\n",
       "    </tr>\n",
       "    <tr>\n",
       "      <th>4676</th>\n",
       "      <td>Zimbabwe</td>\n",
       "      <td>ZWE</td>\n",
       "      <td>2014</td>\n",
       "      <td>3.140290</td>\n",
       "      <td>0.525</td>\n",
       "    </tr>\n",
       "    <tr>\n",
       "      <th>4677</th>\n",
       "      <td>Zimbabwe</td>\n",
       "      <td>ZWE</td>\n",
       "      <td>2015</td>\n",
       "      <td>3.155710</td>\n",
       "      <td>0.529</td>\n",
       "    </tr>\n",
       "    <tr>\n",
       "      <th>4678</th>\n",
       "      <td>Zimbabwe</td>\n",
       "      <td>ZWE</td>\n",
       "      <td>2016</td>\n",
       "      <td>3.174134</td>\n",
       "      <td>0.532</td>\n",
       "    </tr>\n",
       "    <tr>\n",
       "      <th>4679</th>\n",
       "      <td>Zimbabwe</td>\n",
       "      <td>ZWE</td>\n",
       "      <td>2017</td>\n",
       "      <td>3.192789</td>\n",
       "      <td>0.535</td>\n",
       "    </tr>\n",
       "  </tbody>\n",
       "</table>\n",
       "</div>"
      ],
      "text/plain": [
       "        Entity Code  Year  depression_percentage  HDI_UNDP\n",
       "4673  Zimbabwe  ZWE  2011               3.109526     0.478\n",
       "4674  Zimbabwe  ZWE  2012               3.118072     0.505\n",
       "4675  Zimbabwe  ZWE  2013               3.128192     0.516\n",
       "4676  Zimbabwe  ZWE  2014               3.140290     0.525\n",
       "4677  Zimbabwe  ZWE  2015               3.155710     0.529\n",
       "4678  Zimbabwe  ZWE  2016               3.174134     0.532\n",
       "4679  Zimbabwe  ZWE  2017               3.192789     0.535"
      ]
     },
     "execution_count": 24,
     "metadata": {},
     "output_type": "execute_result"
    }
   ],
   "source": [
    "df_depression_hdi.tail(7)"
   ]
  },
  {
   "cell_type": "code",
   "execution_count": 25,
   "metadata": {},
   "outputs": [
    {
     "data": {
      "text/plain": [
       "Year                    -0.057807\n",
       "HDI_UNDP                -0.032316\n",
       "depression_percentage    1.000000\n",
       "Name: depression_percentage, dtype: float64"
      ]
     },
     "execution_count": 25,
     "metadata": {},
     "output_type": "execute_result"
    }
   ],
   "source": [
    "df_depression_hdi.corr(method='pearson')['depression_percentage'].sort_values()"
   ]
  },
  {
   "cell_type": "markdown",
   "metadata": {},
   "source": [
    "check happiness for nan value and select relevant data for further analysis "
   ]
  },
  {
   "cell_type": "code",
   "execution_count": 26,
   "metadata": {},
   "outputs": [
    {
     "data": {
      "text/plain": [
       "Country name                                                 True\n",
       "Year                                                         True\n",
       "Life Ladder                                                  True\n",
       "Log GDP per capita                                           True\n",
       "Social support                                               True\n",
       "Healthy life expectancy at birth                             True\n",
       "Freedom to make life choices                                 True\n",
       "Generosity                                                   True\n",
       "Perceptions of corruption                                    True\n",
       "Positive affect                                              True\n",
       "Negative affect                                              True\n",
       "Confidence in national government                           False\n",
       "Democratic Quality                                          False\n",
       "Delivery Quality                                            False\n",
       "Standard deviation of ladder by country-year                 True\n",
       "Standard deviation/Mean of ladder by country-year            True\n",
       "GINI index (World Bank estimate)                            False\n",
       "GINI index (World Bank estimate), average 2000-16           False\n",
       "gini of household income reported in Gallup, by wp5-year    False\n",
       "Most people can be trusted, Gallup                          False\n",
       "Most people can be trusted, WVS round 1981-1984             False\n",
       "Most people can be trusted, WVS round 1989-1993             False\n",
       "Most people can be trusted, WVS round 1994-1998             False\n",
       "Most people can be trusted, WVS round 1999-2004             False\n",
       "Most people can be trusted, WVS round 2005-2009             False\n",
       "Most people can be trusted, WVS round 2010-2014             False\n",
       "dtype: bool"
      ]
     },
     "execution_count": 26,
     "metadata": {},
     "output_type": "execute_result"
    }
   ],
   "source": [
    "df_happiness.isna().sum()<100"
   ]
  },
  {
   "cell_type": "code",
   "execution_count": 27,
   "metadata": {},
   "outputs": [],
   "source": [
    "df_happiness = df_happiness[['Country name', 'Year', 'Life Ladder', 'Log GDP per capita']]\n",
    "df_happiness.rename(columns={'Country name':'Entity','Life Ladder':'life_ladder','Log GDP per capita':'log_gdp_capita'}, inplace=True)"
   ]
  },
  {
   "cell_type": "markdown",
   "metadata": {},
   "source": [
    "merge happiness index and depression/hdi dataframes"
   ]
  },
  {
   "cell_type": "code",
   "execution_count": 28,
   "metadata": {},
   "outputs": [],
   "source": [
    "df_hdi_happiness = df_depression_hdi.merge(df_happiness,on=['Entity', 'Year'])"
   ]
  },
  {
   "cell_type": "code",
   "execution_count": 29,
   "metadata": {},
   "outputs": [
    {
     "data": {
      "text/plain": [
       "Entity                   0\n",
       "Code                     0\n",
       "Year                     0\n",
       "depression_percentage    0\n",
       "HDI_UNDP                 0\n",
       "life_ladder              0\n",
       "log_gdp_capita           3\n",
       "dtype: int64"
      ]
     },
     "execution_count": 29,
     "metadata": {},
     "output_type": "execute_result"
    }
   ],
   "source": [
    "df_hdi_happiness.isnull().sum()"
   ]
  },
  {
   "cell_type": "code",
   "execution_count": 30,
   "metadata": {},
   "outputs": [
    {
     "data": {
      "text/html": [
       "<div>\n",
       "<style scoped>\n",
       "    .dataframe tbody tr th:only-of-type {\n",
       "        vertical-align: middle;\n",
       "    }\n",
       "\n",
       "    .dataframe tbody tr th {\n",
       "        vertical-align: top;\n",
       "    }\n",
       "\n",
       "    .dataframe thead th {\n",
       "        text-align: right;\n",
       "    }\n",
       "</style>\n",
       "<table border=\"1\" class=\"dataframe\">\n",
       "  <thead>\n",
       "    <tr style=\"text-align: right;\">\n",
       "      <th></th>\n",
       "      <th>Entity</th>\n",
       "      <th>Code</th>\n",
       "      <th>Year</th>\n",
       "      <th>depression_percentage</th>\n",
       "      <th>HDI_UNDP</th>\n",
       "      <th>life_ladder</th>\n",
       "      <th>log_gdp_capita</th>\n",
       "    </tr>\n",
       "  </thead>\n",
       "  <tbody>\n",
       "    <tr>\n",
       "      <th>1220</th>\n",
       "      <td>South Sudan</td>\n",
       "      <td>SSD</td>\n",
       "      <td>2017</td>\n",
       "      <td>3.699147</td>\n",
       "      <td>0.388</td>\n",
       "      <td>2,816622496</td>\n",
       "      <td>NaN</td>\n",
       "    </tr>\n",
       "    <tr>\n",
       "      <th>1276</th>\n",
       "      <td>Syria</td>\n",
       "      <td>SYR</td>\n",
       "      <td>2015</td>\n",
       "      <td>3.547811</td>\n",
       "      <td>0.538</td>\n",
       "      <td>3,46191287</td>\n",
       "      <td>NaN</td>\n",
       "    </tr>\n",
       "    <tr>\n",
       "      <th>1467</th>\n",
       "      <td>Yemen</td>\n",
       "      <td>YEM</td>\n",
       "      <td>2017</td>\n",
       "      <td>4.012346</td>\n",
       "      <td>0.452</td>\n",
       "      <td>3,253560066</td>\n",
       "      <td>NaN</td>\n",
       "    </tr>\n",
       "  </tbody>\n",
       "</table>\n",
       "</div>"
      ],
      "text/plain": [
       "           Entity Code  Year  depression_percentage  HDI_UNDP  life_ladder  \\\n",
       "1220  South Sudan  SSD  2017               3.699147     0.388  2,816622496   \n",
       "1276        Syria  SYR  2015               3.547811     0.538   3,46191287   \n",
       "1467        Yemen  YEM  2017               4.012346     0.452  3,253560066   \n",
       "\n",
       "     log_gdp_capita  \n",
       "1220            NaN  \n",
       "1276            NaN  \n",
       "1467            NaN  "
      ]
     },
     "execution_count": 30,
     "metadata": {},
     "output_type": "execute_result"
    }
   ],
   "source": [
    "df_hdi_happiness[df_hdi_happiness.isnull().any(axis=1)]"
   ]
  },
  {
   "cell_type": "code",
   "execution_count": 31,
   "metadata": {},
   "outputs": [
    {
     "data": {
      "text/plain": [
       "155"
      ]
     },
     "execution_count": 31,
     "metadata": {},
     "output_type": "execute_result"
    }
   ],
   "source": [
    "len(set(df_hdi_happiness['Entity']))"
   ]
  },
  {
   "cell_type": "code",
   "execution_count": 32,
   "metadata": {},
   "outputs": [
    {
     "data": {
      "text/html": [
       "<div>\n",
       "<style scoped>\n",
       "    .dataframe tbody tr th:only-of-type {\n",
       "        vertical-align: middle;\n",
       "    }\n",
       "\n",
       "    .dataframe tbody tr th {\n",
       "        vertical-align: top;\n",
       "    }\n",
       "\n",
       "    .dataframe thead th {\n",
       "        text-align: right;\n",
       "    }\n",
       "</style>\n",
       "<table border=\"1\" class=\"dataframe\">\n",
       "  <thead>\n",
       "    <tr style=\"text-align: right;\">\n",
       "      <th></th>\n",
       "      <th>Entity</th>\n",
       "      <th>Code</th>\n",
       "      <th>Year</th>\n",
       "      <th>depression_percentage</th>\n",
       "      <th>HDI_UNDP</th>\n",
       "      <th>life_ladder</th>\n",
       "      <th>log_gdp_capita</th>\n",
       "    </tr>\n",
       "  </thead>\n",
       "  <tbody>\n",
       "    <tr>\n",
       "      <th>9</th>\n",
       "      <td>Afghanistan</td>\n",
       "      <td>AFG</td>\n",
       "      <td>2017</td>\n",
       "      <td>4.136347</td>\n",
       "      <td>0.498</td>\n",
       "      <td>2,66171813</td>\n",
       "      <td>7,497754574</td>\n",
       "    </tr>\n",
       "    <tr>\n",
       "      <th>991</th>\n",
       "      <td>Nigeria</td>\n",
       "      <td>NGA</td>\n",
       "      <td>2017</td>\n",
       "      <td>3.917691</td>\n",
       "      <td>0.532</td>\n",
       "      <td>5,321928024</td>\n",
       "      <td>8,582691193</td>\n",
       "    </tr>\n",
       "    <tr>\n",
       "      <th>1093</th>\n",
       "      <td>Romania</td>\n",
       "      <td>ROU</td>\n",
       "      <td>2014</td>\n",
       "      <td>2.340368</td>\n",
       "      <td>0.802</td>\n",
       "      <td>5,726893425</td>\n",
       "      <td>9,887231827</td>\n",
       "    </tr>\n",
       "    <tr>\n",
       "      <th>1076</th>\n",
       "      <td>Portugal</td>\n",
       "      <td>PRT</td>\n",
       "      <td>2013</td>\n",
       "      <td>4.675021</td>\n",
       "      <td>0.837</td>\n",
       "      <td>5,157688141</td>\n",
       "      <td>10,15247917</td>\n",
       "    </tr>\n",
       "    <tr>\n",
       "      <th>1003</th>\n",
       "      <td>Pakistan</td>\n",
       "      <td>PAK</td>\n",
       "      <td>2009</td>\n",
       "      <td>3.331079</td>\n",
       "      <td>0.522</td>\n",
       "      <td>5,208146572</td>\n",
       "      <td>8,367408752</td>\n",
       "    </tr>\n",
       "  </tbody>\n",
       "</table>\n",
       "</div>"
      ],
      "text/plain": [
       "           Entity Code  Year  depression_percentage  HDI_UNDP  life_ladder  \\\n",
       "9     Afghanistan  AFG  2017               4.136347     0.498   2,66171813   \n",
       "991       Nigeria  NGA  2017               3.917691     0.532  5,321928024   \n",
       "1093      Romania  ROU  2014               2.340368     0.802  5,726893425   \n",
       "1076     Portugal  PRT  2013               4.675021     0.837  5,157688141   \n",
       "1003     Pakistan  PAK  2009               3.331079     0.522  5,208146572   \n",
       "\n",
       "     log_gdp_capita  \n",
       "9       7,497754574  \n",
       "991     8,582691193  \n",
       "1093    9,887231827  \n",
       "1076    10,15247917  \n",
       "1003    8,367408752  "
      ]
     },
     "execution_count": 32,
     "metadata": {},
     "output_type": "execute_result"
    }
   ],
   "source": [
    "df_hdi_happiness.sample(5)"
   ]
  },
  {
   "cell_type": "code",
   "execution_count": 132,
   "metadata": {},
   "outputs": [
    {
     "data": {
      "text/plain": [
       "Entity                    object\n",
       "Code                      object\n",
       "Year                       int64\n",
       "depression_percentage    float64\n",
       "HDI_UNDP                 float64\n",
       "life_ladder               object\n",
       "log_gdp_capita            object\n",
       "dtype: object"
      ]
     },
     "execution_count": 132,
     "metadata": {},
     "output_type": "execute_result"
    }
   ],
   "source": [
    "df_hdi_happiness.dtypes"
   ]
  },
  {
   "cell_type": "code",
   "execution_count": 144,
   "metadata": {},
   "outputs": [],
   "source": [
    "df_hdi_happiness['life_ladder'] = df_hdi_happiness['life_ladder'].str.replace(',','.')\n",
    "df_hdi_happiness['log_gdp_capita'] = df_hdi_happiness['log_gdp_capita'].str.replace(',','.')"
   ]
  },
  {
   "cell_type": "code",
   "execution_count": 146,
   "metadata": {},
   "outputs": [],
   "source": [
    "df_hdi_happiness['life_ladder'] = df_hdi_happiness['life_ladder'].astype(float)\n",
    "df_hdi_happiness['log_gdp_capita'] = df_hdi_happiness['log_gdp_capita'].astype(float)"
   ]
  },
  {
   "cell_type": "code",
   "execution_count": 147,
   "metadata": {},
   "outputs": [
    {
     "data": {
      "text/html": [
       "<div>\n",
       "<style scoped>\n",
       "    .dataframe tbody tr th:only-of-type {\n",
       "        vertical-align: middle;\n",
       "    }\n",
       "\n",
       "    .dataframe tbody tr th {\n",
       "        vertical-align: top;\n",
       "    }\n",
       "\n",
       "    .dataframe thead th {\n",
       "        text-align: right;\n",
       "    }\n",
       "</style>\n",
       "<table border=\"1\" class=\"dataframe\">\n",
       "  <thead>\n",
       "    <tr style=\"text-align: right;\">\n",
       "      <th></th>\n",
       "      <th>Entity</th>\n",
       "      <th>Code</th>\n",
       "      <th>Year</th>\n",
       "      <th>depression_percentage</th>\n",
       "      <th>HDI_UNDP</th>\n",
       "      <th>life_ladder</th>\n",
       "      <th>log_gdp_capita</th>\n",
       "    </tr>\n",
       "  </thead>\n",
       "  <tbody>\n",
       "    <tr>\n",
       "      <th>998</th>\n",
       "      <td>Norway</td>\n",
       "      <td>NOR</td>\n",
       "      <td>2017</td>\n",
       "      <td>3.77191</td>\n",
       "      <td>0.953</td>\n",
       "      <td>7.578745</td>\n",
       "      <td>11.079062</td>\n",
       "    </tr>\n",
       "  </tbody>\n",
       "</table>\n",
       "</div>"
      ],
      "text/plain": [
       "     Entity Code  Year  depression_percentage  HDI_UNDP  life_ladder  \\\n",
       "998  Norway  NOR  2017                3.77191     0.953     7.578745   \n",
       "\n",
       "     log_gdp_capita  \n",
       "998       11.079062  "
      ]
     },
     "execution_count": 147,
     "metadata": {},
     "output_type": "execute_result"
    }
   ],
   "source": [
    "df_hdi_happiness.sample(1)"
   ]
  },
  {
   "cell_type": "code",
   "execution_count": 114,
   "metadata": {},
   "outputs": [],
   "source": [
    "def data_country2(country):\n",
    "    i = df_hdi_happiness.loc[df_hdi_happiness['Entity']==country]\n",
    "    return i"
   ]
  },
  {
   "cell_type": "code",
   "execution_count": 115,
   "metadata": {},
   "outputs": [],
   "source": [
    "def plot_hdi_happiness(country):\n",
    "    fig , ax1 = plt.subplots(figsize=(15,5))\n",
    "    sns.lineplot(data=data_country2(country), \n",
    "                 x=data_country2(country)['HDI_UNDP'],\n",
    "                 y=data_country2(country)['depression_percentage'],\n",
    "                 color='blue',ax=ax1)"
   ]
  },
  {
   "cell_type": "code",
   "execution_count": 117,
   "metadata": {},
   "outputs": [
    {
     "data": {
      "image/png": "[encoded data removed]",
      "text/plain": [
       "<Figure size 1080x360 with 1 Axes>"
      ]
     },
     "metadata": {
      "needs_background": "light"
     },
     "output_type": "display_data"
    }
   ],
   "source": [
    "plot_hdi_happiness('United States')"
   ]
  },
  {
   "cell_type": "code",
   "execution_count": 154,
   "metadata": {},
   "outputs": [
    {
     "data": {
      "text/html": [
       "<div>\n",
       "<style scoped>\n",
       "    .dataframe tbody tr th:only-of-type {\n",
       "        vertical-align: middle;\n",
       "    }\n",
       "\n",
       "    .dataframe tbody tr th {\n",
       "        vertical-align: top;\n",
       "    }\n",
       "\n",
       "    .dataframe thead th {\n",
       "        text-align: right;\n",
       "    }\n",
       "</style>\n",
       "<table border=\"1\" class=\"dataframe\">\n",
       "  <thead>\n",
       "    <tr style=\"text-align: right;\">\n",
       "      <th></th>\n",
       "      <th>Entity</th>\n",
       "      <th>Code</th>\n",
       "      <th>Year</th>\n",
       "      <th>depression_percentage</th>\n",
       "      <th>HDI_UNDP</th>\n",
       "      <th>life_ladder</th>\n",
       "      <th>log_gdp_capita</th>\n",
       "    </tr>\n",
       "  </thead>\n",
       "  <tbody>\n",
       "    <tr>\n",
       "      <th>7</th>\n",
       "      <td>Afghanistan</td>\n",
       "      <td>AFG</td>\n",
       "      <td>2015</td>\n",
       "      <td>4.135419</td>\n",
       "      <td>0.493</td>\n",
       "      <td>3.982855</td>\n",
       "      <td>7.500539</td>\n",
       "    </tr>\n",
       "    <tr>\n",
       "      <th>17</th>\n",
       "      <td>Albania</td>\n",
       "      <td>ALB</td>\n",
       "      <td>2015</td>\n",
       "      <td>2.204454</td>\n",
       "      <td>0.776</td>\n",
       "      <td>4.606651</td>\n",
       "      <td>9.302960</td>\n",
       "    </tr>\n",
       "    <tr>\n",
       "      <th>39</th>\n",
       "      <td>Argentina</td>\n",
       "      <td>ARG</td>\n",
       "      <td>2015</td>\n",
       "      <td>3.657683</td>\n",
       "      <td>0.822</td>\n",
       "      <td>6.697131</td>\n",
       "      <td>9.858329</td>\n",
       "    </tr>\n",
       "    <tr>\n",
       "      <th>51</th>\n",
       "      <td>Armenia</td>\n",
       "      <td>ARM</td>\n",
       "      <td>2015</td>\n",
       "      <td>2.740289</td>\n",
       "      <td>0.748</td>\n",
       "      <td>4.348320</td>\n",
       "      <td>9.011394</td>\n",
       "    </tr>\n",
       "    <tr>\n",
       "      <th>62</th>\n",
       "      <td>Australia</td>\n",
       "      <td>AUS</td>\n",
       "      <td>2015</td>\n",
       "      <td>4.696774</td>\n",
       "      <td>0.936</td>\n",
       "      <td>7.309061</td>\n",
       "      <td>10.690199</td>\n",
       "    </tr>\n",
       "    <tr>\n",
       "      <th>...</th>\n",
       "      <td>...</td>\n",
       "      <td>...</td>\n",
       "      <td>...</td>\n",
       "      <td>...</td>\n",
       "      <td>...</td>\n",
       "      <td>...</td>\n",
       "      <td>...</td>\n",
       "    </tr>\n",
       "    <tr>\n",
       "      <th>1443</th>\n",
       "      <td>Venezuela</td>\n",
       "      <td>VEN</td>\n",
       "      <td>2015</td>\n",
       "      <td>2.811889</td>\n",
       "      <td>0.775</td>\n",
       "      <td>5.568800</td>\n",
       "      <td>9.655211</td>\n",
       "    </tr>\n",
       "    <tr>\n",
       "      <th>1455</th>\n",
       "      <td>Vietnam</td>\n",
       "      <td>VNM</td>\n",
       "      <td>2015</td>\n",
       "      <td>2.881750</td>\n",
       "      <td>0.684</td>\n",
       "      <td>5.076315</td>\n",
       "      <td>8.622428</td>\n",
       "    </tr>\n",
       "    <tr>\n",
       "      <th>1465</th>\n",
       "      <td>Yemen</td>\n",
       "      <td>YEM</td>\n",
       "      <td>2015</td>\n",
       "      <td>4.017056</td>\n",
       "      <td>0.483</td>\n",
       "      <td>2.982674</td>\n",
       "      <td>7.744412</td>\n",
       "    </tr>\n",
       "    <tr>\n",
       "      <th>1476</th>\n",
       "      <td>Zambia</td>\n",
       "      <td>ZMB</td>\n",
       "      <td>2015</td>\n",
       "      <td>3.576608</td>\n",
       "      <td>0.583</td>\n",
       "      <td>4.843164</td>\n",
       "      <td>8.196217</td>\n",
       "    </tr>\n",
       "    <tr>\n",
       "      <th>1488</th>\n",
       "      <td>Zimbabwe</td>\n",
       "      <td>ZWE</td>\n",
       "      <td>2015</td>\n",
       "      <td>3.155710</td>\n",
       "      <td>0.529</td>\n",
       "      <td>3.703191</td>\n",
       "      <td>7.556052</td>\n",
       "    </tr>\n",
       "  </tbody>\n",
       "</table>\n",
       "<p>135 rows × 7 columns</p>\n",
       "</div>"
      ],
      "text/plain": [
       "           Entity Code  Year  depression_percentage  HDI_UNDP  life_ladder  \\\n",
       "7     Afghanistan  AFG  2015               4.135419     0.493     3.982855   \n",
       "17        Albania  ALB  2015               2.204454     0.776     4.606651   \n",
       "39      Argentina  ARG  2015               3.657683     0.822     6.697131   \n",
       "51        Armenia  ARM  2015               2.740289     0.748     4.348320   \n",
       "62      Australia  AUS  2015               4.696774     0.936     7.309061   \n",
       "...           ...  ...   ...                    ...       ...          ...   \n",
       "1443    Venezuela  VEN  2015               2.811889     0.775     5.568800   \n",
       "1455      Vietnam  VNM  2015               2.881750     0.684     5.076315   \n",
       "1465        Yemen  YEM  2015               4.017056     0.483     2.982674   \n",
       "1476       Zambia  ZMB  2015               3.576608     0.583     4.843164   \n",
       "1488     Zimbabwe  ZWE  2015               3.155710     0.529     3.703191   \n",
       "\n",
       "      log_gdp_capita  \n",
       "7           7.500539  \n",
       "17          9.302960  \n",
       "39          9.858329  \n",
       "51          9.011394  \n",
       "62         10.690199  \n",
       "...              ...  \n",
       "1443        9.655211  \n",
       "1455        8.622428  \n",
       "1465        7.744412  \n",
       "1476        8.196217  \n",
       "1488        7.556052  \n",
       "\n",
       "[135 rows x 7 columns]"
      ]
     },
     "execution_count": 154,
     "metadata": {},
     "output_type": "execute_result"
    }
   ],
   "source": [
    "df_hdi_happiness2015 = df_hdi_happiness[df_hdi_happiness['Year']==2015]\n",
    "df_hdi_happiness2015"
   ]
  },
  {
   "cell_type": "code",
   "execution_count": 159,
   "metadata": {},
   "outputs": [
    {
     "data": {
      "image/png": "[encoded data removed]",
      "text/plain": [
       "<Figure size 432x432 with 3 Axes>"
      ]
     },
     "metadata": {
      "needs_background": "light"
     },
     "output_type": "display_data"
    }
   ],
   "source": [
    "hh_2015 = sns.jointplot(data = df_hdi_happiness2015, x = \"depression_percentage\", \n",
    "                     y = \"HDI_UNDP\", kind='kde') "
   ]
  },
  {
   "cell_type": "code",
   "execution_count": 160,
   "metadata": {},
   "outputs": [
    {
     "data": {
      "image/png": "[encoded data removed]",
      "text/plain": [
       "<Figure size 432x432 with 3 Axes>"
      ]
     },
     "metadata": {
      "needs_background": "light"
     },
     "output_type": "display_data"
    }
   ],
   "source": [
    "hh = sns.jointplot(data = df_hdi_happiness, x = \"depression_percentage\", \n",
    "                     y = \"HDI_UNDP\", kind='kde') "
   ]
  },
  {
   "cell_type": "code",
   "execution_count": 148,
   "metadata": {},
   "outputs": [
    {
     "data": {
      "image/png": "[encoded data removed]",
      "text/plain": [
       "<Figure size 432x432 with 3 Axes>"
      ]
     },
     "metadata": {
      "needs_background": "light"
     },
     "output_type": "display_data"
    }
   ],
   "source": [
    "vis7 = sns.jointplot(data = df_hdi_happiness, x = \"depression_percentage\", \n",
    "                     y = \"log_gdp_capita\", kind='kde') "
   ]
  },
  {
   "cell_type": "code",
   "execution_count": 158,
   "metadata": {},
   "outputs": [
    {
     "data": {
      "text/plain": [
       "HDI_UNDP                 0.024008\n",
       "log_gdp_capita           0.054610\n",
       "life_ladder              0.058434\n",
       "depression_percentage    1.000000\n",
       "Year                          NaN\n",
       "Name: depression_percentage, dtype: float64"
      ]
     },
     "execution_count": 158,
     "metadata": {},
     "output_type": "execute_result"
    }
   ],
   "source": [
    "df_hdi_happiness2015.corr(method='pearson')['depression_percentage'].sort_values()"
   ]
  },
  {
   "cell_type": "code",
   "execution_count": 104,
   "metadata": {},
   "outputs": [
    {
     "data": {
      "text/plain": [
       "<AxesSubplot:xlabel='log_gdp_capita', ylabel='depression_percentage'>"
      ]
     },
     "execution_count": 104,
     "metadata": {},
     "output_type": "execute_result"
    },
    {
     "data": {
      "image/png": "[encoded data removed]",
      "text/plain": [
       "<Figure size 1080x360 with 1 Axes>"
      ]
     },
     "metadata": {
      "needs_background": "light"
     },
     "output_type": "display_data"
    }
   ],
   "source": [
    "# depression / log_gdp_capita\n",
    "fig , ax1 = plt.subplots(figsize=(15,5))\n",
    "sns.scatterplot(data=df_hdi_happiness, \n",
    "             x=df_hdi_happiness['log_gdp_capita'],\n",
    "             y=df_hdi_happiness['depression_percentage'],\n",
    "             color='blue',ax=ax1)"
   ]
  },
  {
   "cell_type": "code",
   "execution_count": 118,
   "metadata": {},
   "outputs": [],
   "source": [
    "# depression / log_gdp_capita by country \n",
    "    \n",
    "def plot_hdi_gdp(country):\n",
    "    fig , ax1 = plt.subplots(figsize=(15,5))\n",
    "    sns.scatterplot(data=data_country2(country), \n",
    "                 x=data_country2(country)['log_gdp_capita'],\n",
    "                 y=data_country2(country)['depression_percentage'],\n",
    "                 color='blue',ax=ax1)"
   ]
  },
  {
   "cell_type": "code",
   "execution_count": 123,
   "metadata": {},
   "outputs": [
    {
     "data": {
      "image/png": "[encoded data removed]",
      "text/plain": [
       "<Figure size 1080x360 with 1 Axes>"
      ]
     },
     "metadata": {
      "needs_background": "light"
     },
     "output_type": "display_data"
    }
   ],
   "source": [
    "plot_hdi_gdp('Canada')"
   ]
  },
  {
   "cell_type": "code",
   "execution_count": 102,
   "metadata": {},
   "outputs": [
    {
     "data": {
      "text/plain": [
       "<AxesSubplot:xlabel='life_ladder', ylabel='depression_percentage'>"
      ]
     },
     "execution_count": 102,
     "metadata": {},
     "output_type": "execute_result"
    },
    {
     "data": {
      "image/png": "[encoded data removed]",
      "text/plain": [
       "<Figure size 1080x360 with 1 Axes>"
      ]
     },
     "metadata": {
      "needs_background": "light"
     },
     "output_type": "display_data"
    }
   ],
   "source": [
    "# depression / Happiness\n",
    "fig , ax1 = plt.subplots(figsize=(15,5))\n",
    "sns.scatterplot(data=df_hdi_happiness, \n",
    "             x=df_hdi_happiness['life_ladder'],\n",
    "             y=df_hdi_happiness['depression_percentage'],\n",
    "             color='blue',ax=ax1)"
   ]
  },
  {
   "cell_type": "code",
   "execution_count": null,
   "metadata": {},
   "outputs": [],
   "source": [
    "# depression / Happiness / hdi\n",
    "fig , ax1 = plt.subplots(figsize=(15,5))\n",
    "sns.scatterplot(data=df_hdi_happiness, \n",
    "             x=df_hdi_happiness['life_ladder'],\n",
    "             y=df_hdi_happiness['depression_percentage'],\n",
    "             color='blue',ax=ax1)"
   ]
  },
  {
   "cell_type": "code",
   "execution_count": 101,
   "metadata": {},
   "outputs": [
    {
     "data": {
      "text/plain": [
       "<AxesSubplot:xlabel='HDI_UNDP', ylabel='depression_percentage'>"
      ]
     },
     "execution_count": 101,
     "metadata": {},
     "output_type": "execute_result"
    },
    {
     "data": {
      "image/png": "[encoded data removed]",
      "text/plain": [
       "<Figure size 1080x360 with 1 Axes>"
      ]
     },
     "metadata": {
      "needs_background": "light"
     },
     "output_type": "display_data"
    }
   ],
   "source": [
    "# depression / HDI\n",
    "fig , ax1 = plt.subplots(figsize=(15,5))\n",
    "sns.scatterplot(data=df_hdi_happiness, \n",
    "             x=df_hdi_happiness['HDI_UNDP'],\n",
    "             y=df_hdi_happiness['depression_percentage'],\n",
    "             color='blue',ax=ax1)"
   ]
  },
  {
   "cell_type": "markdown",
   "metadata": {},
   "source": [
    "load education dataset"
   ]
  },
  {
   "cell_type": "code",
   "execution_count": 33,
   "metadata": {},
   "outputs": [
    {
     "data": {
      "text/html": [
       "<div>\n",
       "<style scoped>\n",
       "    .dataframe tbody tr th:only-of-type {\n",
       "        vertical-align: middle;\n",
       "    }\n",
       "\n",
       "    .dataframe tbody tr th {\n",
       "        vertical-align: top;\n",
       "    }\n",
       "\n",
       "    .dataframe thead th {\n",
       "        text-align: right;\n",
       "    }\n",
       "</style>\n",
       "<table border=\"1\" class=\"dataframe\">\n",
       "  <thead>\n",
       "    <tr style=\"text-align: right;\">\n",
       "      <th></th>\n",
       "      <th>Entity</th>\n",
       "      <th>Code</th>\n",
       "      <th>All levels of education (active)</th>\n",
       "      <th>All levels of education (employed)</th>\n",
       "      <th>All levels of education (total)</th>\n",
       "      <th>Below upper secondary education (active)</th>\n",
       "      <th>Below upper secondary education (employed)</th>\n",
       "      <th>Below upper secondary education (total)</th>\n",
       "      <th>Tertiary education (active)</th>\n",
       "      <th>Tertiary education (employed)</th>\n",
       "      <th>Tertiary education (total)</th>\n",
       "      <th>Upper secondary and post-secondary non-tertiary education (active)</th>\n",
       "      <th>Upper secondary and post-secondary non-tertiary education (employed)</th>\n",
       "      <th>Upper secondary and post-secondary non-tertiary education (total)</th>\n",
       "    </tr>\n",
       "  </thead>\n",
       "  <tbody>\n",
       "    <tr>\n",
       "      <th>0</th>\n",
       "      <td>Austria</td>\n",
       "      <td>AUT</td>\n",
       "      <td>6.5</td>\n",
       "      <td>4.7</td>\n",
       "      <td>7.7</td>\n",
       "      <td>15.5</td>\n",
       "      <td>9.0</td>\n",
       "      <td>15.2</td>\n",
       "      <td>4.3</td>\n",
       "      <td>3.5</td>\n",
       "      <td>5.5</td>\n",
       "      <td>5.5</td>\n",
       "      <td>4.2</td>\n",
       "      <td>6.7</td>\n",
       "    </tr>\n",
       "  </tbody>\n",
       "</table>\n",
       "</div>"
      ],
      "text/plain": [
       "    Entity Code  All levels of education (active)  \\\n",
       "0  Austria  AUT                               6.5   \n",
       "\n",
       "   All levels of education (employed)  All levels of education (total)  \\\n",
       "0                                 4.7                              7.7   \n",
       "\n",
       "   Below upper secondary education (active)  \\\n",
       "0                                      15.5   \n",
       "\n",
       "   Below upper secondary education (employed)  \\\n",
       "0                                         9.0   \n",
       "\n",
       "   Below upper secondary education (total)  Tertiary education (active)  \\\n",
       "0                                     15.2                          4.3   \n",
       "\n",
       "   Tertiary education (employed)  Tertiary education (total)  \\\n",
       "0                            3.5                         5.5   \n",
       "\n",
       "   Upper secondary and post-secondary non-tertiary education (active)  \\\n",
       "0                                                5.5                    \n",
       "\n",
       "   Upper secondary and post-secondary non-tertiary education (employed)  \\\n",
       "0                                                4.2                      \n",
       "\n",
       "   Upper secondary and post-secondary non-tertiary education (total)  \n",
       "0                                                6.7                  "
      ]
     },
     "execution_count": 33,
     "metadata": {},
     "output_type": "execute_result"
    }
   ],
   "source": [
    "df_edu.head(1)"
   ]
  },
  {
   "cell_type": "code",
   "execution_count": 34,
   "metadata": {},
   "outputs": [],
   "source": [
    "df_edu = df_edu[['Entity', 'Code', 'All levels of education (total)', 'Below upper secondary education (total)', 'Tertiary education (total)', 'Upper secondary and post-secondary non-tertiary education (total)']]"
   ]
  },
  {
   "cell_type": "code",
   "execution_count": 35,
   "metadata": {},
   "outputs": [],
   "source": [
    "# replace slovak republic with slovakis so there the country naming are identical between different dataframes\n",
    "df_edu = df_edu.replace('Slovak Republic', 'Slovakis')"
   ]
  },
  {
   "cell_type": "markdown",
   "metadata": {},
   "source": [
    "Creating a Dataframe on education level and depression, dataset on education level is only avaiable for 2014"
   ]
  },
  {
   "cell_type": "code",
   "execution_count": 36,
   "metadata": {},
   "outputs": [
    {
     "data": {
      "text/html": [
       "<div>\n",
       "<style scoped>\n",
       "    .dataframe tbody tr th:only-of-type {\n",
       "        vertical-align: middle;\n",
       "    }\n",
       "\n",
       "    .dataframe tbody tr th {\n",
       "        vertical-align: top;\n",
       "    }\n",
       "\n",
       "    .dataframe thead th {\n",
       "        text-align: right;\n",
       "    }\n",
       "</style>\n",
       "<table border=\"1\" class=\"dataframe\">\n",
       "  <thead>\n",
       "    <tr style=\"text-align: right;\">\n",
       "      <th></th>\n",
       "      <th>Entity</th>\n",
       "      <th>Code</th>\n",
       "      <th>Year</th>\n",
       "      <th>depression_percentage</th>\n",
       "      <th>HDI_UNDP</th>\n",
       "    </tr>\n",
       "  </thead>\n",
       "  <tbody>\n",
       "    <tr>\n",
       "      <th>12</th>\n",
       "      <td>Afghanistan</td>\n",
       "      <td>AFG</td>\n",
       "      <td>2014</td>\n",
       "      <td>4.133526</td>\n",
       "      <td>0.491</td>\n",
       "    </tr>\n",
       "    <tr>\n",
       "      <th>40</th>\n",
       "      <td>Albania</td>\n",
       "      <td>ALB</td>\n",
       "      <td>2014</td>\n",
       "      <td>2.203684</td>\n",
       "      <td>0.773</td>\n",
       "    </tr>\n",
       "    <tr>\n",
       "      <th>68</th>\n",
       "      <td>Algeria</td>\n",
       "      <td>DZA</td>\n",
       "      <td>2014</td>\n",
       "      <td>3.629490</td>\n",
       "      <td>0.747</td>\n",
       "    </tr>\n",
       "    <tr>\n",
       "      <th>86</th>\n",
       "      <td>Andorra</td>\n",
       "      <td>AND</td>\n",
       "      <td>2014</td>\n",
       "      <td>3.728379</td>\n",
       "      <td>0.853</td>\n",
       "    </tr>\n",
       "    <tr>\n",
       "      <th>105</th>\n",
       "      <td>Angola</td>\n",
       "      <td>AGO</td>\n",
       "      <td>2014</td>\n",
       "      <td>4.156468</td>\n",
       "      <td>0.564</td>\n",
       "    </tr>\n",
       "    <tr>\n",
       "      <th>...</th>\n",
       "      <td>...</td>\n",
       "      <td>...</td>\n",
       "      <td>...</td>\n",
       "      <td>...</td>\n",
       "      <td>...</td>\n",
       "    </tr>\n",
       "    <tr>\n",
       "      <th>4564</th>\n",
       "      <td>Venezuela</td>\n",
       "      <td>VEN</td>\n",
       "      <td>2014</td>\n",
       "      <td>2.810428</td>\n",
       "      <td>0.778</td>\n",
       "    </tr>\n",
       "    <tr>\n",
       "      <th>4592</th>\n",
       "      <td>Vietnam</td>\n",
       "      <td>VNM</td>\n",
       "      <td>2014</td>\n",
       "      <td>2.882767</td>\n",
       "      <td>0.678</td>\n",
       "    </tr>\n",
       "    <tr>\n",
       "      <th>4620</th>\n",
       "      <td>Yemen</td>\n",
       "      <td>YEM</td>\n",
       "      <td>2014</td>\n",
       "      <td>4.018785</td>\n",
       "      <td>0.505</td>\n",
       "    </tr>\n",
       "    <tr>\n",
       "      <th>4648</th>\n",
       "      <td>Zambia</td>\n",
       "      <td>ZMB</td>\n",
       "      <td>2014</td>\n",
       "      <td>3.552409</td>\n",
       "      <td>0.580</td>\n",
       "    </tr>\n",
       "    <tr>\n",
       "      <th>4676</th>\n",
       "      <td>Zimbabwe</td>\n",
       "      <td>ZWE</td>\n",
       "      <td>2014</td>\n",
       "      <td>3.140290</td>\n",
       "      <td>0.525</td>\n",
       "    </tr>\n",
       "  </tbody>\n",
       "</table>\n",
       "<p>184 rows × 5 columns</p>\n",
       "</div>"
      ],
      "text/plain": [
       "           Entity Code  Year  depression_percentage  HDI_UNDP\n",
       "12    Afghanistan  AFG  2014               4.133526     0.491\n",
       "40        Albania  ALB  2014               2.203684     0.773\n",
       "68        Algeria  DZA  2014               3.629490     0.747\n",
       "86        Andorra  AND  2014               3.728379     0.853\n",
       "105        Angola  AGO  2014               4.156468     0.564\n",
       "...           ...  ...   ...                    ...       ...\n",
       "4564    Venezuela  VEN  2014               2.810428     0.778\n",
       "4592      Vietnam  VNM  2014               2.882767     0.678\n",
       "4620        Yemen  YEM  2014               4.018785     0.505\n",
       "4648       Zambia  ZMB  2014               3.552409     0.580\n",
       "4676     Zimbabwe  ZWE  2014               3.140290     0.525\n",
       "\n",
       "[184 rows x 5 columns]"
      ]
     },
     "execution_count": 36,
     "metadata": {},
     "output_type": "execute_result"
    }
   ],
   "source": [
    "# select only values for the year 2014\n",
    "df_depression_hdi_2014 = df_depression_hdi.loc[df_depression_hdi['Year']==2014]\n",
    "df_depression_hdi_2014"
   ]
  },
  {
   "cell_type": "code",
   "execution_count": 37,
   "metadata": {},
   "outputs": [],
   "source": [
    "df_depression_hdi_edu = df_edu.merge(df_depression_hdi_2014, left_on='Entity', right_on='Entity')\n",
    "df_depression_hdi_edu\n",
    "df_depression_hdi_edu.rename(columns={'All levels of education (total)':'all_levels', 'Below upper secondary education (total)':'below_secondary',\n",
    "                                     'Tertiary education (total)':'tertiary','Upper secondary and post-secondary non-tertiary education (total)':'secondary_&_above'},\n",
    "                                      inplace = True)"
   ]
  },
  {
   "cell_type": "code",
   "execution_count": 38,
   "metadata": {},
   "outputs": [
    {
     "data": {
      "text/html": [
       "<div>\n",
       "<style scoped>\n",
       "    .dataframe tbody tr th:only-of-type {\n",
       "        vertical-align: middle;\n",
       "    }\n",
       "\n",
       "    .dataframe tbody tr th {\n",
       "        vertical-align: top;\n",
       "    }\n",
       "\n",
       "    .dataframe thead th {\n",
       "        text-align: right;\n",
       "    }\n",
       "</style>\n",
       "<table border=\"1\" class=\"dataframe\">\n",
       "  <thead>\n",
       "    <tr style=\"text-align: right;\">\n",
       "      <th></th>\n",
       "      <th>Entity</th>\n",
       "      <th>Code_x</th>\n",
       "      <th>all_levels</th>\n",
       "      <th>below_secondary</th>\n",
       "      <th>tertiary</th>\n",
       "      <th>secondary_&amp;_above</th>\n",
       "      <th>Code_y</th>\n",
       "      <th>Year</th>\n",
       "      <th>depression_percentage</th>\n",
       "      <th>HDI_UNDP</th>\n",
       "    </tr>\n",
       "  </thead>\n",
       "  <tbody>\n",
       "    <tr>\n",
       "      <th>0</th>\n",
       "      <td>Austria</td>\n",
       "      <td>AUT</td>\n",
       "      <td>7.7</td>\n",
       "      <td>15.2</td>\n",
       "      <td>5.5</td>\n",
       "      <td>6.7</td>\n",
       "      <td>AUT</td>\n",
       "      <td>2014</td>\n",
       "      <td>3.267460</td>\n",
       "      <td>0.901</td>\n",
       "    </tr>\n",
       "    <tr>\n",
       "      <th>1</th>\n",
       "      <td>Belgium</td>\n",
       "      <td>BEL</td>\n",
       "      <td>7.1</td>\n",
       "      <td>11.6</td>\n",
       "      <td>4.2</td>\n",
       "      <td>7.5</td>\n",
       "      <td>BEL</td>\n",
       "      <td>2014</td>\n",
       "      <td>4.110472</td>\n",
       "      <td>0.909</td>\n",
       "    </tr>\n",
       "    <tr>\n",
       "      <th>2</th>\n",
       "      <td>Czech Republic</td>\n",
       "      <td>CZE</td>\n",
       "      <td>4.0</td>\n",
       "      <td>6.0</td>\n",
       "      <td>2.0</td>\n",
       "      <td>4.4</td>\n",
       "      <td>CZE</td>\n",
       "      <td>2014</td>\n",
       "      <td>2.690526</td>\n",
       "      <td>0.879</td>\n",
       "    </tr>\n",
       "    <tr>\n",
       "      <th>3</th>\n",
       "      <td>Denmark</td>\n",
       "      <td>DNK</td>\n",
       "      <td>8.3</td>\n",
       "      <td>15.5</td>\n",
       "      <td>6.7</td>\n",
       "      <td>8.8</td>\n",
       "      <td>DNK</td>\n",
       "      <td>2014</td>\n",
       "      <td>3.277973</td>\n",
       "      <td>0.928</td>\n",
       "    </tr>\n",
       "    <tr>\n",
       "      <th>4</th>\n",
       "      <td>Estonia</td>\n",
       "      <td>EST</td>\n",
       "      <td>5.1</td>\n",
       "      <td>6.4</td>\n",
       "      <td>4.3</td>\n",
       "      <td>5.2</td>\n",
       "      <td>EST</td>\n",
       "      <td>2014</td>\n",
       "      <td>3.902099</td>\n",
       "      <td>0.864</td>\n",
       "    </tr>\n",
       "    <tr>\n",
       "      <th>5</th>\n",
       "      <td>Finland</td>\n",
       "      <td>FIN</td>\n",
       "      <td>10.7</td>\n",
       "      <td>14.4</td>\n",
       "      <td>8.9</td>\n",
       "      <td>13.2</td>\n",
       "      <td>FIN</td>\n",
       "      <td>2014</td>\n",
       "      <td>4.888971</td>\n",
       "      <td>0.914</td>\n",
       "    </tr>\n",
       "    <tr>\n",
       "      <th>6</th>\n",
       "      <td>France</td>\n",
       "      <td>FRA</td>\n",
       "      <td>6.3</td>\n",
       "      <td>9.4</td>\n",
       "      <td>4.9</td>\n",
       "      <td>5.7</td>\n",
       "      <td>FRA</td>\n",
       "      <td>2014</td>\n",
       "      <td>4.316753</td>\n",
       "      <td>0.894</td>\n",
       "    </tr>\n",
       "    <tr>\n",
       "      <th>7</th>\n",
       "      <td>Germany</td>\n",
       "      <td>DEU</td>\n",
       "      <td>11.6</td>\n",
       "      <td>17.0</td>\n",
       "      <td>8.9</td>\n",
       "      <td>12.5</td>\n",
       "      <td>DEU</td>\n",
       "      <td>2014</td>\n",
       "      <td>3.940119</td>\n",
       "      <td>0.930</td>\n",
       "    </tr>\n",
       "    <tr>\n",
       "      <th>8</th>\n",
       "      <td>Greece</td>\n",
       "      <td>GRC</td>\n",
       "      <td>3.6</td>\n",
       "      <td>5.4</td>\n",
       "      <td>2.4</td>\n",
       "      <td>3.4</td>\n",
       "      <td>GRC</td>\n",
       "      <td>2014</td>\n",
       "      <td>4.252704</td>\n",
       "      <td>0.864</td>\n",
       "    </tr>\n",
       "    <tr>\n",
       "      <th>9</th>\n",
       "      <td>Hungary</td>\n",
       "      <td>HUN</td>\n",
       "      <td>4.7</td>\n",
       "      <td>10.3</td>\n",
       "      <td>2.8</td>\n",
       "      <td>4.2</td>\n",
       "      <td>HUN</td>\n",
       "      <td>2014</td>\n",
       "      <td>2.753656</td>\n",
       "      <td>0.833</td>\n",
       "    </tr>\n",
       "    <tr>\n",
       "      <th>10</th>\n",
       "      <td>Iceland</td>\n",
       "      <td>ISL</td>\n",
       "      <td>14.4</td>\n",
       "      <td>22.5</td>\n",
       "      <td>9.5</td>\n",
       "      <td>15.7</td>\n",
       "      <td>ISL</td>\n",
       "      <td>2014</td>\n",
       "      <td>3.361046</td>\n",
       "      <td>0.925</td>\n",
       "    </tr>\n",
       "    <tr>\n",
       "      <th>11</th>\n",
       "      <td>Ireland</td>\n",
       "      <td>IRL</td>\n",
       "      <td>12.3</td>\n",
       "      <td>22.9</td>\n",
       "      <td>9.0</td>\n",
       "      <td>11.6</td>\n",
       "      <td>IRL</td>\n",
       "      <td>2014</td>\n",
       "      <td>4.301374</td>\n",
       "      <td>0.921</td>\n",
       "    </tr>\n",
       "    <tr>\n",
       "      <th>12</th>\n",
       "      <td>Italy</td>\n",
       "      <td>ITA</td>\n",
       "      <td>3.9</td>\n",
       "      <td>5.3</td>\n",
       "      <td>1.9</td>\n",
       "      <td>3.3</td>\n",
       "      <td>ITA</td>\n",
       "      <td>2014</td>\n",
       "      <td>3.456543</td>\n",
       "      <td>0.874</td>\n",
       "    </tr>\n",
       "    <tr>\n",
       "      <th>13</th>\n",
       "      <td>Latvia</td>\n",
       "      <td>LVA</td>\n",
       "      <td>8.6</td>\n",
       "      <td>13.3</td>\n",
       "      <td>7.3</td>\n",
       "      <td>8.7</td>\n",
       "      <td>LVA</td>\n",
       "      <td>2014</td>\n",
       "      <td>3.493358</td>\n",
       "      <td>0.838</td>\n",
       "    </tr>\n",
       "    <tr>\n",
       "      <th>14</th>\n",
       "      <td>Lithuania</td>\n",
       "      <td>LTU</td>\n",
       "      <td>3.7</td>\n",
       "      <td>10.1</td>\n",
       "      <td>1.4</td>\n",
       "      <td>4.7</td>\n",
       "      <td>LTU</td>\n",
       "      <td>2014</td>\n",
       "      <td>4.168826</td>\n",
       "      <td>0.851</td>\n",
       "    </tr>\n",
       "    <tr>\n",
       "      <th>15</th>\n",
       "      <td>Luxembourg</td>\n",
       "      <td>LUX</td>\n",
       "      <td>10.2</td>\n",
       "      <td>15.1</td>\n",
       "      <td>6.1</td>\n",
       "      <td>12.3</td>\n",
       "      <td>LUX</td>\n",
       "      <td>2014</td>\n",
       "      <td>3.616397</td>\n",
       "      <td>0.895</td>\n",
       "    </tr>\n",
       "    <tr>\n",
       "      <th>16</th>\n",
       "      <td>Netherlands</td>\n",
       "      <td>NLD</td>\n",
       "      <td>8.6</td>\n",
       "      <td>13.8</td>\n",
       "      <td>4.5</td>\n",
       "      <td>9.1</td>\n",
       "      <td>NLD</td>\n",
       "      <td>2014</td>\n",
       "      <td>4.031669</td>\n",
       "      <td>0.924</td>\n",
       "    </tr>\n",
       "    <tr>\n",
       "      <th>17</th>\n",
       "      <td>Norway</td>\n",
       "      <td>NOR</td>\n",
       "      <td>7.6</td>\n",
       "      <td>14.2</td>\n",
       "      <td>4.2</td>\n",
       "      <td>8.1</td>\n",
       "      <td>NOR</td>\n",
       "      <td>2014</td>\n",
       "      <td>3.646711</td>\n",
       "      <td>0.946</td>\n",
       "    </tr>\n",
       "    <tr>\n",
       "      <th>18</th>\n",
       "      <td>Poland</td>\n",
       "      <td>POL</td>\n",
       "      <td>4.1</td>\n",
       "      <td>6.3</td>\n",
       "      <td>2.9</td>\n",
       "      <td>4.2</td>\n",
       "      <td>POL</td>\n",
       "      <td>2014</td>\n",
       "      <td>2.268372</td>\n",
       "      <td>0.842</td>\n",
       "    </tr>\n",
       "    <tr>\n",
       "      <th>19</th>\n",
       "      <td>Portugal</td>\n",
       "      <td>PRT</td>\n",
       "      <td>11.0</td>\n",
       "      <td>13.6</td>\n",
       "      <td>6.7</td>\n",
       "      <td>8.3</td>\n",
       "      <td>PRT</td>\n",
       "      <td>2014</td>\n",
       "      <td>4.622827</td>\n",
       "      <td>0.839</td>\n",
       "    </tr>\n",
       "    <tr>\n",
       "      <th>20</th>\n",
       "      <td>Slovenia</td>\n",
       "      <td>SVN</td>\n",
       "      <td>8.4</td>\n",
       "      <td>12.6</td>\n",
       "      <td>6.6</td>\n",
       "      <td>7.7</td>\n",
       "      <td>SVN</td>\n",
       "      <td>2014</td>\n",
       "      <td>2.891008</td>\n",
       "      <td>0.887</td>\n",
       "    </tr>\n",
       "    <tr>\n",
       "      <th>21</th>\n",
       "      <td>Spain</td>\n",
       "      <td>ESP</td>\n",
       "      <td>7.1</td>\n",
       "      <td>9.7</td>\n",
       "      <td>3.5</td>\n",
       "      <td>7.1</td>\n",
       "      <td>ESP</td>\n",
       "      <td>2014</td>\n",
       "      <td>3.491550</td>\n",
       "      <td>0.880</td>\n",
       "    </tr>\n",
       "    <tr>\n",
       "      <th>22</th>\n",
       "      <td>Sweden</td>\n",
       "      <td>SWE</td>\n",
       "      <td>9.9</td>\n",
       "      <td>11.4</td>\n",
       "      <td>9.0</td>\n",
       "      <td>10.6</td>\n",
       "      <td>SWE</td>\n",
       "      <td>2014</td>\n",
       "      <td>4.524133</td>\n",
       "      <td>0.920</td>\n",
       "    </tr>\n",
       "    <tr>\n",
       "      <th>23</th>\n",
       "      <td>Turkey</td>\n",
       "      <td>TUR</td>\n",
       "      <td>12.5</td>\n",
       "      <td>13.3</td>\n",
       "      <td>9.5</td>\n",
       "      <td>12.5</td>\n",
       "      <td>TUR</td>\n",
       "      <td>2014</td>\n",
       "      <td>3.734200</td>\n",
       "      <td>0.778</td>\n",
       "    </tr>\n",
       "    <tr>\n",
       "      <th>24</th>\n",
       "      <td>United Kingdom</td>\n",
       "      <td>GBR</td>\n",
       "      <td>9.9</td>\n",
       "      <td>15.2</td>\n",
       "      <td>7.1</td>\n",
       "      <td>10.7</td>\n",
       "      <td>GBR</td>\n",
       "      <td>2014</td>\n",
       "      <td>4.125316</td>\n",
       "      <td>0.919</td>\n",
       "    </tr>\n",
       "  </tbody>\n",
       "</table>\n",
       "</div>"
      ],
      "text/plain": [
       "            Entity Code_x  all_levels  below_secondary  tertiary  \\\n",
       "0          Austria    AUT         7.7             15.2       5.5   \n",
       "1          Belgium    BEL         7.1             11.6       4.2   \n",
       "2   Czech Republic    CZE         4.0              6.0       2.0   \n",
       "3          Denmark    DNK         8.3             15.5       6.7   \n",
       "4          Estonia    EST         5.1              6.4       4.3   \n",
       "5          Finland    FIN        10.7             14.4       8.9   \n",
       "6           France    FRA         6.3              9.4       4.9   \n",
       "7          Germany    DEU        11.6             17.0       8.9   \n",
       "8           Greece    GRC         3.6              5.4       2.4   \n",
       "9          Hungary    HUN         4.7             10.3       2.8   \n",
       "10         Iceland    ISL        14.4             22.5       9.5   \n",
       "11         Ireland    IRL        12.3             22.9       9.0   \n",
       "12           Italy    ITA         3.9              5.3       1.9   \n",
       "13          Latvia    LVA         8.6             13.3       7.3   \n",
       "14       Lithuania    LTU         3.7             10.1       1.4   \n",
       "15      Luxembourg    LUX        10.2             15.1       6.1   \n",
       "16     Netherlands    NLD         8.6             13.8       4.5   \n",
       "17          Norway    NOR         7.6             14.2       4.2   \n",
       "18          Poland    POL         4.1              6.3       2.9   \n",
       "19        Portugal    PRT        11.0             13.6       6.7   \n",
       "20        Slovenia    SVN         8.4             12.6       6.6   \n",
       "21           Spain    ESP         7.1              9.7       3.5   \n",
       "22          Sweden    SWE         9.9             11.4       9.0   \n",
       "23          Turkey    TUR        12.5             13.3       9.5   \n",
       "24  United Kingdom    GBR         9.9             15.2       7.1   \n",
       "\n",
       "    secondary_&_above Code_y  Year  depression_percentage  HDI_UNDP  \n",
       "0                 6.7    AUT  2014               3.267460     0.901  \n",
       "1                 7.5    BEL  2014               4.110472     0.909  \n",
       "2                 4.4    CZE  2014               2.690526     0.879  \n",
       "3                 8.8    DNK  2014               3.277973     0.928  \n",
       "4                 5.2    EST  2014               3.902099     0.864  \n",
       "5                13.2    FIN  2014               4.888971     0.914  \n",
       "6                 5.7    FRA  2014               4.316753     0.894  \n",
       "7                12.5    DEU  2014               3.940119     0.930  \n",
       "8                 3.4    GRC  2014               4.252704     0.864  \n",
       "9                 4.2    HUN  2014               2.753656     0.833  \n",
       "10               15.7    ISL  2014               3.361046     0.925  \n",
       "11               11.6    IRL  2014               4.301374     0.921  \n",
       "12                3.3    ITA  2014               3.456543     0.874  \n",
       "13                8.7    LVA  2014               3.493358     0.838  \n",
       "14                4.7    LTU  2014               4.168826     0.851  \n",
       "15               12.3    LUX  2014               3.616397     0.895  \n",
       "16                9.1    NLD  2014               4.031669     0.924  \n",
       "17                8.1    NOR  2014               3.646711     0.946  \n",
       "18                4.2    POL  2014               2.268372     0.842  \n",
       "19                8.3    PRT  2014               4.622827     0.839  \n",
       "20                7.7    SVN  2014               2.891008     0.887  \n",
       "21                7.1    ESP  2014               3.491550     0.880  \n",
       "22               10.6    SWE  2014               4.524133     0.920  \n",
       "23               12.5    TUR  2014               3.734200     0.778  \n",
       "24               10.7    GBR  2014               4.125316     0.919  "
      ]
     },
     "execution_count": 38,
     "metadata": {},
     "output_type": "execute_result"
    }
   ],
   "source": [
    "# create dataframe on the relationship between education level, depression level and hdi for year 2014, since education level is only \n",
    "# available for 2014 \n",
    "df_depression_hdi_edu"
   ]
  },
  {
   "cell_type": "markdown",
   "metadata": {},
   "source": [
    "# Bonus: 1. Gender Equality and Depression, 2. Icecream consumption and Depression"
   ]
  },
  {
   "cell_type": "code",
   "execution_count": 39,
   "metadata": {},
   "outputs": [],
   "source": [
    "df_hdi_gen = df_depression_hdi.merge(df_gen, left_on = 'Entity', right_on = 'Country').drop(['Entity'], axis=1)"
   ]
  },
  {
   "cell_type": "code",
   "execution_count": 40,
   "metadata": {},
   "outputs": [
    {
     "data": {
      "text/html": [
       "<div>\n",
       "<style scoped>\n",
       "    .dataframe tbody tr th:only-of-type {\n",
       "        vertical-align: middle;\n",
       "    }\n",
       "\n",
       "    .dataframe tbody tr th {\n",
       "        vertical-align: top;\n",
       "    }\n",
       "\n",
       "    .dataframe thead th {\n",
       "        text-align: right;\n",
       "    }\n",
       "</style>\n",
       "<table border=\"1\" class=\"dataframe\">\n",
       "  <thead>\n",
       "    <tr style=\"text-align: right;\">\n",
       "      <th></th>\n",
       "      <th>Code</th>\n",
       "      <th>Year</th>\n",
       "      <th>depression_percentage</th>\n",
       "      <th>HDI_UNDP</th>\n",
       "      <th>HDI Rank (2018)</th>\n",
       "      <th>Country</th>\n",
       "      <th>1990</th>\n",
       "      <th>1991</th>\n",
       "      <th>1992</th>\n",
       "      <th>1993</th>\n",
       "      <th>...</th>\n",
       "      <th>2009</th>\n",
       "      <th>2010</th>\n",
       "      <th>2011</th>\n",
       "      <th>2012</th>\n",
       "      <th>2013</th>\n",
       "      <th>2014</th>\n",
       "      <th>2015</th>\n",
       "      <th>2016</th>\n",
       "      <th>2017</th>\n",
       "      <th>2018</th>\n",
       "    </tr>\n",
       "  </thead>\n",
       "  <tbody>\n",
       "    <tr>\n",
       "      <th>0</th>\n",
       "      <td>AFG</td>\n",
       "      <td>2002</td>\n",
       "      <td>4.124928</td>\n",
       "      <td>0.373</td>\n",
       "      <td>170</td>\n",
       "      <td>Afghanistan</td>\n",
       "      <td>0.298</td>\n",
       "      <td>0.304</td>\n",
       "      <td>0.312</td>\n",
       "      <td>0.308</td>\n",
       "      <td>...</td>\n",
       "      <td>0.447</td>\n",
       "      <td>0.464</td>\n",
       "      <td>0.465</td>\n",
       "      <td>0.479</td>\n",
       "      <td>0.485</td>\n",
       "      <td>0.488</td>\n",
       "      <td>0.490</td>\n",
       "      <td>0.491</td>\n",
       "      <td>0.493</td>\n",
       "      <td>0.496</td>\n",
       "    </tr>\n",
       "    <tr>\n",
       "      <th>1</th>\n",
       "      <td>AFG</td>\n",
       "      <td>2003</td>\n",
       "      <td>4.125230</td>\n",
       "      <td>0.383</td>\n",
       "      <td>170</td>\n",
       "      <td>Afghanistan</td>\n",
       "      <td>0.298</td>\n",
       "      <td>0.304</td>\n",
       "      <td>0.312</td>\n",
       "      <td>0.308</td>\n",
       "      <td>...</td>\n",
       "      <td>0.447</td>\n",
       "      <td>0.464</td>\n",
       "      <td>0.465</td>\n",
       "      <td>0.479</td>\n",
       "      <td>0.485</td>\n",
       "      <td>0.488</td>\n",
       "      <td>0.490</td>\n",
       "      <td>0.491</td>\n",
       "      <td>0.493</td>\n",
       "      <td>0.496</td>\n",
       "    </tr>\n",
       "    <tr>\n",
       "      <th>2</th>\n",
       "      <td>AFG</td>\n",
       "      <td>2004</td>\n",
       "      <td>4.126384</td>\n",
       "      <td>0.398</td>\n",
       "      <td>170</td>\n",
       "      <td>Afghanistan</td>\n",
       "      <td>0.298</td>\n",
       "      <td>0.304</td>\n",
       "      <td>0.312</td>\n",
       "      <td>0.308</td>\n",
       "      <td>...</td>\n",
       "      <td>0.447</td>\n",
       "      <td>0.464</td>\n",
       "      <td>0.465</td>\n",
       "      <td>0.479</td>\n",
       "      <td>0.485</td>\n",
       "      <td>0.488</td>\n",
       "      <td>0.490</td>\n",
       "      <td>0.491</td>\n",
       "      <td>0.493</td>\n",
       "      <td>0.496</td>\n",
       "    </tr>\n",
       "    <tr>\n",
       "      <th>3</th>\n",
       "      <td>AFG</td>\n",
       "      <td>2005</td>\n",
       "      <td>4.126908</td>\n",
       "      <td>0.408</td>\n",
       "      <td>170</td>\n",
       "      <td>Afghanistan</td>\n",
       "      <td>0.298</td>\n",
       "      <td>0.304</td>\n",
       "      <td>0.312</td>\n",
       "      <td>0.308</td>\n",
       "      <td>...</td>\n",
       "      <td>0.447</td>\n",
       "      <td>0.464</td>\n",
       "      <td>0.465</td>\n",
       "      <td>0.479</td>\n",
       "      <td>0.485</td>\n",
       "      <td>0.488</td>\n",
       "      <td>0.490</td>\n",
       "      <td>0.491</td>\n",
       "      <td>0.493</td>\n",
       "      <td>0.496</td>\n",
       "    </tr>\n",
       "    <tr>\n",
       "      <th>4</th>\n",
       "      <td>AFG</td>\n",
       "      <td>2006</td>\n",
       "      <td>4.128638</td>\n",
       "      <td>0.417</td>\n",
       "      <td>170</td>\n",
       "      <td>Afghanistan</td>\n",
       "      <td>0.298</td>\n",
       "      <td>0.304</td>\n",
       "      <td>0.312</td>\n",
       "      <td>0.308</td>\n",
       "      <td>...</td>\n",
       "      <td>0.447</td>\n",
       "      <td>0.464</td>\n",
       "      <td>0.465</td>\n",
       "      <td>0.479</td>\n",
       "      <td>0.485</td>\n",
       "      <td>0.488</td>\n",
       "      <td>0.490</td>\n",
       "      <td>0.491</td>\n",
       "      <td>0.493</td>\n",
       "      <td>0.496</td>\n",
       "    </tr>\n",
       "    <tr>\n",
       "      <th>...</th>\n",
       "      <td>...</td>\n",
       "      <td>...</td>\n",
       "      <td>...</td>\n",
       "      <td>...</td>\n",
       "      <td>...</td>\n",
       "      <td>...</td>\n",
       "      <td>...</td>\n",
       "      <td>...</td>\n",
       "      <td>...</td>\n",
       "      <td>...</td>\n",
       "      <td>...</td>\n",
       "      <td>...</td>\n",
       "      <td>...</td>\n",
       "      <td>...</td>\n",
       "      <td>...</td>\n",
       "      <td>...</td>\n",
       "      <td>...</td>\n",
       "      <td>...</td>\n",
       "      <td>...</td>\n",
       "      <td>...</td>\n",
       "      <td>...</td>\n",
       "    </tr>\n",
       "    <tr>\n",
       "      <th>4171</th>\n",
       "      <td>ZWE</td>\n",
       "      <td>2013</td>\n",
       "      <td>3.128192</td>\n",
       "      <td>0.516</td>\n",
       "      <td>150</td>\n",
       "      <td>Zimbabwe</td>\n",
       "      <td>0.498</td>\n",
       "      <td>0.500</td>\n",
       "      <td>0.485</td>\n",
       "      <td>0.480</td>\n",
       "      <td>...</td>\n",
       "      <td>0.448</td>\n",
       "      <td>0.472</td>\n",
       "      <td>0.490</td>\n",
       "      <td>0.516</td>\n",
       "      <td>0.527</td>\n",
       "      <td>0.537</td>\n",
       "      <td>0.544</td>\n",
       "      <td>0.549</td>\n",
       "      <td>0.553</td>\n",
       "      <td>0.563</td>\n",
       "    </tr>\n",
       "    <tr>\n",
       "      <th>4172</th>\n",
       "      <td>ZWE</td>\n",
       "      <td>2014</td>\n",
       "      <td>3.140290</td>\n",
       "      <td>0.525</td>\n",
       "      <td>150</td>\n",
       "      <td>Zimbabwe</td>\n",
       "      <td>0.498</td>\n",
       "      <td>0.500</td>\n",
       "      <td>0.485</td>\n",
       "      <td>0.480</td>\n",
       "      <td>...</td>\n",
       "      <td>0.448</td>\n",
       "      <td>0.472</td>\n",
       "      <td>0.490</td>\n",
       "      <td>0.516</td>\n",
       "      <td>0.527</td>\n",
       "      <td>0.537</td>\n",
       "      <td>0.544</td>\n",
       "      <td>0.549</td>\n",
       "      <td>0.553</td>\n",
       "      <td>0.563</td>\n",
       "    </tr>\n",
       "    <tr>\n",
       "      <th>4173</th>\n",
       "      <td>ZWE</td>\n",
       "      <td>2015</td>\n",
       "      <td>3.155710</td>\n",
       "      <td>0.529</td>\n",
       "      <td>150</td>\n",
       "      <td>Zimbabwe</td>\n",
       "      <td>0.498</td>\n",
       "      <td>0.500</td>\n",
       "      <td>0.485</td>\n",
       "      <td>0.480</td>\n",
       "      <td>...</td>\n",
       "      <td>0.448</td>\n",
       "      <td>0.472</td>\n",
       "      <td>0.490</td>\n",
       "      <td>0.516</td>\n",
       "      <td>0.527</td>\n",
       "      <td>0.537</td>\n",
       "      <td>0.544</td>\n",
       "      <td>0.549</td>\n",
       "      <td>0.553</td>\n",
       "      <td>0.563</td>\n",
       "    </tr>\n",
       "    <tr>\n",
       "      <th>4174</th>\n",
       "      <td>ZWE</td>\n",
       "      <td>2016</td>\n",
       "      <td>3.174134</td>\n",
       "      <td>0.532</td>\n",
       "      <td>150</td>\n",
       "      <td>Zimbabwe</td>\n",
       "      <td>0.498</td>\n",
       "      <td>0.500</td>\n",
       "      <td>0.485</td>\n",
       "      <td>0.480</td>\n",
       "      <td>...</td>\n",
       "      <td>0.448</td>\n",
       "      <td>0.472</td>\n",
       "      <td>0.490</td>\n",
       "      <td>0.516</td>\n",
       "      <td>0.527</td>\n",
       "      <td>0.537</td>\n",
       "      <td>0.544</td>\n",
       "      <td>0.549</td>\n",
       "      <td>0.553</td>\n",
       "      <td>0.563</td>\n",
       "    </tr>\n",
       "    <tr>\n",
       "      <th>4175</th>\n",
       "      <td>ZWE</td>\n",
       "      <td>2017</td>\n",
       "      <td>3.192789</td>\n",
       "      <td>0.535</td>\n",
       "      <td>150</td>\n",
       "      <td>Zimbabwe</td>\n",
       "      <td>0.498</td>\n",
       "      <td>0.500</td>\n",
       "      <td>0.485</td>\n",
       "      <td>0.480</td>\n",
       "      <td>...</td>\n",
       "      <td>0.448</td>\n",
       "      <td>0.472</td>\n",
       "      <td>0.490</td>\n",
       "      <td>0.516</td>\n",
       "      <td>0.527</td>\n",
       "      <td>0.537</td>\n",
       "      <td>0.544</td>\n",
       "      <td>0.549</td>\n",
       "      <td>0.553</td>\n",
       "      <td>0.563</td>\n",
       "    </tr>\n",
       "  </tbody>\n",
       "</table>\n",
       "<p>4176 rows × 35 columns</p>\n",
       "</div>"
      ],
      "text/plain": [
       "     Code  Year  depression_percentage  HDI_UNDP HDI Rank (2018)      Country  \\\n",
       "0     AFG  2002               4.124928     0.373             170  Afghanistan   \n",
       "1     AFG  2003               4.125230     0.383             170  Afghanistan   \n",
       "2     AFG  2004               4.126384     0.398             170  Afghanistan   \n",
       "3     AFG  2005               4.126908     0.408             170  Afghanistan   \n",
       "4     AFG  2006               4.128638     0.417             170  Afghanistan   \n",
       "...   ...   ...                    ...       ...             ...          ...   \n",
       "4171  ZWE  2013               3.128192     0.516             150     Zimbabwe   \n",
       "4172  ZWE  2014               3.140290     0.525             150     Zimbabwe   \n",
       "4173  ZWE  2015               3.155710     0.529             150     Zimbabwe   \n",
       "4174  ZWE  2016               3.174134     0.532             150     Zimbabwe   \n",
       "4175  ZWE  2017               3.192789     0.535             150     Zimbabwe   \n",
       "\n",
       "       1990   1991   1992   1993  ...   2009   2010   2011   2012   2013  \\\n",
       "0     0.298  0.304  0.312  0.308  ...  0.447  0.464  0.465  0.479  0.485   \n",
       "1     0.298  0.304  0.312  0.308  ...  0.447  0.464  0.465  0.479  0.485   \n",
       "2     0.298  0.304  0.312  0.308  ...  0.447  0.464  0.465  0.479  0.485   \n",
       "3     0.298  0.304  0.312  0.308  ...  0.447  0.464  0.465  0.479  0.485   \n",
       "4     0.298  0.304  0.312  0.308  ...  0.447  0.464  0.465  0.479  0.485   \n",
       "...     ...    ...    ...    ...  ...    ...    ...    ...    ...    ...   \n",
       "4171  0.498  0.500  0.485  0.480  ...  0.448  0.472  0.490  0.516  0.527   \n",
       "4172  0.498  0.500  0.485  0.480  ...  0.448  0.472  0.490  0.516  0.527   \n",
       "4173  0.498  0.500  0.485  0.480  ...  0.448  0.472  0.490  0.516  0.527   \n",
       "4174  0.498  0.500  0.485  0.480  ...  0.448  0.472  0.490  0.516  0.527   \n",
       "4175  0.498  0.500  0.485  0.480  ...  0.448  0.472  0.490  0.516  0.527   \n",
       "\n",
       "       2014   2015   2016   2017   2018  \n",
       "0     0.488  0.490  0.491  0.493  0.496  \n",
       "1     0.488  0.490  0.491  0.493  0.496  \n",
       "2     0.488  0.490  0.491  0.493  0.496  \n",
       "3     0.488  0.490  0.491  0.493  0.496  \n",
       "4     0.488  0.490  0.491  0.493  0.496  \n",
       "...     ...    ...    ...    ...    ...  \n",
       "4171  0.537  0.544  0.549  0.553  0.563  \n",
       "4172  0.537  0.544  0.549  0.553  0.563  \n",
       "4173  0.537  0.544  0.549  0.553  0.563  \n",
       "4174  0.537  0.544  0.549  0.553  0.563  \n",
       "4175  0.537  0.544  0.549  0.553  0.563  \n",
       "\n",
       "[4176 rows x 35 columns]"
      ]
     },
     "execution_count": 40,
     "metadata": {},
     "output_type": "execute_result"
    }
   ],
   "source": [
    "df_hdi_gen"
   ]
  }
 ],
 "metadata": {
  "kernelspec": {
   "display_name": "Python 3",
   "language": "python",
   "name": "python3"
  },
  "language_info": {
   "codemirror_mode": {
    "name": "ipython",
    "version": 3
   },
   "file_extension": ".py",
   "mimetype": "text/x-python",
   "name": "python",
   "nbconvert_exporter": "python",
   "pygments_lexer": "ipython3",
   "version": "3.8.5"
  }
 },
 "nbformat": 4,
 "nbformat_minor": 4
}
